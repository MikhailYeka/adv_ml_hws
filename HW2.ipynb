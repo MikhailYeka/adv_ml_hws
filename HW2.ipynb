{
 "cells": [
  {
   "cell_type": "markdown",
   "metadata": {},
   "source": [
    "### Продвинутое машинное обучение: \n",
    "## Домашнее задание 2\n",
    "\n",
    "Второе домашнее задание — самое большое в курсе, в нём придётся и концептуально подумать о происходящем, и технические трудности тоже порешать. Как и раньше, в качестве решения ожидается ссылка на jupyter-ноутбук на вашем github (или публичный, или с доступом для snikolenko); ссылку обязательно нужно прислать в виде сданного домашнего задания на портале Академии. Как всегда, любые комментарии, новые идеи и рассуждения на тему категорически приветствуются. \n",
    "\n",
    "Второе задание — это полноценный проект по анализу данных, начиная от анализа постановки задачи и заканчивая сравнением результатов разных моделей. Задача реальная и серьёзная, хотя тему я выбрал развлекательную: мы будем строить вероятностную рейтинг-систему для спортивного “Что? Где? Когда?” (ЧГК).\n",
    "\n",
    "Background: в спортивном “Что? Где? Когда?” соревнующиеся команды отвечают на одни и те же вопросы. После минуты обсуждения команды записывают и сдают свои ответы на карточках; побеждает тот, кто ответил на большее число вопросов. Турнир обычно состоит из нескольких десятков вопросов (обычно 36 или 45, иногда 60, больше редко). Часто бывают синхронные турниры, когда на одни и те же вопросы отвечают команды на сотнях игровых площадок по всему миру, т.е. в одном турнире могут играть сотни, а то и тысячи команд. Соответственно, нам нужно:\n",
    "построить рейтинг-лист, который способен нетривиально предсказывать результаты будущих турниров;\n",
    "при этом, поскольку ЧГК — это хобби, и контрактов тут никаких нет, игроки постоянно переходят из команды в команду, сильный игрок может на один турнир сесть поиграть за другую команду и т.д.; поэтому единицей рейтинг-листа должна быть не команда, а отдельный игрок;\n",
    "а что сильно упрощает задачу и переводит её в область домашних заданий на EM-алгоритм — это характер данных: начиная с какого-то момента, в базу результатов начали вносить все повопросные результаты команд, т.е. в данных будут записи вида “какая команда на какой вопрос правильно ответила”.\n",
    "Я сделал за вас только первый шаг: выкачал через API сайта рейтинга ЧГК все нужные данные, чтобы сайт не прилёг под вашими многочисленными скрейперами. :) Полученные данные лежат в формате pickle вот здесь:\n",
    "https://www.dropbox.com/s/s4qj0fpsn378m2i/chgk.zip \n",
    "\n",
    "1. Прочитайте и проанализируйте данные, выберите турниры, в которых есть данные о составах команд и повопросных результатах (поле mask в results.pkl). Для унификации предлагаю:\n",
    "    взять в тренировочный набор турниры с dateStart из 2019 года; \n",
    "    в тестовый — турниры с dateStart из 2020 года.\n",
    "2. Постройте baseline-модель на основе линейной или логистической регрессии, которая будет обучать рейтинг-лист игроков. Замечания и подсказки:\n",
    "    \n",
    "    повопросные результаты — это фактически результаты броска монетки, и их предсказание скорее всего имеет отношение к бинарной классификации;\n",
    "    \n",
    "    в разных турнирах вопросы совсем разного уровня сложности, поэтому модель должна это учитывать; скорее всего, модель должна будет явно обучать не только силу каждого игрока, но и сложность каждого вопроса;\n",
    "    \n",
    "    для baseline-модели можно забыть о командах и считать, что повопросные результаты команды просто относятся к каждому из её игроков.\n",
    "3. Качество рейтинг-системы оценивается качеством предсказаний результатов турниров. Но сами повопросные результаты наши модели предсказывать вряд ли смогут, ведь неизвестно, насколько сложными окажутся вопросы в будущих турнирах; да и не нужны эти предсказания сами по себе. Поэтому:\n",
    "\n",
    "    предложите способ предсказать результаты нового турнира с известными составами, но неизвестными вопросами, в виде ранжирования команд;\n",
    "\n",
    "    в качестве метрики качества на тестовом наборе давайте считать ранговые корреляции Спирмена и Кендалла (их можно взять в пакете scipy) между реальным ранжированием в результатах турнира и предсказанным моделью, усреднённые по тестовому множеству турниров.\n",
    "\n",
    "4. Теперь главное: ЧГК — это всё-таки командная игра. Поэтому:\n",
    "\n",
    "    предложите способ учитывать то, что на вопрос отвечают сразу несколько игроков; скорее всего, понадобятся скрытые переменные; не стесняйтесь делать упрощающие предположения, но теперь переменные “игрок X ответил на вопрос Y” при условии данных должны стать зависимыми для игроков одной и той же команды;\n",
    "    \n",
    "    разработайте EM-схему для обучения этой модели, реализуйте её в коде;\n",
    "\n",
    "    обучите несколько итераций, убедитесь, что целевые метрики со временем растут (скорее всего, ненамного, но расти должны), выберите лучшую модель, используя целевые метрики.\n",
    "\n",
    "5. А что там с вопросами? Постройте “рейтинг-лист” турниров по сложности вопросов. Соответствует ли он интуиции (например, на чемпионате мира в целом должны быть сложные вопросы, а на турнирах для школьников — простые)? Если будет интересно: постройте топ сложных и простых вопросов со ссылками на конкретные записи в базе вопросов ЧГК (это чисто техническое дело, тут никакого ML нету).\n",
    "\n",
    "6. Бонус: постройте топ игроков по предсказанной вашей моделью силе игры, а рядом с именами игроков напишите общее число вопросов, которое они сыграли. Скорее всего, вы увидите, что топ занят игроками, которые сыграли совсем мало вопросов, около 100 или даже меньше; если вы поищете их в официальном рейтинге ЧГК, вы увидите, что это какие-то непонятные ноунеймы. В baseline-модели, скорее всего, такой эффект будет гораздо слабее.\n",
    "\n",
    "Это естественное свойство модели: за счёт EM-схемы влияние 1-2 удачно сыгранных турниров будет только усиливаться, потому что неудачных турниров, чтобы его компенсировать, у этих игроков нет. Более того, это не мешает метрикам качества, потому что если эти игроки сыграли всего 1-2 турнира в 2019-м, скорее всего они ничего или очень мало сыграли и в 2020, и их рейтинги никак не влияют на качество тестовых предсказаний. Но для реального рейтинга такое свойство, конечно, было бы крайне нежелательным. Давайте попробуем его исправить:\n",
    "    \n",
    "    сначала жёстко: выберите разумную отсечку по числу вопросов, учитывая, что в одном турнире их обычно 30-50;\n",
    "\n",
    "    можно ли просто выбросить игроков, которые мало играли, и переобучить модель? почему? предложите, как нужно изменить модель, чтобы не учитывать слишком мало сыгравших, и переобучите модель;\n",
    "    \n",
    "    но всё-таки это не слишком хорошее решение: если выбрать маленькую отсечку, будут ноунеймы в топе, а если большую, то получится, что у нового игрока слишком долго не будет рейтинга; скорее всего, никакой “золотой середины” тут не получится;\n",
    "    \n",
    "    предложите более концептуальное решение для топа игроков в рейтинг-листе; если получится, реализуйте его на практике (за это уж точно будут серьёзные бонусные баллы).\n",
    "\n",
    "7. Бонус: игроки со временем учатся играть лучше (а иногда бывает и наоборот). А в нашей модели получается, что первые неудачные турниры новичка будут тянуть его рейтинг вниз всю жизнь — это нехорошо, рейтинг должен быть достаточно гибким и иметь возможность меняться даже у игроков, отыгравших сотни турниров. Давайте попробуем этого добиться:\n",
    "\n",
    "    если хватит вычислительных ресурсов, сначала сделайте baseline совсем без таких схем, обучив рейтинги на всех турнирах с повопросными результатами, а не только на турнирах 2019 года; улучшилось ли качество предсказаний на 2020?\n",
    "    \n",
    "    одну схему со временем мы уже использовали: брали для обучения только последний год турниров; примерно так делают, например, в теннисной чемпионской гонке; у этой схемы есть свои преимущества, но есть и недостатки (например, достаточно мало играть год, чтобы полностью пропасть из рейтинга);\n",
    "    \n",
    "    предложите варианты базовой модели или алгоритма её обучения, которые могли бы реализовать изменения рейтинга со временем; если получится, реализуйте их на практике, проверьте, улучшатся ли предсказания на 2020."
   ]
  },
  {
   "cell_type": "markdown",
   "metadata": {},
   "source": [
    "## 1. Подготовка данных"
   ]
  },
  {
   "cell_type": "code",
   "execution_count": 1,
   "metadata": {},
   "outputs": [],
   "source": [
    "from copy import deepcopy\n",
    "from datetime import datetime\n",
    "from pprint import pprint\n",
    "from typing import List, Dict\n",
    "import pickle\n",
    "\n",
    "from matplotlib import pyplot as plt\n",
    "from sklearn.linear_model import LogisticRegression\n",
    "from scipy.stats import kendalltau, spearmanr\n",
    "from tqdm import tqdm\n",
    "import numpy as np\n",
    "import pandas as pd\n",
    "\n",
    "%matplotlib inline"
   ]
  },
  {
   "cell_type": "code",
   "execution_count": 2,
   "metadata": {},
   "outputs": [],
   "source": [
    "import warnings\n",
    "warnings.filterwarnings(\"ignore\")"
   ]
  },
  {
   "cell_type": "code",
   "execution_count": 3,
   "metadata": {},
   "outputs": [],
   "source": [
    "# Загружаем данные\n",
    "with open('chgk/results.pkl', 'rb') as file:\n",
    "    all_results = pickle.load(file)\n",
    "    \n",
    "with open('chgk/tournaments.pkl', 'rb') as file:\n",
    "    all_tournaments = pickle.load(file)\n",
    "    \n",
    "with open('chgk/players.pkl', 'rb') as file:\n",
    "    all_players = pickle.load(file)"
   ]
  },
  {
   "cell_type": "code",
   "execution_count": 4,
   "metadata": {},
   "outputs": [
    {
     "name": "stdout",
     "output_type": "stream",
     "text": [
      "Изначально было 5528 турниров, оставили 3652 с масками\n"
     ]
    }
   ],
   "source": [
    "results_with_mask = {}\n",
    "\n",
    "for k, v in all_results.items():\n",
    "    if len(v) > 0:\n",
    "        try:\n",
    "            if v[0]['mask'] is not None and v[0]['teamMembers'] != []:\n",
    "                results_with_mask[k] = v\n",
    "        except KeyError:\n",
    "            pass\n",
    "print(f'Изначально было {len(all_results.keys())} турниров, оставили {len(results_with_mask.keys())} с масками')"
   ]
  },
  {
   "cell_type": "code",
   "execution_count": 5,
   "metadata": {},
   "outputs": [
    {
     "name": "stdout",
     "output_type": "stream",
     "text": [
      "Получилось 674 турниров в 2019 году (train) и 173 в 2020 году (test)\n"
     ]
    }
   ],
   "source": [
    "# Возьмём теперь данные только для 2019 в качестве train, для 2020 - в качестве test.\n",
    "YEAR_FOR_TRAIN = 2019\n",
    "YEAR_FOR_TEST = 2020\n",
    "train_results = {}\n",
    "test_results = {}\n",
    "\n",
    "for k, v in results_with_mask.items():\n",
    "    tournament_date = datetime.fromisoformat(all_tournaments[k]['dateStart'])\n",
    "    if tournament_date.year == YEAR_FOR_TRAIN:\n",
    "        train_results[k] = v\n",
    "    elif tournament_date.year == YEAR_FOR_TEST:\n",
    "        test_results[k] = v\n",
    "print(f'Получилось {len(train_results.keys())} турниров в 2019 году (train) и {len(test_results.keys())} в 2020 году (test)')"
   ]
  },
  {
   "cell_type": "markdown",
   "metadata": {},
   "source": [
    "# 2. Применение логрега \n",
    "\n",
    "Постройте baseline-модель на основе линейной или логистической регрессии, которая будет обучать рейтинг-лист игроков. Замечания и подсказки:\n",
    "    \n",
    "    повопросные результаты — это фактически результаты броска монетки, и их предсказание скорее всего имеет отношение к бинарной классификации;\n",
    "    \n",
    "    в разных турнирах вопросы совсем разного уровня сложности, поэтому модель должна это учитывать; скорее всего, модель должна будет явно обучать не только силу каждого игрока, но и сложность каждого вопроса;\n",
    "    \n",
    "    для baseline-модели можно забыть о командах и считать, что повопросные результаты команды просто относятся к каждому из её игроков."
   ]
  },
  {
   "cell_type": "markdown",
   "metadata": {},
   "source": [
    "Положим, что $p(X)$ -- рейтинг игрока $X$ (вероятность игрока ответить на какой-то вопрос). Распишем теперь $p(X)$: $p(X) = \\int_Q p(X, Q=q) dq $ - рейтинг игрока, рассчитываемый по множеству всех вопросов $Q$, на которые он пытался отвечать. Здесь мы ввели характеристику сложности вопросов $q$; её можно интерпетировать как долю команд, которые правильно ответили на данные вопрос. Тогда итоговые формулы приобретут вид:\n",
    "\n",
    "$$p(X) = \\int_Q p(X|Q=q) p(Q=q) dq,$$ $$p(Q=q) = \\frac{N_{correct}}{N_{correct}+N_{incorrect}}.$$\n",
    "\n",
    "Фактически здесь наша модель -- $P(X|Q=q)$ -- её будем обучать для каждого игрока. "
   ]
  },
  {
   "cell_type": "markdown",
   "metadata": {},
   "source": [
    "### Важное замечание\n",
    "В отдельных турнирах нашлись команды, у которых длина маски ответов немного меньше, чем длина маски у других командах. Мне кажется, это произошло из-за того, что команда не прошла в следующий тур игры (не знаю, есть ли такое в ЧГК, но предположить такое мне кажется разумным. А потому, если длина у команды для данного турнира меньше максимально возможной для данного турнира, будем считать, что команда просто не отвечала на те вопросы. \n",
    "\n",
    "Иными словами, будем дополнять маски ответов нулями до максимальной длины. "
   ]
  },
  {
   "cell_type": "code",
   "execution_count": 6,
   "metadata": {
    "scrolled": false
   },
   "outputs": [],
   "source": [
    "def form_question_id(tournament_id: int, question_num: int) -> int:\n",
    "    return 1000 * tournament_id + question_num\n",
    "\n",
    "\n",
    "def define_mask_len(teams: Dict[str, str]) -> int:\n",
    "    '''\n",
    "    Будем считать, что если маска None, то просто пропустим такую\n",
    "    '''\n",
    "    mask_len = 0\n",
    "    for team in teams:\n",
    "        if team['mask'] is not None:\n",
    "            mask_len = max(mask_len, len(team['mask']))\n",
    "    return mask_len\n",
    "\n",
    "\n",
    "def form_question_complexity(results: Dict[str, list]) -> Dict[int, float]:\n",
    "    '''\n",
    "    Здесь будем считать сложность вопросов. \n",
    "    '''\n",
    "    ans_dict = {}\n",
    "    for tournament_id, teams in results.items():\n",
    "        teams_number = len(teams)\n",
    "        mask_len = define_mask_len(teams)\n",
    "        question_complexity = [0] * mask_len\n",
    "        for team in teams:\n",
    "            mask = team['mask']\n",
    "            if mask is None:\n",
    "                mask = ['0'] * mask_len\n",
    "            for i, m_i in enumerate(mask):\n",
    "                if m_i not in ['0', '1']:\n",
    "                    mask_i = 0\n",
    "                else:\n",
    "                    mask_i = int(m_i)\n",
    "                question_complexity[i] += mask_i\n",
    "        question_complexity = [q / teams_number for q in question_complexity]\n",
    "        for q_i, q in enumerate(question_complexity):\n",
    "            ans_dict[form_question_id(tournament_id, q_i)] = 1 - q\n",
    "    return ans_dict\n",
    "\n",
    "\n",
    "question_compl_train = form_question_complexity(train_results)\n",
    "question_compl_test = form_question_complexity(test_results)"
   ]
  },
  {
   "cell_type": "markdown",
   "metadata": {},
   "source": [
    "Построим распределение для Q."
   ]
  },
  {
   "cell_type": "code",
   "execution_count": 7,
   "metadata": {
    "scrolled": false
   },
   "outputs": [
    {
     "data": {
      "image/png": "[encoded data removed]",
      "text/plain": [
       "<Figure size 432x288 with 1 Axes>"
      ]
     },
     "metadata": {
      "needs_background": "light"
     },
     "output_type": "display_data"
    },
    {
     "data": {
      "image/png": "[encoded data removed]",
      "text/plain": [
       "<Figure size 432x288 with 1 Axes>"
      ]
     },
     "metadata": {
      "needs_background": "light"
     },
     "output_type": "display_data"
    }
   ],
   "source": [
    "plt.hist(question_compl_train.values(), bins=50)\n",
    "plt.title('Train questions complexity')\n",
    "plt.show()\n",
    "plt.hist(question_compl_test.values(), bins=50)\n",
    "plt.title('Test questions complexity')\n",
    "plt.show()"
   ]
  },
  {
   "cell_type": "code",
   "execution_count": 8,
   "metadata": {},
   "outputs": [],
   "source": [
    "def get_players_question(results: Dict[str, list]) -> pd.DataFrame:\n",
    "    '''\n",
    "    Эта функция из сырых данных будет формировать таблицу, состоящую из колонок:\n",
    "    - team_id\n",
    "    - tournamennt_id\n",
    "    - question_id\n",
    "    - player_id\n",
    "    - question_complexity\n",
    "    - bool_ans\n",
    "    Каждая строка таблицы содержит результат ответа каждого игрока на вопрос. При этом каждому игроку \n",
    "    добавляется 1, если команда ответила положительно, иначе 0.\n",
    "    '''\n",
    "    ans_dict = {\n",
    "        'team_id': [], \n",
    "        'tournament_id': [],\n",
    "        'question_id': [], \n",
    "        'player_id': [],\n",
    "        'question_complexity': [],\n",
    "        'bool_ans': []\n",
    "    }\n",
    "    question_complexity = form_question_complexity(results)\n",
    "    for tournament_id, teams in results.items():\n",
    "        teams_number = len(teams)\n",
    "        mask_len = define_mask_len(teams)\n",
    "        for team in teams:\n",
    "            team_id = team['team']['id']\n",
    "            for member in team['teamMembers']:\n",
    "                team_member_id = member['player']['id']\n",
    "                if team['mask'] is not None:\n",
    "                    team_mask = team['mask']\n",
    "                else:\n",
    "                    team_mask = '0' * mask_len\n",
    "                for q_i in range(mask_len):\n",
    "                    if q_i < len(team_mask):\n",
    "                        if team_mask[q_i] not in ['0', '1']:\n",
    "                            bool_ans = 0\n",
    "                        else:\n",
    "                            bool_ans = int(team_mask[q_i])\n",
    "                    else:\n",
    "                        bool_ans = 0\n",
    "                    quest_id = form_question_id(tournament_id, q_i)\n",
    "                    \n",
    "                    ans_dict['team_id'].append(team_id)\n",
    "                    ans_dict['tournament_id'].append(tournament_id)\n",
    "                    ans_dict['question_id'].append(quest_id)\n",
    "                    ans_dict['player_id'].append(team_member_id)\n",
    "                    ans_dict['question_complexity'].append(question_complexity[quest_id])\n",
    "                    ans_dict['bool_ans'].append(bool_ans)\n",
    "    \n",
    "    return pd.DataFrame.from_records(data=ans_dict)"
   ]
  },
  {
   "cell_type": "code",
   "execution_count": 9,
   "metadata": {},
   "outputs": [
    {
     "name": "stdout",
     "output_type": "stream",
     "text": [
      "(25533186, 6)\n"
     ]
    },
    {
     "data": {
      "text/html": [
       "<div>\n",
       "<style scoped>\n",
       "    .dataframe tbody tr th:only-of-type {\n",
       "        vertical-align: middle;\n",
       "    }\n",
       "\n",
       "    .dataframe tbody tr th {\n",
       "        vertical-align: top;\n",
       "    }\n",
       "\n",
       "    .dataframe thead th {\n",
       "        text-align: right;\n",
       "    }\n",
       "</style>\n",
       "<table border=\"1\" class=\"dataframe\">\n",
       "  <thead>\n",
       "    <tr style=\"text-align: right;\">\n",
       "      <th></th>\n",
       "      <th>bool_ans</th>\n",
       "      <th>player_id</th>\n",
       "      <th>question_complexity</th>\n",
       "      <th>question_id</th>\n",
       "      <th>team_id</th>\n",
       "      <th>tournament_id</th>\n",
       "    </tr>\n",
       "  </thead>\n",
       "  <tbody>\n",
       "    <tr>\n",
       "      <th>0</th>\n",
       "      <td>1</td>\n",
       "      <td>6212</td>\n",
       "      <td>0.116883</td>\n",
       "      <td>4772000</td>\n",
       "      <td>45556</td>\n",
       "      <td>4772</td>\n",
       "    </tr>\n",
       "    <tr>\n",
       "      <th>1</th>\n",
       "      <td>1</td>\n",
       "      <td>6212</td>\n",
       "      <td>0.220779</td>\n",
       "      <td>4772001</td>\n",
       "      <td>45556</td>\n",
       "      <td>4772</td>\n",
       "    </tr>\n",
       "    <tr>\n",
       "      <th>2</th>\n",
       "      <td>1</td>\n",
       "      <td>6212</td>\n",
       "      <td>0.554113</td>\n",
       "      <td>4772002</td>\n",
       "      <td>45556</td>\n",
       "      <td>4772</td>\n",
       "    </tr>\n",
       "    <tr>\n",
       "      <th>3</th>\n",
       "      <td>1</td>\n",
       "      <td>6212</td>\n",
       "      <td>0.480519</td>\n",
       "      <td>4772003</td>\n",
       "      <td>45556</td>\n",
       "      <td>4772</td>\n",
       "    </tr>\n",
       "    <tr>\n",
       "      <th>4</th>\n",
       "      <td>1</td>\n",
       "      <td>6212</td>\n",
       "      <td>0.121212</td>\n",
       "      <td>4772004</td>\n",
       "      <td>45556</td>\n",
       "      <td>4772</td>\n",
       "    </tr>\n",
       "  </tbody>\n",
       "</table>\n",
       "</div>"
      ],
      "text/plain": [
       "   bool_ans  player_id  question_complexity  question_id  team_id  \\\n",
       "0         1       6212             0.116883      4772000    45556   \n",
       "1         1       6212             0.220779      4772001    45556   \n",
       "2         1       6212             0.554113      4772002    45556   \n",
       "3         1       6212             0.480519      4772003    45556   \n",
       "4         1       6212             0.121212      4772004    45556   \n",
       "\n",
       "   tournament_id  \n",
       "0           4772  \n",
       "1           4772  \n",
       "2           4772  \n",
       "3           4772  \n",
       "4           4772  "
      ]
     },
     "execution_count": 9,
     "metadata": {},
     "output_type": "execute_result"
    }
   ],
   "source": [
    "train_df = get_players_question(train_results)\n",
    "print(train_df.shape)\n",
    "train_df.head()"
   ]
  },
  {
   "cell_type": "code",
   "execution_count": 10,
   "metadata": {
    "scrolled": true
   },
   "outputs": [
    {
     "name": "stdout",
     "output_type": "stream",
     "text": [
      "(4809049, 6)\n"
     ]
    },
    {
     "data": {
      "text/html": [
       "<div>\n",
       "<style scoped>\n",
       "    .dataframe tbody tr th:only-of-type {\n",
       "        vertical-align: middle;\n",
       "    }\n",
       "\n",
       "    .dataframe tbody tr th {\n",
       "        vertical-align: top;\n",
       "    }\n",
       "\n",
       "    .dataframe thead th {\n",
       "        text-align: right;\n",
       "    }\n",
       "</style>\n",
       "<table border=\"1\" class=\"dataframe\">\n",
       "  <thead>\n",
       "    <tr style=\"text-align: right;\">\n",
       "      <th></th>\n",
       "      <th>bool_ans</th>\n",
       "      <th>player_id</th>\n",
       "      <th>question_complexity</th>\n",
       "      <th>question_id</th>\n",
       "      <th>team_id</th>\n",
       "      <th>tournament_id</th>\n",
       "    </tr>\n",
       "  </thead>\n",
       "  <tbody>\n",
       "    <tr>\n",
       "      <th>0</th>\n",
       "      <td>1</td>\n",
       "      <td>30152</td>\n",
       "      <td>0.717391</td>\n",
       "      <td>4957000</td>\n",
       "      <td>49804</td>\n",
       "      <td>4957</td>\n",
       "    </tr>\n",
       "    <tr>\n",
       "      <th>1</th>\n",
       "      <td>1</td>\n",
       "      <td>30152</td>\n",
       "      <td>0.880435</td>\n",
       "      <td>4957001</td>\n",
       "      <td>49804</td>\n",
       "      <td>4957</td>\n",
       "    </tr>\n",
       "    <tr>\n",
       "      <th>2</th>\n",
       "      <td>1</td>\n",
       "      <td>30152</td>\n",
       "      <td>0.141304</td>\n",
       "      <td>4957002</td>\n",
       "      <td>49804</td>\n",
       "      <td>4957</td>\n",
       "    </tr>\n",
       "    <tr>\n",
       "      <th>3</th>\n",
       "      <td>1</td>\n",
       "      <td>30152</td>\n",
       "      <td>0.423913</td>\n",
       "      <td>4957003</td>\n",
       "      <td>49804</td>\n",
       "      <td>4957</td>\n",
       "    </tr>\n",
       "    <tr>\n",
       "      <th>4</th>\n",
       "      <td>1</td>\n",
       "      <td>30152</td>\n",
       "      <td>0.739130</td>\n",
       "      <td>4957004</td>\n",
       "      <td>49804</td>\n",
       "      <td>4957</td>\n",
       "    </tr>\n",
       "  </tbody>\n",
       "</table>\n",
       "</div>"
      ],
      "text/plain": [
       "   bool_ans  player_id  question_complexity  question_id  team_id  \\\n",
       "0         1      30152             0.717391      4957000    49804   \n",
       "1         1      30152             0.880435      4957001    49804   \n",
       "2         1      30152             0.141304      4957002    49804   \n",
       "3         1      30152             0.423913      4957003    49804   \n",
       "4         1      30152             0.739130      4957004    49804   \n",
       "\n",
       "   tournament_id  \n",
       "0           4957  \n",
       "1           4957  \n",
       "2           4957  \n",
       "3           4957  \n",
       "4           4957  "
      ]
     },
     "execution_count": 10,
     "metadata": {},
     "output_type": "execute_result"
    }
   ],
   "source": [
    "test_df = get_players_question(test_results)\n",
    "print(test_df.shape)\n",
    "test_df.head()"
   ]
  },
  {
   "cell_type": "markdown",
   "metadata": {},
   "source": [
    "Теперь обучим для каждого игрока логистическую регрессию $P(X|q=Q)$, где как признаки будем рассматривать вектор, состоящий из сложностей вопросов, на которые ответил игрок, а в качестве метки класса - результат ответа игрока на вопрос (ответил или не ответил, то есть 0 или 1).\n",
    "\n",
    "$$P(X|Q=q) = \\sigma(\\omega q + \\omega_0)$$\n",
    "\n",
    "Тогда рейтинг $P(X)$, согласно формуле $p(X) = \\int_Q p(X|Q=q) p(Q=q) dq,$ будет интеграл, взятый по всем вопросам. Для построения распределения $P(Q=q)$ воспользуемся гистограммой распределения, приведённой выше. "
   ]
  },
  {
   "cell_type": "code",
   "execution_count": 11,
   "metadata": {},
   "outputs": [],
   "source": [
    "def count_complexity(question_complexities: List[float], bins_number: int = 100) -> List[float]:\n",
    "    num_complexity = len(question_complexities)\n",
    "    hist = np.histogram(question_complexities, bins=bins_number)\n",
    "    points_distr_in_bins = hist[0] / num_complexity\n",
    "    complex_x_space = np.empty((hist[1].shape[0] - 1))\n",
    "    for i in range(bins_number):\n",
    "        complex_x_space[i] = (hist[1][i] + hist[1][i + 1]) / 2\n",
    "    return complex_x_space, points_distr_in_bins"
   ]
  },
  {
   "cell_type": "code",
   "execution_count": 12,
   "metadata": {},
   "outputs": [],
   "source": [
    "compl_train_space, question_compl_train_distr = count_complexity(list(question_compl_train.values()))\n",
    "_, question_compl_test_distr = count_complexity(list(question_compl_test.values()))"
   ]
  },
  {
   "cell_type": "code",
   "execution_count": 13,
   "metadata": {},
   "outputs": [
    {
     "name": "stderr",
     "output_type": "stream",
     "text": [
      "\r",
      "  0%|          | 0/59102 [00:00<?, ?it/s]"
     ]
    },
    {
     "name": "stdout",
     "output_type": "stream",
     "text": [
      "В тренировочной выборке всего 59102 игроков\n"
     ]
    },
    {
     "name": "stderr",
     "output_type": "stream",
     "text": [
      "100%|██████████| 59102/59102 [27:06<00:00, 36.34it/s]\n"
     ]
    }
   ],
   "source": [
    "# Теперь обучим модели для каждого игрока\n",
    "players_rating = {}\n",
    "players_unique_ids = list(train_df['player_id'].unique())\n",
    "print(f'В тренировочной выборке всего {len(players_unique_ids)} игроков')\n",
    "\n",
    "for player_id in tqdm(players_unique_ids):\n",
    "    current_data = train_df[train_df['player_id'] == player_id]\n",
    "    current_data_x = current_data['question_complexity'].to_numpy()\n",
    "    current_data_y = current_data['bool_ans'].to_numpy()\n",
    "    \n",
    "    # Некоторые команды не ответили ни на один вопрос (или ответили на все).\n",
    "    # Такие случаи одного класса надо обрабатывать отдельно. \n",
    "    if np.sum(current_data_y) == 0:\n",
    "        players_rating[player_id] = 0.\n",
    "    elif np.sum(current_data_y) == current_data_y.shape[0]:\n",
    "        players_rating[player_id] = 1.\n",
    "    else:\n",
    "        model = LogisticRegression()\n",
    "        model.fit(current_data_x.reshape(-1, 1), current_data_y)\n",
    "        preds = model.predict_proba(compl_train_space.reshape(-1, 1))[:, 1]\n",
    "        players_rating[player_id] = np.dot(preds, question_compl_train_distr)"
   ]
  },
  {
   "cell_type": "code",
   "execution_count": 14,
   "metadata": {
    "scrolled": true
   },
   "outputs": [
    {
     "data": {
      "image/png": "[encoded data removed]",
      "text/plain": [
       "<Figure size 432x288 with 1 Axes>"
      ]
     },
     "metadata": {
      "needs_background": "light"
     },
     "output_type": "display_data"
    }
   ],
   "source": [
    "# Чем больше рейтинг, тем лучше играет игрок. \n",
    "plt.hist(players_rating.values(), 100)\n",
    "plt.title('Рейтинг игроков')\n",
    "plt.ylabel('Количество игроков с данным рейтингом')\n",
    "plt.xlabel('Рейтинг игрока')\n",
    "plt.show()"
   ]
  },
  {
   "cell_type": "markdown",
   "metadata": {},
   "source": [
    "Видно, что распределение имеет такой вид, что у большинства игроков рейтинг лежит где-то посередине. "
   ]
  },
  {
   "cell_type": "code",
   "execution_count": 15,
   "metadata": {
    "scrolled": false
   },
   "outputs": [
    {
     "data": {
      "text/html": [
       "<div>\n",
       "<style scoped>\n",
       "    .dataframe tbody tr th:only-of-type {\n",
       "        vertical-align: middle;\n",
       "    }\n",
       "\n",
       "    .dataframe tbody tr th {\n",
       "        vertical-align: top;\n",
       "    }\n",
       "\n",
       "    .dataframe thead th {\n",
       "        text-align: right;\n",
       "    }\n",
       "</style>\n",
       "<table border=\"1\" class=\"dataframe\">\n",
       "  <thead>\n",
       "    <tr style=\"text-align: right;\">\n",
       "      <th></th>\n",
       "      <th>player_name</th>\n",
       "      <th>player_rating</th>\n",
       "    </tr>\n",
       "  </thead>\n",
       "  <tbody>\n",
       "    <tr>\n",
       "      <th>0</th>\n",
       "      <td>Инга Андрисовна Лоренц</td>\n",
       "      <td>0.902756</td>\n",
       "    </tr>\n",
       "    <tr>\n",
       "      <th>1</th>\n",
       "      <td>Валентина  Подюкова</td>\n",
       "      <td>0.898312</td>\n",
       "    </tr>\n",
       "    <tr>\n",
       "      <th>2</th>\n",
       "      <td>София Евгеньевна Лебедева</td>\n",
       "      <td>0.894171</td>\n",
       "    </tr>\n",
       "    <tr>\n",
       "      <th>3</th>\n",
       "      <td>Давид Сергеевич Кан</td>\n",
       "      <td>0.891613</td>\n",
       "    </tr>\n",
       "    <tr>\n",
       "      <th>4</th>\n",
       "      <td>Михаил Владимирович Завьялов</td>\n",
       "      <td>0.891613</td>\n",
       "    </tr>\n",
       "    <tr>\n",
       "      <th>5</th>\n",
       "      <td>Юлия  Крюкова</td>\n",
       "      <td>0.881608</td>\n",
       "    </tr>\n",
       "    <tr>\n",
       "      <th>6</th>\n",
       "      <td>Наталья  Артемьева</td>\n",
       "      <td>0.881608</td>\n",
       "    </tr>\n",
       "    <tr>\n",
       "      <th>7</th>\n",
       "      <td>Екатерина  Горелова</td>\n",
       "      <td>0.881608</td>\n",
       "    </tr>\n",
       "    <tr>\n",
       "      <th>8</th>\n",
       "      <td>Елена Борисовна Бровченко</td>\n",
       "      <td>0.867191</td>\n",
       "    </tr>\n",
       "    <tr>\n",
       "      <th>9</th>\n",
       "      <td>Надежда Фёдоровна Бирюкова</td>\n",
       "      <td>0.866010</td>\n",
       "    </tr>\n",
       "    <tr>\n",
       "      <th>10</th>\n",
       "      <td>Арина  Гринко</td>\n",
       "      <td>0.861430</td>\n",
       "    </tr>\n",
       "    <tr>\n",
       "      <th>11</th>\n",
       "      <td>Глеб Юрьевич Гаврилов</td>\n",
       "      <td>0.861320</td>\n",
       "    </tr>\n",
       "    <tr>\n",
       "      <th>12</th>\n",
       "      <td>Полина Дмитриевна Джегур</td>\n",
       "      <td>0.859179</td>\n",
       "    </tr>\n",
       "    <tr>\n",
       "      <th>13</th>\n",
       "      <td>Елизавета Витальевна Коваленко</td>\n",
       "      <td>0.859179</td>\n",
       "    </tr>\n",
       "    <tr>\n",
       "      <th>14</th>\n",
       "      <td>Сабит Бахитович Мамбетов</td>\n",
       "      <td>0.846765</td>\n",
       "    </tr>\n",
       "    <tr>\n",
       "      <th>15</th>\n",
       "      <td>Георгий Александрович Корнеев</td>\n",
       "      <td>0.844879</td>\n",
       "    </tr>\n",
       "    <tr>\n",
       "      <th>16</th>\n",
       "      <td>Данута Владимировна Дембовская</td>\n",
       "      <td>0.844845</td>\n",
       "    </tr>\n",
       "    <tr>\n",
       "      <th>17</th>\n",
       "      <td>Максим  Ребров</td>\n",
       "      <td>0.844845</td>\n",
       "    </tr>\n",
       "    <tr>\n",
       "      <th>18</th>\n",
       "      <td>Юлия Александровна Карпук</td>\n",
       "      <td>0.842685</td>\n",
       "    </tr>\n",
       "    <tr>\n",
       "      <th>19</th>\n",
       "      <td>Юрий Фёдорович Пятница</td>\n",
       "      <td>0.842685</td>\n",
       "    </tr>\n",
       "  </tbody>\n",
       "</table>\n",
       "</div>"
      ],
      "text/plain": [
       "                       player_name  player_rating\n",
       "0           Инга Андрисовна Лоренц       0.902756\n",
       "1              Валентина  Подюкова       0.898312\n",
       "2        София Евгеньевна Лебедева       0.894171\n",
       "3              Давид Сергеевич Кан       0.891613\n",
       "4     Михаил Владимирович Завьялов       0.891613\n",
       "5                    Юлия  Крюкова       0.881608\n",
       "6               Наталья  Артемьева       0.881608\n",
       "7              Екатерина  Горелова       0.881608\n",
       "8        Елена Борисовна Бровченко       0.867191\n",
       "9       Надежда Фёдоровна Бирюкова       0.866010\n",
       "10                   Арина  Гринко       0.861430\n",
       "11           Глеб Юрьевич Гаврилов       0.861320\n",
       "12        Полина Дмитриевна Джегур       0.859179\n",
       "13  Елизавета Витальевна Коваленко       0.859179\n",
       "14        Сабит Бахитович Мамбетов       0.846765\n",
       "15   Георгий Александрович Корнеев       0.844879\n",
       "16  Данута Владимировна Дембовская       0.844845\n",
       "17                  Максим  Ребров       0.844845\n",
       "18       Юлия Александровна Карпук       0.842685\n",
       "19          Юрий Фёдорович Пятница       0.842685"
      ]
     },
     "execution_count": 15,
     "metadata": {},
     "output_type": "execute_result"
    }
   ],
   "source": [
    "# Выведем 20 чамых лучших игроков за 2019 год. \n",
    "ans_dict = {'player_name': [], 'player_rating': []}\n",
    "for (player_id, player_rating) in sorted(players_rating.items(), key=lambda x: x[1], reverse=True)[:20]:\n",
    "    ans_dict['player_name'].append(all_players[player_id]['name'] + ' ' + all_players[player_id]['patronymic'] + ' ' + all_players[player_id]['surname'])\n",
    "    ans_dict['player_rating'].append(player_rating)\n",
    "pd.DataFrame.from_records(ans_dict)"
   ]
  },
  {
   "cell_type": "markdown",
   "metadata": {},
   "source": [
    "# 3\n",
    "Качество рейтинг-системы оценивается качеством предсказаний результатов турниров. Но сами повопросные результаты наши модели предсказывать вряд ли смогут, ведь неизвестно, насколько сложными окажутся вопросы в будущих турнирах; да и не нужны эти предсказания сами по себе. Поэтому:\n",
    "\n",
    "предложите способ предсказать результаты нового турнира с известными составами, но неизвестными вопросами, в виде ранжирования команд;\n",
    "\n",
    "в качестве метрики качества на тестовом наборе давайте считать ранговые корреляции Спирмена и Кендалла (их можно взять в пакете scipy) между реальным ранжированием в результатах турнира и предсказанным моделью, усреднённые по тестовому множеству турниров."
   ]
  },
  {
   "cell_type": "markdown",
   "metadata": {},
   "source": [
    "Если вероятность игроком $X_i$ правильно ответить на вопрос $P(X_i)$, то вероятность не ответить на вопрос -- $1-P(X_i)$. Тогда вероятность участников команды $T$ не ответить на вопрос равна произведению этих вероятностей $\\prod_{X_i \\in T} \\left( 1 - P(X_i) \\right)$, в таком случае вероятность правильно ответить на вопрос (рейтинг команды) равна $$\\prod_{X_i \\in T} \\left( 1 - P(X_i) \\right).$$\n"
   ]
  },
  {
   "cell_type": "code",
   "execution_count": 16,
   "metadata": {},
   "outputs": [],
   "source": [
    "def rate_team(team: Dict[str, str], players_rating: Dict[int, float], p_mean: float) -> float:\n",
    "    ans = 1\n",
    "    for player in team['teamMembers']:\n",
    "        player_id = player['player']['id']\n",
    "        if player_id in players_rating.keys():\n",
    "            p = players_rating[player_id]\n",
    "        else:\n",
    "            p = p_mean\n",
    "        ans *= (1 - p)\n",
    "    return 1 - ans"
   ]
  },
  {
   "cell_type": "code",
   "execution_count": 17,
   "metadata": {},
   "outputs": [
    {
     "name": "stdout",
     "output_type": "stream",
     "text": [
      "Средняя корреляция Спирмана 0.6544473494191112, средняя корреляция Кендалла 0.4984782366708275.\n"
     ]
    }
   ],
   "source": [
    "kendaltau_s = []\n",
    "spearman_s = []\n",
    "\n",
    "# Если игрока нет в рейтинге, то присвоим ему средний рейтинг.\n",
    "p_mean = np.mean(list(players_rating.values()))\n",
    "\n",
    "for tournament_id, teams in test_results.items():\n",
    "    my_team_rating = np.empty_like(teams)\n",
    "    real_places = np.empty_like(my_team_rating)\n",
    "    for i, team in enumerate(teams):\n",
    "        my_team_rating[i] = rate_team(team, players_rating, p_mean)\n",
    "        real_places[i] = team['position']\n",
    "    \n",
    "    my_team_places = np.argsort(my_team_rating)[::-1]\n",
    "    kendalltau_i = kendalltau(my_team_places, real_places)[0]\n",
    "    spearmanr_i = spearmanr(my_team_places, real_places)[0]\n",
    "    if not np.isnan(kendalltau_i) and not np.isnan(spearmanr_i):\n",
    "        kendaltau_s.append(kendalltau_i)\n",
    "        spearman_s.append(spearmanr_i)\n",
    "\n",
    "print(f'Средняя корреляция Спирмана {np.mean(spearman_s)}, средняя корреляция Кендалла {np.mean(kendaltau_s)}.')"
   ]
  },
  {
   "cell_type": "markdown",
   "metadata": {},
   "source": [
    "# 4\n",
    "Теперь главное: ЧГК — это всё-таки командная игра. Поэтому:\n",
    "\n",
    " - предложите способ учитывать то, что на вопрос отвечают сразу несколько игроков; скорее всего, понадобятся скрытые переменные; не стесняйтесь делать упрощающие предположения, но теперь переменные “игрок X ответил на вопрос Y” при условии данных должны стать зависимыми для игроков одной и той же команды;\n",
    "    \n",
    " - разработайте EM-схему для обучения этой модели, реализуйте её в коде;\n",
    "\n",
    " - обучите несколько итераций, убедитесь, что целевые метрики со временем растут (скорее всего, ненамного, но расти должны), выберите лучшую модель, используя целевые метрики.\n",
    "\n"
   ]
  },
  {
   "cell_type": "markdown",
   "metadata": {},
   "source": [
    "Здесь мы откажемся от предположения, которое использовали ранее: если команда ответила верно, то верно ответил каждый игрок этой команды. Вместо этого введём другие предположения:\n",
    "\n",
    "1. Если команда не дала правильного ответа на вопрос, то его не дал ни один из участников. \n",
    "\n",
    "2. Если участник команды дал верный ответ на вопрос, то и команда ответила верно. \n",
    "\n",
    "Конечно, может быть такая ситуация, что игрок в процессе обсуждения предложил верный вариант ответа, но команда решила ответить другим ответом (который оказался неверным), но мы пренебрежём подобными вариантами. \n",
    "\n",
    "В такой (немного упрощённой) постановке возникает проблема: в качестве ответа в обучающей выборке должны быть метки для каждого игрока -- дал он правильный ответ или нет. Вместо этого у нас есть подобные метки для команды в целом. В таком случае воспользуемся лекцией и введём скрытые переменные -- ответы игроков -- ответы же команд будут наблюдаемыми переменными. \n",
    "\n",
    "Обозначим турниры буквой $\\tau$, команды буквой $t$. Тогда, если команда $\\tau$ принимает участие в турнире $t$, обозначим это как $t \\in \\tau$. Обозначим игроков как $p$; если игрок является участником команды $t$ (которая участовала в турнире $\\tau$), обозначим это как $p \\in t$. Вопрос обозначим как $q$; тогда, если вопрос был задан в турнире, то он будет обозначаться как $q \\in \\tau$. Теперь к самому интересному. Обозначим как $y_{t}^{q}$ ответ команды $t$ на турнире $\\tau$ на вопрос $q$ (наблюдаемая переменная). Тогда как $z_{p}^{q}$ обозначим ответ игрока $p$ на вопрос $q$ (скрытая переменная). Заметим область значений переменных $y$ и $z$:\n",
    "$y \\in \\{0, 1\\}$, $z \\in \\{0, 1\\}$.  \n",
    "\n",
    "Теперь формально запишем сделанные выше предположения:\n",
    "\n",
    "$$1. \\forall p \\in t: P ( z_{p}^{q} = 1 | y_{t}^{q} = 0 ) = 0 ,$$\n",
    "$$2. \\forall p \\in t: P ( y_{t}^{q} = 1 | z_{p}^{q} = 1 ) = 1 .$$"
   ]
  },
  {
   "cell_type": "markdown",
   "metadata": {},
   "source": [
    "ЕМ-схема будет выглядеть следующим образом:\n",
    "\n",
    " - Е шаг:\n",
    "\n",
    "Оценим скрытые параметры $z_{p}^{q}$ при фиксированных параметрах $\\theta^{(m)}$.\n",
    "\n",
    "$$\\operatorname{E}[z_{p}^{q} | y_{t}^{q},\\theta^{(m)}] = P(z_{p}^{q} = 1 | y_{t}^{q},\\theta^{(m)}) = A^{*}, $$\n",
    "\n",
    "Если $y_{t}^{q} = 0,$ то $A^{*} = 0$; в другом случае, если $y_{t}^{q} = 1$, то \n",
    "$$ A^{*} = P(z_{p}^{q} = 1 | y_{t}^{q} = 1, \\theta^{(m)}) = \\frac{ P(y_{t}^{q} = 1 | z_{p}^{q} = 1) P(z_{p}^{q} = 1 | \\theta^{(m)}) }{ P(y_{t}^{q} = 1 | \\theta^{(m)}) } = \\frac{ P(z_{p}^{q} = 1 | \\theta^{(m)}) }{ 1 - P(y_{t}^{q} = 0 | \\theta^{(m)}) } = \\frac{ P(z_{p}^{q} = 1 | \\theta^{(m)}) }{ 1 - \\prod_{p_1 \\in t}( 1 - P(z_{p_1}^{q}=1 | \\theta^{(m)})) }$$\n",
    "\n",
    "Учтено, что $P(y_{t}^{q} = 1 | z_{p}^{q} = 1) = 1 $ и $P(y_{t}^{q} = 1 | \\theta^{(m)}) + P(y_{t}^{q} = 0 | \\theta^{(m)}) = 1 $.  \n",
    "\n",
    " - М шаг:\n",
    "\n",
    "Максимизируем правдоподобие $P(y, z | \\theta)$ по параметрам $\\theta$. Иными словами, просто обучаем логистическую регрессию на целевые переменные $z_{p}^{q}$. В результате оптимизации получаем новые параметры $\\theta^{(m+1)}$. "
   ]
  },
  {
   "cell_type": "code",
   "execution_count": 74,
   "metadata": {},
   "outputs": [],
   "source": [
    "train_df['preds'] = np.zeros(train_df.shape[0])\n",
    "train_df['team_ans'] = train_df['bool_ans']\n",
    "train_df['player_ans'] = train_df['bool_ans']"
   ]
  },
  {
   "cell_type": "code",
   "execution_count": 75,
   "metadata": {
    "scrolled": false
   },
   "outputs": [
    {
     "name": "stdout",
     "output_type": "stream",
     "text": [
      "(25533186, 9)\n"
     ]
    },
    {
     "data": {
      "text/html": [
       "<div>\n",
       "<style scoped>\n",
       "    .dataframe tbody tr th:only-of-type {\n",
       "        vertical-align: middle;\n",
       "    }\n",
       "\n",
       "    .dataframe tbody tr th {\n",
       "        vertical-align: top;\n",
       "    }\n",
       "\n",
       "    .dataframe thead th {\n",
       "        text-align: right;\n",
       "    }\n",
       "</style>\n",
       "<table border=\"1\" class=\"dataframe\">\n",
       "  <thead>\n",
       "    <tr style=\"text-align: right;\">\n",
       "      <th></th>\n",
       "      <th>bool_ans</th>\n",
       "      <th>player_id</th>\n",
       "      <th>question_complexity</th>\n",
       "      <th>question_id</th>\n",
       "      <th>team_id</th>\n",
       "      <th>tournament_id</th>\n",
       "      <th>preds</th>\n",
       "      <th>team_ans</th>\n",
       "      <th>player_ans</th>\n",
       "    </tr>\n",
       "  </thead>\n",
       "  <tbody>\n",
       "    <tr>\n",
       "      <th>0</th>\n",
       "      <td>1</td>\n",
       "      <td>6212</td>\n",
       "      <td>0.116883</td>\n",
       "      <td>4772000</td>\n",
       "      <td>45556</td>\n",
       "      <td>4772</td>\n",
       "      <td>0.0</td>\n",
       "      <td>1</td>\n",
       "      <td>1</td>\n",
       "    </tr>\n",
       "    <tr>\n",
       "      <th>1</th>\n",
       "      <td>1</td>\n",
       "      <td>6212</td>\n",
       "      <td>0.220779</td>\n",
       "      <td>4772001</td>\n",
       "      <td>45556</td>\n",
       "      <td>4772</td>\n",
       "      <td>0.0</td>\n",
       "      <td>1</td>\n",
       "      <td>1</td>\n",
       "    </tr>\n",
       "    <tr>\n",
       "      <th>2</th>\n",
       "      <td>1</td>\n",
       "      <td>6212</td>\n",
       "      <td>0.554113</td>\n",
       "      <td>4772002</td>\n",
       "      <td>45556</td>\n",
       "      <td>4772</td>\n",
       "      <td>0.0</td>\n",
       "      <td>1</td>\n",
       "      <td>1</td>\n",
       "    </tr>\n",
       "    <tr>\n",
       "      <th>3</th>\n",
       "      <td>1</td>\n",
       "      <td>6212</td>\n",
       "      <td>0.480519</td>\n",
       "      <td>4772003</td>\n",
       "      <td>45556</td>\n",
       "      <td>4772</td>\n",
       "      <td>0.0</td>\n",
       "      <td>1</td>\n",
       "      <td>1</td>\n",
       "    </tr>\n",
       "    <tr>\n",
       "      <th>4</th>\n",
       "      <td>1</td>\n",
       "      <td>6212</td>\n",
       "      <td>0.121212</td>\n",
       "      <td>4772004</td>\n",
       "      <td>45556</td>\n",
       "      <td>4772</td>\n",
       "      <td>0.0</td>\n",
       "      <td>1</td>\n",
       "      <td>1</td>\n",
       "    </tr>\n",
       "  </tbody>\n",
       "</table>\n",
       "</div>"
      ],
      "text/plain": [
       "   bool_ans  player_id  question_complexity  question_id  team_id  \\\n",
       "0         1       6212             0.116883      4772000    45556   \n",
       "1         1       6212             0.220779      4772001    45556   \n",
       "2         1       6212             0.554113      4772002    45556   \n",
       "3         1       6212             0.480519      4772003    45556   \n",
       "4         1       6212             0.121212      4772004    45556   \n",
       "\n",
       "   tournament_id  preds  team_ans  player_ans  \n",
       "0           4772    0.0         1           1  \n",
       "1           4772    0.0         1           1  \n",
       "2           4772    0.0         1           1  \n",
       "3           4772    0.0         1           1  \n",
       "4           4772    0.0         1           1  "
      ]
     },
     "execution_count": 75,
     "metadata": {},
     "output_type": "execute_result"
    }
   ],
   "source": [
    "print(train_df.shape)\n",
    "train_df.head()"
   ]
  },
  {
   "cell_type": "code",
   "execution_count": 76,
   "metadata": {},
   "outputs": [],
   "source": [
    "class ProbLogisticRegression(LogisticRegression):\n",
    "    def fit(self, X, y):\n",
    "        X = np.array(X).reshape(-1, 1)\n",
    "        X = np.vstack([X, X])\n",
    "        sz = y.shape[0]\n",
    "        y_new = np.hstack([np.ones(sz), np.zeros(sz)])\n",
    "        weights = np.hstack([y, 1 - y])\n",
    "        return super().fit(X, y_new, weights)"
   ]
  },
  {
   "cell_type": "code",
   "execution_count": 77,
   "metadata": {},
   "outputs": [],
   "source": [
    "def init_models(df: pd.DataFrame) -> Dict[int, ProbLogisticRegression]:\n",
    "    '''\n",
    "    Инициализируем модели для каждого игрока\n",
    "    '''\n",
    "    models = {}\n",
    "    player_ids = list(df['player_id'].unique())\n",
    "    for player_id in player_ids:\n",
    "        models[player_id] = ProbLogisticRegression(solver='sag')\n",
    "    return models"
   ]
  },
  {
   "cell_type": "code",
   "execution_count": 78,
   "metadata": {},
   "outputs": [],
   "source": [
    "def make_preds(\n",
    "    df: pd.DataFrame, \n",
    "    models: Dict[int, ProbLogisticRegression]\n",
    ") -> None:\n",
    "    print('Making predictions ...')\n",
    "    for i in tqdm(range(df.shape[0])):\n",
    "        if df['team_ans'][i] == 1:\n",
    "            player_id = df['player_id'][i]\n",
    "            X = df['question_complexity'][i].reshape(-1, 1)\n",
    "            df['preds'][i] = models[player_id].predict_proba(X)[0][1]\n",
    "            if np.isnan(df['preds'][i]):\n",
    "                df['preds'][i] = 0"
   ]
  },
  {
   "cell_type": "code",
   "execution_count": 79,
   "metadata": {},
   "outputs": [],
   "source": [
    "def get_players_rating(\n",
    "    train_df: pd.DataFrame, \n",
    "    models: Dict[int, ProbLogisticRegression],\n",
    "    compl_train_space: List[float],\n",
    "    question_compl_train_distr: List[float]\n",
    ") -> Dict[int, float]:\n",
    "    \n",
    "    players_rating = {}\n",
    "    \n",
    "    for player_id, model in models.items():\n",
    "        preds = models[player_id].predict_proba(compl_train_space.reshape(-1, 1))[:, 1]\n",
    "        players_rating[player_id] = np.dot(preds, question_compl_train_distr)\n",
    "\n",
    "    return players_rating\n",
    "\n",
    "\n",
    "def calc_metrics(\n",
    "    results: Dict[int, dict], \n",
    "    df_players_rating: pd.DataFrame,\n",
    "    players_rating: Dict[int, float]\n",
    ") -> str:\n",
    "    kendaltau_s = []\n",
    "    spearman_s = []\n",
    "\n",
    "    # Если игрока нет в рейтинге, то присвоим ему средний рейтинг.\n",
    "    p_mean = np.mean(list(players_rating.values()))\n",
    "\n",
    "    for tournament_id, teams in results.items():\n",
    "        my_team_rating = np.empty_like(teams)\n",
    "        real_places = np.empty_like(teams)\n",
    "        for i, team in enumerate(teams):\n",
    "            my_team_rating[i] = rate_team(team, players_rating, p_mean)\n",
    "            real_places[i] = team['position']\n",
    "\n",
    "        my_team_places = np.argsort(my_team_rating)[::-1]\n",
    "        kendalltau_i = kendalltau(my_team_places, real_places)[0]\n",
    "        spearmanr_i = spearmanr(my_team_places, real_places)[0]\n",
    "        if not np.isnan(kendalltau_i) and not np.isnan(spearmanr_i):\n",
    "            kendaltau_s.append(kendalltau_i)\n",
    "            spearman_s.append(spearmanr_i)\n",
    "\n",
    "    return f'Средняя корреляция Спирмана {np.mean(spearman_s)}, средняя корреляция Кендалла {np.mean(kendaltau_s)}.'"
   ]
  },
  {
   "cell_type": "code",
   "execution_count": 80,
   "metadata": {},
   "outputs": [],
   "source": [
    "def e_step(\n",
    "    df: pd.DataFrame, \n",
    "    models: Dict[int, ProbLogisticRegression]\n",
    ") -> None:\n",
    "    '''\n",
    "    Е-шаг\n",
    "    '''\n",
    "    df['player_ans'] = df['preds']\n",
    "    i = 0\n",
    "    while i < df.shape[0]:\n",
    "        team_id = df['team_id'][i]\n",
    "        \n",
    "        prod = 1\n",
    "        j = i\n",
    "        while j < df.shape[0] and team_id == df['team_id'][j]:\n",
    "            prod *= 1 - df['player_ans'][j]\n",
    "            j += 1\n",
    "        prod = 1 - prod\n",
    "        \n",
    "        while i < j:\n",
    "            if prod == 0:\n",
    "                df['player_ans'][j] = 0\n",
    "            else:\n",
    "                df['player_ans'][j] /= prod\n",
    "            i += 1    \n",
    "    i = 0\n",
    "    while i < df.shape[0]:\n",
    "        q_id = df['question_id'][i]\n",
    "        rating = 0\n",
    "        j = i\n",
    "        \n",
    "        while j < df.shape[0] and q_id == df['question_id'][j]:\n",
    "            rating += df['player_ans'][j]\n",
    "            j += 1\n",
    "        rating /= j - i\n",
    "        \n",
    "        while i < j:\n",
    "            df['player_ans'][i] = rating\n",
    "            i += 1    \n",
    "    print('e_step done')\n",
    "\n",
    "    \n",
    "def m_step(\n",
    "    df: pd.DataFrame, \n",
    "    models: Dict[int, ProbLogisticRegression]\n",
    ") -> None:\n",
    "    '''\n",
    "    М - шаг\n",
    "    '''\n",
    "    for player_id in tqdm(df['player_id'].unique()):\n",
    "        cur_player = df[df['player_id'] == player_id]\n",
    "        models[player_id].fit(cur_player['question_complexity'], cur_player['player_ans'])\n",
    "    print('m_step done')"
   ]
  },
  {
   "cell_type": "code",
   "execution_count": 81,
   "metadata": {
    "scrolled": false
   },
   "outputs": [
    {
     "name": "stderr",
     "output_type": "stream",
     "text": [
      "100%|██████████| 59102/59102 [27:27<00:00, 35.88it/s]   \n",
      "  0%|          | 819/25533186 [00:00<1:40:39, 4227.44it/s]"
     ]
    },
    {
     "name": "stdout",
     "output_type": "stream",
     "text": [
      "m_step done\n",
      "Making predictions ...\n"
     ]
    },
    {
     "name": "stderr",
     "output_type": "stream",
     "text": [
      "100%|██████████| 25533186/25533186 [46:22<00:00, 9177.86it/s]  \n"
     ]
    }
   ],
   "source": [
    "models = init_models(train_df)\n",
    "m_step(train_df, models)\n",
    "make_preds(train_df, models)"
   ]
  },
  {
   "cell_type": "code",
   "execution_count": 82,
   "metadata": {
    "scrolled": true
   },
   "outputs": [
    {
     "data": {
      "text/plain": [
       "'Средняя корреляция Спирмана 0.653888002109101, средняя корреляция Кендалла 0.49799604302637573.'"
      ]
     },
     "execution_count": 82,
     "metadata": {},
     "output_type": "execute_result"
    }
   ],
   "source": [
    "calc_metrics(test_results, test_df, get_players_rating(test_df, models, compl_train_space, question_compl_train_distr))"
   ]
  },
  {
   "cell_type": "code",
   "execution_count": 83,
   "metadata": {
    "collapsed": true
   },
   "outputs": [
    {
     "name": "stdout",
     "output_type": "stream",
     "text": [
      "Шаг 1:\n",
      "e_step done\n"
     ]
    },
    {
     "name": "stderr",
     "output_type": "stream",
     "text": [
      "  2%|▏         | 1345/59102 [00:58<42:02, 22.90it/s] \n"
     ]
    },
    {
     "ename": "ValueError",
     "evalue": "Input contains NaN, infinity or a value too large for dtype('float64').",
     "output_type": "error",
     "traceback": [
      "\u001b[0;31m---------------------------------------------------------------------------\u001b[0m",
      "\u001b[0;31mValueError\u001b[0m                                Traceback (most recent call last)",
      "\u001b[0;32m<ipython-input-83-9865899cb2c8>\u001b[0m in \u001b[0;36m<module>\u001b[0;34m\u001b[0m\n\u001b[1;32m      2\u001b[0m     \u001b[0mprint\u001b[0m\u001b[0;34m(\u001b[0m\u001b[0;34mf'Шаг {i + 1}:'\u001b[0m\u001b[0;34m)\u001b[0m\u001b[0;34m\u001b[0m\u001b[0;34m\u001b[0m\u001b[0m\n\u001b[1;32m      3\u001b[0m     \u001b[0me_step\u001b[0m\u001b[0;34m(\u001b[0m\u001b[0mtrain_df\u001b[0m\u001b[0;34m,\u001b[0m \u001b[0mmodels\u001b[0m\u001b[0;34m)\u001b[0m\u001b[0;34m\u001b[0m\u001b[0;34m\u001b[0m\u001b[0m\n\u001b[0;32m----> 4\u001b[0;31m     \u001b[0mm_step\u001b[0m\u001b[0;34m(\u001b[0m\u001b[0mtrain_df\u001b[0m\u001b[0;34m,\u001b[0m \u001b[0mmodels\u001b[0m\u001b[0;34m)\u001b[0m\u001b[0;34m\u001b[0m\u001b[0;34m\u001b[0m\u001b[0m\n\u001b[0m\u001b[1;32m      5\u001b[0m     \u001b[0mmake_preds\u001b[0m\u001b[0;34m(\u001b[0m\u001b[0mtrain_df\u001b[0m\u001b[0;34m,\u001b[0m \u001b[0mmodels\u001b[0m\u001b[0;34m)\u001b[0m\u001b[0;34m\u001b[0m\u001b[0;34m\u001b[0m\u001b[0m\n\u001b[1;32m      6\u001b[0m     print(calc_metrics(\n",
      "\u001b[0;32m<ipython-input-80-ab4075a3f906>\u001b[0m in \u001b[0;36mm_step\u001b[0;34m(df, models)\u001b[0m\n\u001b[1;32m     50\u001b[0m     \u001b[0;32mfor\u001b[0m \u001b[0mplayer_id\u001b[0m \u001b[0;32min\u001b[0m \u001b[0mtqdm\u001b[0m\u001b[0;34m(\u001b[0m\u001b[0mdf\u001b[0m\u001b[0;34m[\u001b[0m\u001b[0;34m'player_id'\u001b[0m\u001b[0;34m]\u001b[0m\u001b[0;34m.\u001b[0m\u001b[0munique\u001b[0m\u001b[0;34m(\u001b[0m\u001b[0;34m)\u001b[0m\u001b[0;34m)\u001b[0m\u001b[0;34m:\u001b[0m\u001b[0;34m\u001b[0m\u001b[0;34m\u001b[0m\u001b[0m\n\u001b[1;32m     51\u001b[0m         \u001b[0mcur_player\u001b[0m \u001b[0;34m=\u001b[0m \u001b[0mdf\u001b[0m\u001b[0;34m[\u001b[0m\u001b[0mdf\u001b[0m\u001b[0;34m[\u001b[0m\u001b[0;34m'player_id'\u001b[0m\u001b[0;34m]\u001b[0m \u001b[0;34m==\u001b[0m \u001b[0mplayer_id\u001b[0m\u001b[0;34m]\u001b[0m\u001b[0;34m\u001b[0m\u001b[0;34m\u001b[0m\u001b[0m\n\u001b[0;32m---> 52\u001b[0;31m         \u001b[0mmodels\u001b[0m\u001b[0;34m[\u001b[0m\u001b[0mplayer_id\u001b[0m\u001b[0;34m]\u001b[0m\u001b[0;34m.\u001b[0m\u001b[0mfit\u001b[0m\u001b[0;34m(\u001b[0m\u001b[0mcur_player\u001b[0m\u001b[0;34m[\u001b[0m\u001b[0;34m'question_complexity'\u001b[0m\u001b[0;34m]\u001b[0m\u001b[0;34m,\u001b[0m \u001b[0mcur_player\u001b[0m\u001b[0;34m[\u001b[0m\u001b[0;34m'player_ans'\u001b[0m\u001b[0;34m]\u001b[0m\u001b[0;34m)\u001b[0m\u001b[0;34m\u001b[0m\u001b[0;34m\u001b[0m\u001b[0m\n\u001b[0m\u001b[1;32m     53\u001b[0m     \u001b[0mprint\u001b[0m\u001b[0;34m(\u001b[0m\u001b[0;34m'm_step done'\u001b[0m\u001b[0;34m)\u001b[0m\u001b[0;34m\u001b[0m\u001b[0;34m\u001b[0m\u001b[0m\n",
      "\u001b[0;32m<ipython-input-76-83be6324f3dc>\u001b[0m in \u001b[0;36mfit\u001b[0;34m(self, X, y)\u001b[0m\n\u001b[1;32m      6\u001b[0m         \u001b[0my_new\u001b[0m \u001b[0;34m=\u001b[0m \u001b[0mnp\u001b[0m\u001b[0;34m.\u001b[0m\u001b[0mhstack\u001b[0m\u001b[0;34m(\u001b[0m\u001b[0;34m[\u001b[0m\u001b[0mnp\u001b[0m\u001b[0;34m.\u001b[0m\u001b[0mones\u001b[0m\u001b[0;34m(\u001b[0m\u001b[0msz\u001b[0m\u001b[0;34m)\u001b[0m\u001b[0;34m,\u001b[0m \u001b[0mnp\u001b[0m\u001b[0;34m.\u001b[0m\u001b[0mzeros\u001b[0m\u001b[0;34m(\u001b[0m\u001b[0msz\u001b[0m\u001b[0;34m)\u001b[0m\u001b[0;34m]\u001b[0m\u001b[0;34m)\u001b[0m\u001b[0;34m\u001b[0m\u001b[0;34m\u001b[0m\u001b[0m\n\u001b[1;32m      7\u001b[0m         \u001b[0mweights\u001b[0m \u001b[0;34m=\u001b[0m \u001b[0mnp\u001b[0m\u001b[0;34m.\u001b[0m\u001b[0mhstack\u001b[0m\u001b[0;34m(\u001b[0m\u001b[0;34m[\u001b[0m\u001b[0my\u001b[0m\u001b[0;34m,\u001b[0m \u001b[0;36m1\u001b[0m \u001b[0;34m-\u001b[0m \u001b[0my\u001b[0m\u001b[0;34m]\u001b[0m\u001b[0;34m)\u001b[0m\u001b[0;34m\u001b[0m\u001b[0;34m\u001b[0m\u001b[0m\n\u001b[0;32m----> 8\u001b[0;31m         \u001b[0;32mreturn\u001b[0m \u001b[0msuper\u001b[0m\u001b[0;34m(\u001b[0m\u001b[0;34m)\u001b[0m\u001b[0;34m.\u001b[0m\u001b[0mfit\u001b[0m\u001b[0;34m(\u001b[0m\u001b[0mX\u001b[0m\u001b[0;34m,\u001b[0m \u001b[0my_new\u001b[0m\u001b[0;34m,\u001b[0m \u001b[0mweights\u001b[0m\u001b[0;34m)\u001b[0m\u001b[0;34m\u001b[0m\u001b[0;34m\u001b[0m\u001b[0m\n\u001b[0m",
      "\u001b[0;32m~/.venv/lib/python3.8/site-packages/sklearn/linear_model/_logistic.py\u001b[0m in \u001b[0;36mfit\u001b[0;34m(self, X, y, sample_weight)\u001b[0m\n\u001b[1;32m   1405\u001b[0m         \u001b[0;32melse\u001b[0m\u001b[0;34m:\u001b[0m\u001b[0;34m\u001b[0m\u001b[0;34m\u001b[0m\u001b[0m\n\u001b[1;32m   1406\u001b[0m             \u001b[0mprefer\u001b[0m \u001b[0;34m=\u001b[0m \u001b[0;34m'processes'\u001b[0m\u001b[0;34m\u001b[0m\u001b[0;34m\u001b[0m\u001b[0m\n\u001b[0;32m-> 1407\u001b[0;31m         fold_coefs_ = Parallel(n_jobs=self.n_jobs, verbose=self.verbose,\n\u001b[0m\u001b[1;32m   1408\u001b[0m                                \u001b[0;34m**\u001b[0m\u001b[0m_joblib_parallel_args\u001b[0m\u001b[0;34m(\u001b[0m\u001b[0mprefer\u001b[0m\u001b[0;34m=\u001b[0m\u001b[0mprefer\u001b[0m\u001b[0;34m)\u001b[0m\u001b[0;34m)\u001b[0m\u001b[0;34m(\u001b[0m\u001b[0;34m\u001b[0m\u001b[0;34m\u001b[0m\u001b[0m\n\u001b[1;32m   1409\u001b[0m             path_func(X, y, pos_class=class_, Cs=[C_],\n",
      "\u001b[0;32m~/.venv/lib/python3.8/site-packages/joblib/parallel.py\u001b[0m in \u001b[0;36m__call__\u001b[0;34m(self, iterable)\u001b[0m\n\u001b[1;32m   1046\u001b[0m             \u001b[0;31m# remaining jobs.\u001b[0m\u001b[0;34m\u001b[0m\u001b[0;34m\u001b[0m\u001b[0;34m\u001b[0m\u001b[0m\n\u001b[1;32m   1047\u001b[0m             \u001b[0mself\u001b[0m\u001b[0;34m.\u001b[0m\u001b[0m_iterating\u001b[0m \u001b[0;34m=\u001b[0m \u001b[0;32mFalse\u001b[0m\u001b[0;34m\u001b[0m\u001b[0;34m\u001b[0m\u001b[0m\n\u001b[0;32m-> 1048\u001b[0;31m             \u001b[0;32mif\u001b[0m \u001b[0mself\u001b[0m\u001b[0;34m.\u001b[0m\u001b[0mdispatch_one_batch\u001b[0m\u001b[0;34m(\u001b[0m\u001b[0miterator\u001b[0m\u001b[0;34m)\u001b[0m\u001b[0;34m:\u001b[0m\u001b[0;34m\u001b[0m\u001b[0;34m\u001b[0m\u001b[0m\n\u001b[0m\u001b[1;32m   1049\u001b[0m                 \u001b[0mself\u001b[0m\u001b[0;34m.\u001b[0m\u001b[0m_iterating\u001b[0m \u001b[0;34m=\u001b[0m \u001b[0mself\u001b[0m\u001b[0;34m.\u001b[0m\u001b[0m_original_iterator\u001b[0m \u001b[0;32mis\u001b[0m \u001b[0;32mnot\u001b[0m \u001b[0;32mNone\u001b[0m\u001b[0;34m\u001b[0m\u001b[0;34m\u001b[0m\u001b[0m\n\u001b[1;32m   1050\u001b[0m \u001b[0;34m\u001b[0m\u001b[0m\n",
      "\u001b[0;32m~/.venv/lib/python3.8/site-packages/joblib/parallel.py\u001b[0m in \u001b[0;36mdispatch_one_batch\u001b[0;34m(self, iterator)\u001b[0m\n\u001b[1;32m    864\u001b[0m                 \u001b[0;32mreturn\u001b[0m \u001b[0;32mFalse\u001b[0m\u001b[0;34m\u001b[0m\u001b[0;34m\u001b[0m\u001b[0m\n\u001b[1;32m    865\u001b[0m             \u001b[0;32melse\u001b[0m\u001b[0;34m:\u001b[0m\u001b[0;34m\u001b[0m\u001b[0;34m\u001b[0m\u001b[0m\n\u001b[0;32m--> 866\u001b[0;31m                 \u001b[0mself\u001b[0m\u001b[0;34m.\u001b[0m\u001b[0m_dispatch\u001b[0m\u001b[0;34m(\u001b[0m\u001b[0mtasks\u001b[0m\u001b[0;34m)\u001b[0m\u001b[0;34m\u001b[0m\u001b[0;34m\u001b[0m\u001b[0m\n\u001b[0m\u001b[1;32m    867\u001b[0m                 \u001b[0;32mreturn\u001b[0m \u001b[0;32mTrue\u001b[0m\u001b[0;34m\u001b[0m\u001b[0;34m\u001b[0m\u001b[0m\n\u001b[1;32m    868\u001b[0m \u001b[0;34m\u001b[0m\u001b[0m\n",
      "\u001b[0;32m~/.venv/lib/python3.8/site-packages/joblib/parallel.py\u001b[0m in \u001b[0;36m_dispatch\u001b[0;34m(self, batch)\u001b[0m\n\u001b[1;32m    782\u001b[0m         \u001b[0;32mwith\u001b[0m \u001b[0mself\u001b[0m\u001b[0;34m.\u001b[0m\u001b[0m_lock\u001b[0m\u001b[0;34m:\u001b[0m\u001b[0;34m\u001b[0m\u001b[0;34m\u001b[0m\u001b[0m\n\u001b[1;32m    783\u001b[0m             \u001b[0mjob_idx\u001b[0m \u001b[0;34m=\u001b[0m \u001b[0mlen\u001b[0m\u001b[0;34m(\u001b[0m\u001b[0mself\u001b[0m\u001b[0;34m.\u001b[0m\u001b[0m_jobs\u001b[0m\u001b[0;34m)\u001b[0m\u001b[0;34m\u001b[0m\u001b[0;34m\u001b[0m\u001b[0m\n\u001b[0;32m--> 784\u001b[0;31m             \u001b[0mjob\u001b[0m \u001b[0;34m=\u001b[0m \u001b[0mself\u001b[0m\u001b[0;34m.\u001b[0m\u001b[0m_backend\u001b[0m\u001b[0;34m.\u001b[0m\u001b[0mapply_async\u001b[0m\u001b[0;34m(\u001b[0m\u001b[0mbatch\u001b[0m\u001b[0;34m,\u001b[0m \u001b[0mcallback\u001b[0m\u001b[0;34m=\u001b[0m\u001b[0mcb\u001b[0m\u001b[0;34m)\u001b[0m\u001b[0;34m\u001b[0m\u001b[0;34m\u001b[0m\u001b[0m\n\u001b[0m\u001b[1;32m    785\u001b[0m             \u001b[0;31m# A job can complete so quickly than its callback is\u001b[0m\u001b[0;34m\u001b[0m\u001b[0;34m\u001b[0m\u001b[0;34m\u001b[0m\u001b[0m\n\u001b[1;32m    786\u001b[0m             \u001b[0;31m# called before we get here, causing self._jobs to\u001b[0m\u001b[0;34m\u001b[0m\u001b[0;34m\u001b[0m\u001b[0;34m\u001b[0m\u001b[0m\n",
      "\u001b[0;32m~/.venv/lib/python3.8/site-packages/joblib/_parallel_backends.py\u001b[0m in \u001b[0;36mapply_async\u001b[0;34m(self, func, callback)\u001b[0m\n\u001b[1;32m    206\u001b[0m     \u001b[0;32mdef\u001b[0m \u001b[0mapply_async\u001b[0m\u001b[0;34m(\u001b[0m\u001b[0mself\u001b[0m\u001b[0;34m,\u001b[0m \u001b[0mfunc\u001b[0m\u001b[0;34m,\u001b[0m \u001b[0mcallback\u001b[0m\u001b[0;34m=\u001b[0m\u001b[0;32mNone\u001b[0m\u001b[0;34m)\u001b[0m\u001b[0;34m:\u001b[0m\u001b[0;34m\u001b[0m\u001b[0;34m\u001b[0m\u001b[0m\n\u001b[1;32m    207\u001b[0m         \u001b[0;34m\"\"\"Schedule a func to be run\"\"\"\u001b[0m\u001b[0;34m\u001b[0m\u001b[0;34m\u001b[0m\u001b[0m\n\u001b[0;32m--> 208\u001b[0;31m         \u001b[0mresult\u001b[0m \u001b[0;34m=\u001b[0m \u001b[0mImmediateResult\u001b[0m\u001b[0;34m(\u001b[0m\u001b[0mfunc\u001b[0m\u001b[0;34m)\u001b[0m\u001b[0;34m\u001b[0m\u001b[0;34m\u001b[0m\u001b[0m\n\u001b[0m\u001b[1;32m    209\u001b[0m         \u001b[0;32mif\u001b[0m \u001b[0mcallback\u001b[0m\u001b[0;34m:\u001b[0m\u001b[0;34m\u001b[0m\u001b[0;34m\u001b[0m\u001b[0m\n\u001b[1;32m    210\u001b[0m             \u001b[0mcallback\u001b[0m\u001b[0;34m(\u001b[0m\u001b[0mresult\u001b[0m\u001b[0;34m)\u001b[0m\u001b[0;34m\u001b[0m\u001b[0;34m\u001b[0m\u001b[0m\n",
      "\u001b[0;32m~/.venv/lib/python3.8/site-packages/joblib/_parallel_backends.py\u001b[0m in \u001b[0;36m__init__\u001b[0;34m(self, batch)\u001b[0m\n\u001b[1;32m    570\u001b[0m         \u001b[0;31m# Don't delay the application, to avoid keeping the input\u001b[0m\u001b[0;34m\u001b[0m\u001b[0;34m\u001b[0m\u001b[0;34m\u001b[0m\u001b[0m\n\u001b[1;32m    571\u001b[0m         \u001b[0;31m# arguments in memory\u001b[0m\u001b[0;34m\u001b[0m\u001b[0;34m\u001b[0m\u001b[0;34m\u001b[0m\u001b[0m\n\u001b[0;32m--> 572\u001b[0;31m         \u001b[0mself\u001b[0m\u001b[0;34m.\u001b[0m\u001b[0mresults\u001b[0m \u001b[0;34m=\u001b[0m \u001b[0mbatch\u001b[0m\u001b[0;34m(\u001b[0m\u001b[0;34m)\u001b[0m\u001b[0;34m\u001b[0m\u001b[0;34m\u001b[0m\u001b[0m\n\u001b[0m\u001b[1;32m    573\u001b[0m \u001b[0;34m\u001b[0m\u001b[0m\n\u001b[1;32m    574\u001b[0m     \u001b[0;32mdef\u001b[0m \u001b[0mget\u001b[0m\u001b[0;34m(\u001b[0m\u001b[0mself\u001b[0m\u001b[0;34m)\u001b[0m\u001b[0;34m:\u001b[0m\u001b[0;34m\u001b[0m\u001b[0;34m\u001b[0m\u001b[0m\n",
      "\u001b[0;32m~/.venv/lib/python3.8/site-packages/joblib/parallel.py\u001b[0m in \u001b[0;36m__call__\u001b[0;34m(self)\u001b[0m\n\u001b[1;32m    260\u001b[0m         \u001b[0;31m# change the default number of processes to -1\u001b[0m\u001b[0;34m\u001b[0m\u001b[0;34m\u001b[0m\u001b[0;34m\u001b[0m\u001b[0m\n\u001b[1;32m    261\u001b[0m         \u001b[0;32mwith\u001b[0m \u001b[0mparallel_backend\u001b[0m\u001b[0;34m(\u001b[0m\u001b[0mself\u001b[0m\u001b[0;34m.\u001b[0m\u001b[0m_backend\u001b[0m\u001b[0;34m,\u001b[0m \u001b[0mn_jobs\u001b[0m\u001b[0;34m=\u001b[0m\u001b[0mself\u001b[0m\u001b[0;34m.\u001b[0m\u001b[0m_n_jobs\u001b[0m\u001b[0;34m)\u001b[0m\u001b[0;34m:\u001b[0m\u001b[0;34m\u001b[0m\u001b[0;34m\u001b[0m\u001b[0m\n\u001b[0;32m--> 262\u001b[0;31m             return [func(*args, **kwargs)\n\u001b[0m\u001b[1;32m    263\u001b[0m                     for func, args, kwargs in self.items]\n\u001b[1;32m    264\u001b[0m \u001b[0;34m\u001b[0m\u001b[0m\n",
      "\u001b[0;32m~/.venv/lib/python3.8/site-packages/joblib/parallel.py\u001b[0m in \u001b[0;36m<listcomp>\u001b[0;34m(.0)\u001b[0m\n\u001b[1;32m    260\u001b[0m         \u001b[0;31m# change the default number of processes to -1\u001b[0m\u001b[0;34m\u001b[0m\u001b[0;34m\u001b[0m\u001b[0;34m\u001b[0m\u001b[0m\n\u001b[1;32m    261\u001b[0m         \u001b[0;32mwith\u001b[0m \u001b[0mparallel_backend\u001b[0m\u001b[0;34m(\u001b[0m\u001b[0mself\u001b[0m\u001b[0;34m.\u001b[0m\u001b[0m_backend\u001b[0m\u001b[0;34m,\u001b[0m \u001b[0mn_jobs\u001b[0m\u001b[0;34m=\u001b[0m\u001b[0mself\u001b[0m\u001b[0;34m.\u001b[0m\u001b[0m_n_jobs\u001b[0m\u001b[0;34m)\u001b[0m\u001b[0;34m:\u001b[0m\u001b[0;34m\u001b[0m\u001b[0;34m\u001b[0m\u001b[0m\n\u001b[0;32m--> 262\u001b[0;31m             return [func(*args, **kwargs)\n\u001b[0m\u001b[1;32m    263\u001b[0m                     for func, args, kwargs in self.items]\n\u001b[1;32m    264\u001b[0m \u001b[0;34m\u001b[0m\u001b[0m\n",
      "\u001b[0;32m~/.venv/lib/python3.8/site-packages/sklearn/linear_model/_logistic.py\u001b[0m in \u001b[0;36m_logistic_regression_path\u001b[0;34m(X, y, pos_class, Cs, fit_intercept, max_iter, tol, verbose, solver, coef, class_weight, dual, penalty, intercept_scaling, multi_class, random_state, check_input, max_squared_sum, sample_weight, l1_ratio)\u001b[0m\n\u001b[1;32m    655\u001b[0m     \u001b[0;31m# and check length\u001b[0m\u001b[0;34m\u001b[0m\u001b[0;34m\u001b[0m\u001b[0;34m\u001b[0m\u001b[0m\n\u001b[1;32m    656\u001b[0m     \u001b[0;31m# Otherwise set them to 1 for all examples\u001b[0m\u001b[0;34m\u001b[0m\u001b[0;34m\u001b[0m\u001b[0;34m\u001b[0m\u001b[0m\n\u001b[0;32m--> 657\u001b[0;31m     sample_weight = _check_sample_weight(sample_weight, X,\n\u001b[0m\u001b[1;32m    658\u001b[0m                                          dtype=X.dtype)\n\u001b[1;32m    659\u001b[0m \u001b[0;34m\u001b[0m\u001b[0m\n",
      "\u001b[0;32m~/.venv/lib/python3.8/site-packages/sklearn/utils/validation.py\u001b[0m in \u001b[0;36m_check_sample_weight\u001b[0;34m(sample_weight, X, dtype)\u001b[0m\n\u001b[1;32m   1292\u001b[0m         \u001b[0;32mif\u001b[0m \u001b[0mdtype\u001b[0m \u001b[0;32mis\u001b[0m \u001b[0;32mNone\u001b[0m\u001b[0;34m:\u001b[0m\u001b[0;34m\u001b[0m\u001b[0;34m\u001b[0m\u001b[0m\n\u001b[1;32m   1293\u001b[0m             \u001b[0mdtype\u001b[0m \u001b[0;34m=\u001b[0m \u001b[0;34m[\u001b[0m\u001b[0mnp\u001b[0m\u001b[0;34m.\u001b[0m\u001b[0mfloat64\u001b[0m\u001b[0;34m,\u001b[0m \u001b[0mnp\u001b[0m\u001b[0;34m.\u001b[0m\u001b[0mfloat32\u001b[0m\u001b[0;34m]\u001b[0m\u001b[0;34m\u001b[0m\u001b[0;34m\u001b[0m\u001b[0m\n\u001b[0;32m-> 1294\u001b[0;31m         sample_weight = check_array(\n\u001b[0m\u001b[1;32m   1295\u001b[0m             \u001b[0msample_weight\u001b[0m\u001b[0;34m,\u001b[0m \u001b[0maccept_sparse\u001b[0m\u001b[0;34m=\u001b[0m\u001b[0;32mFalse\u001b[0m\u001b[0;34m,\u001b[0m \u001b[0mensure_2d\u001b[0m\u001b[0;34m=\u001b[0m\u001b[0;32mFalse\u001b[0m\u001b[0;34m,\u001b[0m \u001b[0mdtype\u001b[0m\u001b[0;34m=\u001b[0m\u001b[0mdtype\u001b[0m\u001b[0;34m,\u001b[0m\u001b[0;34m\u001b[0m\u001b[0;34m\u001b[0m\u001b[0m\n\u001b[1;32m   1296\u001b[0m             \u001b[0morder\u001b[0m\u001b[0;34m=\u001b[0m\u001b[0;34m\"C\"\u001b[0m\u001b[0;34m\u001b[0m\u001b[0;34m\u001b[0m\u001b[0m\n",
      "\u001b[0;32m~/.venv/lib/python3.8/site-packages/sklearn/utils/validation.py\u001b[0m in \u001b[0;36minner_f\u001b[0;34m(*args, **kwargs)\u001b[0m\n\u001b[1;32m     70\u001b[0m                           FutureWarning)\n\u001b[1;32m     71\u001b[0m         \u001b[0mkwargs\u001b[0m\u001b[0;34m.\u001b[0m\u001b[0mupdate\u001b[0m\u001b[0;34m(\u001b[0m\u001b[0;34m{\u001b[0m\u001b[0mk\u001b[0m\u001b[0;34m:\u001b[0m \u001b[0marg\u001b[0m \u001b[0;32mfor\u001b[0m \u001b[0mk\u001b[0m\u001b[0;34m,\u001b[0m \u001b[0marg\u001b[0m \u001b[0;32min\u001b[0m \u001b[0mzip\u001b[0m\u001b[0;34m(\u001b[0m\u001b[0msig\u001b[0m\u001b[0;34m.\u001b[0m\u001b[0mparameters\u001b[0m\u001b[0;34m,\u001b[0m \u001b[0margs\u001b[0m\u001b[0;34m)\u001b[0m\u001b[0;34m}\u001b[0m\u001b[0;34m)\u001b[0m\u001b[0;34m\u001b[0m\u001b[0;34m\u001b[0m\u001b[0m\n\u001b[0;32m---> 72\u001b[0;31m         \u001b[0;32mreturn\u001b[0m \u001b[0mf\u001b[0m\u001b[0;34m(\u001b[0m\u001b[0;34m**\u001b[0m\u001b[0mkwargs\u001b[0m\u001b[0;34m)\u001b[0m\u001b[0;34m\u001b[0m\u001b[0;34m\u001b[0m\u001b[0m\n\u001b[0m\u001b[1;32m     73\u001b[0m     \u001b[0;32mreturn\u001b[0m \u001b[0minner_f\u001b[0m\u001b[0;34m\u001b[0m\u001b[0;34m\u001b[0m\u001b[0m\n\u001b[1;32m     74\u001b[0m \u001b[0;34m\u001b[0m\u001b[0m\n",
      "\u001b[0;32m~/.venv/lib/python3.8/site-packages/sklearn/utils/validation.py\u001b[0m in \u001b[0;36mcheck_array\u001b[0;34m(array, accept_sparse, accept_large_sparse, dtype, order, copy, force_all_finite, ensure_2d, allow_nd, ensure_min_samples, ensure_min_features, estimator)\u001b[0m\n\u001b[1;32m    642\u001b[0m \u001b[0;34m\u001b[0m\u001b[0m\n\u001b[1;32m    643\u001b[0m         \u001b[0;32mif\u001b[0m \u001b[0mforce_all_finite\u001b[0m\u001b[0;34m:\u001b[0m\u001b[0;34m\u001b[0m\u001b[0;34m\u001b[0m\u001b[0m\n\u001b[0;32m--> 644\u001b[0;31m             _assert_all_finite(array,\n\u001b[0m\u001b[1;32m    645\u001b[0m                                allow_nan=force_all_finite == 'allow-nan')\n\u001b[1;32m    646\u001b[0m \u001b[0;34m\u001b[0m\u001b[0m\n",
      "\u001b[0;32m~/.venv/lib/python3.8/site-packages/sklearn/utils/validation.py\u001b[0m in \u001b[0;36m_assert_all_finite\u001b[0;34m(X, allow_nan, msg_dtype)\u001b[0m\n\u001b[1;32m     94\u001b[0m                 not allow_nan and not np.isfinite(X).all()):\n\u001b[1;32m     95\u001b[0m             \u001b[0mtype_err\u001b[0m \u001b[0;34m=\u001b[0m \u001b[0;34m'infinity'\u001b[0m \u001b[0;32mif\u001b[0m \u001b[0mallow_nan\u001b[0m \u001b[0;32melse\u001b[0m \u001b[0;34m'NaN, infinity'\u001b[0m\u001b[0;34m\u001b[0m\u001b[0;34m\u001b[0m\u001b[0m\n\u001b[0;32m---> 96\u001b[0;31m             raise ValueError(\n\u001b[0m\u001b[1;32m     97\u001b[0m                     \u001b[0mmsg_err\u001b[0m\u001b[0;34m.\u001b[0m\u001b[0mformat\u001b[0m\u001b[0;34m\u001b[0m\u001b[0;34m\u001b[0m\u001b[0m\n\u001b[1;32m     98\u001b[0m                     (type_err,\n",
      "\u001b[0;31mValueError\u001b[0m: Input contains NaN, infinity or a value too large for dtype('float64')."
     ]
    }
   ],
   "source": [
    "for i in range(2):\n",
    "    print(f'Шаг {i + 1}:')\n",
    "    e_step(train_df, models)\n",
    "    m_step(train_df, models)\n",
    "    make_preds(train_df, models)\n",
    "    print(calc_metrics(\n",
    "        test_results, \n",
    "        test_df, \n",
    "        get_players_rating(\n",
    "            test_df, \n",
    "            models, \n",
    "            compl_train_space,\n",
    "            question_compl_train_distr\n",
    "        )))"
   ]
  },
  {
   "cell_type": "code",
   "execution_count": null,
   "metadata": {},
   "outputs": [
    {
     "name": "stdout",
     "output_type": "stream",
     "text": [
      "Шаг 1:\n"
     ]
    }
   ],
   "source": [
    "for i in range(2, 5):\n",
    "    print(f'Шаг {i + 1}:')\n",
    "    e_step(train_df, models)\n",
    "    m_step(train_df, models)\n",
    "    make_preds(train_df, models)\n",
    "    print(calc_metrics(\n",
    "        test_results, \n",
    "        test_df, \n",
    "        get_players_rating(\n",
    "            test_df, \n",
    "            models, \n",
    "            compl_train_space,\n",
    "            question_compl_train_distr\n",
    "        )))"
   ]
  },
  {
   "cell_type": "code",
   "execution_count": 58,
   "metadata": {
    "collapsed": true
   },
   "outputs": [
    {
     "ename": "AttributeError",
     "evalue": "'list' object has no attribute 'shape'",
     "output_type": "error",
     "traceback": [
      "\u001b[0;31m---------------------------------------------------------------------------\u001b[0m",
      "\u001b[0;31mAttributeError\u001b[0m                            Traceback (most recent call last)",
      "\u001b[0;32m<ipython-input-58-57d51562d93d>\u001b[0m in \u001b[0;36m<module>\u001b[0;34m\u001b[0m\n\u001b[0;32m----> 1\u001b[0;31m \u001b[0mcalc_metrics\u001b[0m\u001b[0;34m(\u001b[0m\u001b[0mtest_results\u001b[0m\u001b[0;34m,\u001b[0m \u001b[0mtest_df\u001b[0m\u001b[0;34m,\u001b[0m \u001b[0mget_players_rating\u001b[0m\u001b[0;34m(\u001b[0m\u001b[0mtest_df\u001b[0m\u001b[0;34m,\u001b[0m \u001b[0mmodels\u001b[0m\u001b[0;34m,\u001b[0m \u001b[0mcompl_train_space\u001b[0m\u001b[0;34m,\u001b[0m \u001b[0mquestion_compl_train_distr\u001b[0m\u001b[0;34m)\u001b[0m\u001b[0;34m)\u001b[0m\u001b[0;34m\u001b[0m\u001b[0;34m\u001b[0m\u001b[0m\n\u001b[0m",
      "\u001b[0;32m<ipython-input-23-2b38093708fa>\u001b[0m in \u001b[0;36mget_players_rating\u001b[0;34m(train_df, models, compl_train_space, question_compl_train_distr)\u001b[0m\n\u001b[1;32m      9\u001b[0m \u001b[0;34m\u001b[0m\u001b[0m\n\u001b[1;32m     10\u001b[0m     \u001b[0;32mfor\u001b[0m \u001b[0mplayer_id\u001b[0m\u001b[0;34m,\u001b[0m \u001b[0mmodel\u001b[0m \u001b[0;32min\u001b[0m \u001b[0mmodels\u001b[0m\u001b[0;34m.\u001b[0m\u001b[0mitems\u001b[0m\u001b[0;34m(\u001b[0m\u001b[0;34m)\u001b[0m\u001b[0;34m:\u001b[0m\u001b[0;34m\u001b[0m\u001b[0;34m\u001b[0m\u001b[0m\n\u001b[0;32m---> 11\u001b[0;31m         \u001b[0mpreds\u001b[0m \u001b[0;34m=\u001b[0m \u001b[0mmodels\u001b[0m\u001b[0;34m[\u001b[0m\u001b[0mplayer_id\u001b[0m\u001b[0;34m]\u001b[0m\u001b[0;34m.\u001b[0m\u001b[0mpredict_proba\u001b[0m\u001b[0;34m(\u001b[0m\u001b[0mcompl_train_space\u001b[0m\u001b[0;34m.\u001b[0m\u001b[0mreshape\u001b[0m\u001b[0;34m(\u001b[0m\u001b[0;34m-\u001b[0m\u001b[0;36m1\u001b[0m\u001b[0;34m,\u001b[0m \u001b[0;36m1\u001b[0m\u001b[0;34m)\u001b[0m\u001b[0;34m)\u001b[0m\u001b[0;34m[\u001b[0m\u001b[0;34m:\u001b[0m\u001b[0;34m,\u001b[0m \u001b[0;36m1\u001b[0m\u001b[0;34m]\u001b[0m\u001b[0;34m\u001b[0m\u001b[0;34m\u001b[0m\u001b[0m\n\u001b[0m\u001b[1;32m     12\u001b[0m         \u001b[0mplayers_rating\u001b[0m\u001b[0;34m[\u001b[0m\u001b[0mplayer_id\u001b[0m\u001b[0;34m]\u001b[0m \u001b[0;34m=\u001b[0m \u001b[0mnp\u001b[0m\u001b[0;34m.\u001b[0m\u001b[0mdot\u001b[0m\u001b[0;34m(\u001b[0m\u001b[0mpreds\u001b[0m\u001b[0;34m,\u001b[0m \u001b[0mquestion_compl_train_distr\u001b[0m\u001b[0;34m)\u001b[0m\u001b[0;34m\u001b[0m\u001b[0;34m\u001b[0m\u001b[0m\n\u001b[1;32m     13\u001b[0m \u001b[0;34m\u001b[0m\u001b[0m\n",
      "\u001b[0;32m~/.venv/lib/python3.8/site-packages/sklearn/linear_model/_logistic.py\u001b[0m in \u001b[0;36mpredict_proba\u001b[0;34m(self, X)\u001b[0m\n\u001b[1;32m   1466\u001b[0m                                                 self.solver == 'liblinear')))\n\u001b[1;32m   1467\u001b[0m         \u001b[0;32mif\u001b[0m \u001b[0movr\u001b[0m\u001b[0;34m:\u001b[0m\u001b[0;34m\u001b[0m\u001b[0;34m\u001b[0m\u001b[0m\n\u001b[0;32m-> 1468\u001b[0;31m             \u001b[0;32mreturn\u001b[0m \u001b[0msuper\u001b[0m\u001b[0;34m(\u001b[0m\u001b[0;34m)\u001b[0m\u001b[0;34m.\u001b[0m\u001b[0m_predict_proba_lr\u001b[0m\u001b[0;34m(\u001b[0m\u001b[0mX\u001b[0m\u001b[0;34m)\u001b[0m\u001b[0;34m\u001b[0m\u001b[0;34m\u001b[0m\u001b[0m\n\u001b[0m\u001b[1;32m   1469\u001b[0m         \u001b[0;32melse\u001b[0m\u001b[0;34m:\u001b[0m\u001b[0;34m\u001b[0m\u001b[0;34m\u001b[0m\u001b[0m\n\u001b[1;32m   1470\u001b[0m             \u001b[0mdecision\u001b[0m \u001b[0;34m=\u001b[0m \u001b[0mself\u001b[0m\u001b[0;34m.\u001b[0m\u001b[0mdecision_function\u001b[0m\u001b[0;34m(\u001b[0m\u001b[0mX\u001b[0m\u001b[0;34m)\u001b[0m\u001b[0;34m\u001b[0m\u001b[0;34m\u001b[0m\u001b[0m\n",
      "\u001b[0;32m~/.venv/lib/python3.8/site-packages/sklearn/linear_model/_base.py\u001b[0m in \u001b[0;36m_predict_proba_lr\u001b[0;34m(self, X)\u001b[0m\n\u001b[1;32m    319\u001b[0m         \u001b[0mmulticlass\u001b[0m \u001b[0;32mis\u001b[0m \u001b[0mhandled\u001b[0m \u001b[0mby\u001b[0m \u001b[0mnormalizing\u001b[0m \u001b[0mthat\u001b[0m \u001b[0mover\u001b[0m \u001b[0mall\u001b[0m \u001b[0mclasses\u001b[0m\u001b[0;34m.\u001b[0m\u001b[0;34m\u001b[0m\u001b[0;34m\u001b[0m\u001b[0m\n\u001b[1;32m    320\u001b[0m         \"\"\"\n\u001b[0;32m--> 321\u001b[0;31m         \u001b[0mprob\u001b[0m \u001b[0;34m=\u001b[0m \u001b[0mself\u001b[0m\u001b[0;34m.\u001b[0m\u001b[0mdecision_function\u001b[0m\u001b[0;34m(\u001b[0m\u001b[0mX\u001b[0m\u001b[0;34m)\u001b[0m\u001b[0;34m\u001b[0m\u001b[0;34m\u001b[0m\u001b[0m\n\u001b[0m\u001b[1;32m    322\u001b[0m         \u001b[0mexpit\u001b[0m\u001b[0;34m(\u001b[0m\u001b[0mprob\u001b[0m\u001b[0;34m,\u001b[0m \u001b[0mout\u001b[0m\u001b[0;34m=\u001b[0m\u001b[0mprob\u001b[0m\u001b[0;34m)\u001b[0m\u001b[0;34m\u001b[0m\u001b[0;34m\u001b[0m\u001b[0m\n\u001b[1;32m    323\u001b[0m         \u001b[0;32mif\u001b[0m \u001b[0mprob\u001b[0m\u001b[0;34m.\u001b[0m\u001b[0mndim\u001b[0m \u001b[0;34m==\u001b[0m \u001b[0;36m1\u001b[0m\u001b[0;34m:\u001b[0m\u001b[0;34m\u001b[0m\u001b[0;34m\u001b[0m\u001b[0m\n",
      "\u001b[0;32m~/.venv/lib/python3.8/site-packages/sklearn/linear_model/_base.py\u001b[0m in \u001b[0;36mdecision_function\u001b[0;34m(self, X)\u001b[0m\n\u001b[1;32m    282\u001b[0m         \u001b[0mX\u001b[0m \u001b[0;34m=\u001b[0m \u001b[0mcheck_array\u001b[0m\u001b[0;34m(\u001b[0m\u001b[0mX\u001b[0m\u001b[0;34m,\u001b[0m \u001b[0maccept_sparse\u001b[0m\u001b[0;34m=\u001b[0m\u001b[0;34m'csr'\u001b[0m\u001b[0;34m)\u001b[0m\u001b[0;34m\u001b[0m\u001b[0;34m\u001b[0m\u001b[0m\n\u001b[1;32m    283\u001b[0m \u001b[0;34m\u001b[0m\u001b[0m\n\u001b[0;32m--> 284\u001b[0;31m         \u001b[0mn_features\u001b[0m \u001b[0;34m=\u001b[0m \u001b[0mself\u001b[0m\u001b[0;34m.\u001b[0m\u001b[0mcoef_\u001b[0m\u001b[0;34m.\u001b[0m\u001b[0mshape\u001b[0m\u001b[0;34m[\u001b[0m\u001b[0;36m1\u001b[0m\u001b[0;34m]\u001b[0m\u001b[0;34m\u001b[0m\u001b[0;34m\u001b[0m\u001b[0m\n\u001b[0m\u001b[1;32m    285\u001b[0m         \u001b[0;32mif\u001b[0m \u001b[0mX\u001b[0m\u001b[0;34m.\u001b[0m\u001b[0mshape\u001b[0m\u001b[0;34m[\u001b[0m\u001b[0;36m1\u001b[0m\u001b[0;34m]\u001b[0m \u001b[0;34m!=\u001b[0m \u001b[0mn_features\u001b[0m\u001b[0;34m:\u001b[0m\u001b[0;34m\u001b[0m\u001b[0;34m\u001b[0m\u001b[0m\n\u001b[1;32m    286\u001b[0m             raise ValueError(\"X has %d features per sample; expecting %d\"\n",
      "\u001b[0;31mAttributeError\u001b[0m: 'list' object has no attribute 'shape'"
     ]
    }
   ],
   "source": [
    "calc_metrics(test_results, test_df, get_players_rating(test_df, models, compl_train_space, question_compl_train_distr))"
   ]
  },
  {
   "cell_type": "code",
   "execution_count": null,
   "metadata": {},
   "outputs": [],
   "source": []
  },
  {
   "cell_type": "code",
   "execution_count": null,
   "metadata": {},
   "outputs": [],
   "source": []
  },
  {
   "cell_type": "markdown",
   "metadata": {},
   "source": [
    "# 5\n",
    "\n",
    "А что там с вопросами? Постройте “рейтинг-лист” турниров по сложности вопросов. Соответствует ли он интуиции (например, на чемпионате мира в целом должны быть сложные вопросы, а на турнирах для школьников — простые)? Если будет интересно: постройте топ сложных и простых вопросов со ссылками на конкретные записи в базе вопросов ЧГК (это чисто техническое дело, тут никакого ML нету)."
   ]
  },
  {
   "cell_type": "code",
   "execution_count": 90,
   "metadata": {},
   "outputs": [],
   "source": [
    "def get_questions_rating(df: pd.DataFrame) -> Dict[int, float]:\n",
    "    questions_rating = {}\n",
    "    questions = set(df['question_id'])\n",
    "    i = 0\n",
    "    while i < df.shape[0] and questions:\n",
    "        cur_question_id = df['question_id'][i]\n",
    "        if cur_question_id in questions:\n",
    "            questions.remove(cur_question_id)\n",
    "            questions_rating[cur_question_id] = df['question_complexity'][i]\n",
    "        i += 1\n",
    "\n",
    "    return questions_rating\n",
    "\n",
    "\n",
    "def get_tournaments_rating(\n",
    "    tournaments: Dict[int, dict], \n",
    "    questions_rating: Dict[int, float], \n",
    "    df: pd.DataFrame\n",
    ") -> pd.DataFrame:\n",
    "    rating = {\n",
    "        'tournament_name': [],\n",
    "        'rating': [],\n",
    "    }\n",
    "    \n",
    "    for t_id in df['tournament_id'].unique():\n",
    "        questions_in_tournament = [q_id for q_id in questions_rating.keys() if q_id // t_id == 1000]\n",
    "        complexity = 0\n",
    "        for question_id in questions_in_tournament:\n",
    "            complexity += questions_rating[question_id]\n",
    "        \n",
    "        tournament_name = tournaments[t_id]['name']\n",
    "        rating['tournament_name'].append(tournament_name)\n",
    "        rating['rating'].append(complexity)\n",
    "                \n",
    "    return pd.DataFrame.from_records(rating)"
   ]
  },
  {
   "cell_type": "code",
   "execution_count": 91,
   "metadata": {},
   "outputs": [],
   "source": [
    "questions_rating = get_questions_rating(train_df)\n",
    "tournaments_rating = get_tournaments_rating(all_tournaments, questions_rating, train_df)\n",
    "tournaments_rating = tournaments_rating.sort_values(by='rating', ascending=False)"
   ]
  },
  {
   "cell_type": "code",
   "execution_count": 93,
   "metadata": {
    "scrolled": false
   },
   "outputs": [
    {
     "data": {
      "text/html": [
       "<div>\n",
       "<style scoped>\n",
       "    .dataframe tbody tr th:only-of-type {\n",
       "        vertical-align: middle;\n",
       "    }\n",
       "\n",
       "    .dataframe tbody tr th {\n",
       "        vertical-align: top;\n",
       "    }\n",
       "\n",
       "    .dataframe thead th {\n",
       "        text-align: right;\n",
       "    }\n",
       "</style>\n",
       "<table border=\"1\" class=\"dataframe\">\n",
       "  <thead>\n",
       "    <tr style=\"text-align: right;\">\n",
       "      <th></th>\n",
       "      <th>rating</th>\n",
       "      <th>tournament_name</th>\n",
       "    </tr>\n",
       "  </thead>\n",
       "  <tbody>\n",
       "    <tr>\n",
       "      <th>255</th>\n",
       "      <td>559.226292</td>\n",
       "      <td>Дилижанские игры</td>\n",
       "    </tr>\n",
       "    <tr>\n",
       "      <th>256</th>\n",
       "      <td>554.548162</td>\n",
       "      <td>Кубок Евразии</td>\n",
       "    </tr>\n",
       "    <tr>\n",
       "      <th>671</th>\n",
       "      <td>549.428773</td>\n",
       "      <td>Школьный синхрон-lite. Сезон 3</td>\n",
       "    </tr>\n",
       "    <tr>\n",
       "      <th>629</th>\n",
       "      <td>541.964508</td>\n",
       "      <td>Серия Гран-при. Общий зачёт</td>\n",
       "    </tr>\n",
       "    <tr>\n",
       "      <th>257</th>\n",
       "      <td>535.285175</td>\n",
       "      <td>Славянка без раздаток. Общий зачёт</td>\n",
       "    </tr>\n",
       "    <tr>\n",
       "      <th>254</th>\n",
       "      <td>512.617198</td>\n",
       "      <td>Синхрон Мишеля Матвеева</td>\n",
       "    </tr>\n",
       "    <tr>\n",
       "      <th>659</th>\n",
       "      <td>381.960383</td>\n",
       "      <td>Кубок Караганды</td>\n",
       "    </tr>\n",
       "    <tr>\n",
       "      <th>658</th>\n",
       "      <td>357.550253</td>\n",
       "      <td>Из Минска с любовью. Этап 3</td>\n",
       "    </tr>\n",
       "    <tr>\n",
       "      <th>660</th>\n",
       "      <td>354.585383</td>\n",
       "      <td>Избранное Осеннего Кубка Барнаула</td>\n",
       "    </tr>\n",
       "    <tr>\n",
       "      <th>258</th>\n",
       "      <td>351.682304</td>\n",
       "      <td>Гран-при Славянки. Общий зачёт</td>\n",
       "    </tr>\n",
       "    <tr>\n",
       "      <th>661</th>\n",
       "      <td>336.949020</td>\n",
       "      <td>Открытый зимний чемпионат ТИУ</td>\n",
       "    </tr>\n",
       "    <tr>\n",
       "      <th>672</th>\n",
       "      <td>331.369876</td>\n",
       "      <td>Школьная лига</td>\n",
       "    </tr>\n",
       "    <tr>\n",
       "      <th>253</th>\n",
       "      <td>323.554204</td>\n",
       "      <td>Открытый Кубок Поволжской Лиги</td>\n",
       "    </tr>\n",
       "    <tr>\n",
       "      <th>462</th>\n",
       "      <td>308.444570</td>\n",
       "      <td>ОВСЧ. 5 этап</td>\n",
       "    </tr>\n",
       "    <tr>\n",
       "      <th>464</th>\n",
       "      <td>307.080258</td>\n",
       "      <td>Открытый чемпионат Чехии</td>\n",
       "    </tr>\n",
       "    <tr>\n",
       "      <th>662</th>\n",
       "      <td>305.882353</td>\n",
       "      <td>Чемпионат Санкт-Петербурга. Первая лига</td>\n",
       "    </tr>\n",
       "    <tr>\n",
       "      <th>463</th>\n",
       "      <td>305.336828</td>\n",
       "      <td>Пущинские Дали - синхрон</td>\n",
       "    </tr>\n",
       "    <tr>\n",
       "      <th>630</th>\n",
       "      <td>304.522950</td>\n",
       "      <td>Зеркало СамариУМа</td>\n",
       "    </tr>\n",
       "    <tr>\n",
       "      <th>122</th>\n",
       "      <td>301.009608</td>\n",
       "      <td>Кавалькада волхвов</td>\n",
       "    </tr>\n",
       "    <tr>\n",
       "      <th>121</th>\n",
       "      <td>299.632796</td>\n",
       "      <td>Кубок МТС</td>\n",
       "    </tr>\n",
       "  </tbody>\n",
       "</table>\n",
       "</div>"
      ],
      "text/plain": [
       "         rating                          tournament_name\n",
       "255  559.226292                         Дилижанские игры\n",
       "256  554.548162                            Кубок Евразии\n",
       "671  549.428773           Школьный синхрон-lite. Сезон 3\n",
       "629  541.964508              Серия Гран-при. Общий зачёт\n",
       "257  535.285175       Славянка без раздаток. Общий зачёт\n",
       "254  512.617198                  Синхрон Мишеля Матвеева\n",
       "659  381.960383                          Кубок Караганды\n",
       "658  357.550253              Из Минска с любовью. Этап 3\n",
       "660  354.585383        Избранное Осеннего Кубка Барнаула\n",
       "258  351.682304           Гран-при Славянки. Общий зачёт\n",
       "661  336.949020            Открытый зимний чемпионат ТИУ\n",
       "672  331.369876                            Школьная лига\n",
       "253  323.554204           Открытый Кубок Поволжской Лиги\n",
       "462  308.444570                             ОВСЧ. 5 этап\n",
       "464  307.080258                 Открытый чемпионат Чехии\n",
       "662  305.882353  Чемпионат Санкт-Петербурга. Первая лига\n",
       "463  305.336828                 Пущинские Дали - синхрон\n",
       "630  304.522950                        Зеркало СамариУМа\n",
       "122  301.009608                       Кавалькада волхвов\n",
       "121  299.632796                                Кубок МТС"
      ]
     },
     "execution_count": 93,
     "metadata": {},
     "output_type": "execute_result"
    }
   ],
   "source": [
    "tournaments_rating.head(20)"
   ]
  },
  {
   "cell_type": "code",
   "execution_count": 94,
   "metadata": {},
   "outputs": [
    {
     "data": {
      "text/html": [
       "<div>\n",
       "<style scoped>\n",
       "    .dataframe tbody tr th:only-of-type {\n",
       "        vertical-align: middle;\n",
       "    }\n",
       "\n",
       "    .dataframe tbody tr th {\n",
       "        vertical-align: top;\n",
       "    }\n",
       "\n",
       "    .dataframe thead th {\n",
       "        text-align: right;\n",
       "    }\n",
       "</style>\n",
       "<table border=\"1\" class=\"dataframe\">\n",
       "  <thead>\n",
       "    <tr style=\"text-align: right;\">\n",
       "      <th></th>\n",
       "      <th>rating</th>\n",
       "      <th>tournament_name</th>\n",
       "    </tr>\n",
       "  </thead>\n",
       "  <tbody>\n",
       "    <tr>\n",
       "      <th>34</th>\n",
       "      <td>25.200000</td>\n",
       "      <td>Mediterranean Cup</td>\n",
       "    </tr>\n",
       "    <tr>\n",
       "      <th>613</th>\n",
       "      <td>23.864865</td>\n",
       "      <td>Десятилетие Фабрики мыслей</td>\n",
       "    </tr>\n",
       "    <tr>\n",
       "      <th>47</th>\n",
       "      <td>23.675000</td>\n",
       "      <td>Кубок соседней галактики. Гамма</td>\n",
       "    </tr>\n",
       "    <tr>\n",
       "      <th>652</th>\n",
       "      <td>22.409091</td>\n",
       "      <td>Чемпионат МГУ. Открытая лига. Второй игровой день</td>\n",
       "    </tr>\n",
       "    <tr>\n",
       "      <th>39</th>\n",
       "      <td>22.320724</td>\n",
       "      <td>Азовский бриз</td>\n",
       "    </tr>\n",
       "    <tr>\n",
       "      <th>669</th>\n",
       "      <td>22.260870</td>\n",
       "      <td>Асинхрон турнира \"Год театра\"</td>\n",
       "    </tr>\n",
       "    <tr>\n",
       "      <th>46</th>\n",
       "      <td>22.023188</td>\n",
       "      <td>Зимний Синхронный Умлаут</td>\n",
       "    </tr>\n",
       "    <tr>\n",
       "      <th>4</th>\n",
       "      <td>21.486784</td>\n",
       "      <td>ОВСЧ. 6 этап</td>\n",
       "    </tr>\n",
       "    <tr>\n",
       "      <th>73</th>\n",
       "      <td>20.661972</td>\n",
       "      <td>ТРИОтлон</td>\n",
       "    </tr>\n",
       "    <tr>\n",
       "      <th>3</th>\n",
       "      <td>20.384933</td>\n",
       "      <td>Балтийский Берег. 5 игра</td>\n",
       "    </tr>\n",
       "    <tr>\n",
       "      <th>54</th>\n",
       "      <td>20.340000</td>\n",
       "      <td>Из Минска с любовью. Этап 6.</td>\n",
       "    </tr>\n",
       "    <tr>\n",
       "      <th>65</th>\n",
       "      <td>20.015152</td>\n",
       "      <td>Гусарская лига. II сезон. IV этап</td>\n",
       "    </tr>\n",
       "    <tr>\n",
       "      <th>56</th>\n",
       "      <td>20.000000</td>\n",
       "      <td>Коломенский Кремль</td>\n",
       "    </tr>\n",
       "    <tr>\n",
       "      <th>0</th>\n",
       "      <td>19.212121</td>\n",
       "      <td>Синхрон северных стран. Зимний выпуск</td>\n",
       "    </tr>\n",
       "    <tr>\n",
       "      <th>35</th>\n",
       "      <td>17.773913</td>\n",
       "      <td>Леденец</td>\n",
       "    </tr>\n",
       "    <tr>\n",
       "      <th>59</th>\n",
       "      <td>16.655172</td>\n",
       "      <td>Тыквенный пирог</td>\n",
       "    </tr>\n",
       "    <tr>\n",
       "      <th>11</th>\n",
       "      <td>14.927928</td>\n",
       "      <td>(а)Синхрон-lite. Лига старта. Эпизод V</td>\n",
       "    </tr>\n",
       "    <tr>\n",
       "      <th>5</th>\n",
       "      <td>14.833333</td>\n",
       "      <td>Чёрная Быль</td>\n",
       "    </tr>\n",
       "    <tr>\n",
       "      <th>38</th>\n",
       "      <td>14.492701</td>\n",
       "      <td>Лига Сибири. VI тур.</td>\n",
       "    </tr>\n",
       "    <tr>\n",
       "      <th>398</th>\n",
       "      <td>13.470238</td>\n",
       "      <td>Синхрон-lite. Выпуск XXX</td>\n",
       "    </tr>\n",
       "  </tbody>\n",
       "</table>\n",
       "</div>"
      ],
      "text/plain": [
       "        rating                                    tournament_name\n",
       "34   25.200000                                  Mediterranean Cup\n",
       "613  23.864865                         Десятилетие Фабрики мыслей\n",
       "47   23.675000                    Кубок соседней галактики. Гамма\n",
       "652  22.409091  Чемпионат МГУ. Открытая лига. Второй игровой день\n",
       "39   22.320724                                      Азовский бриз\n",
       "669  22.260870                      Асинхрон турнира \"Год театра\"\n",
       "46   22.023188                           Зимний Синхронный Умлаут\n",
       "4    21.486784                                       ОВСЧ. 6 этап\n",
       "73   20.661972                                           ТРИОтлон\n",
       "3    20.384933                           Балтийский Берег. 5 игра\n",
       "54   20.340000                       Из Минска с любовью. Этап 6.\n",
       "65   20.015152                  Гусарская лига. II сезон. IV этап\n",
       "56   20.000000                                 Коломенский Кремль\n",
       "0    19.212121              Синхрон северных стран. Зимний выпуск\n",
       "35   17.773913                                            Леденец\n",
       "59   16.655172                                    Тыквенный пирог\n",
       "11   14.927928             (а)Синхрон-lite. Лига старта. Эпизод V\n",
       "5    14.833333                                        Чёрная Быль\n",
       "38   14.492701                               Лига Сибири. VI тур.\n",
       "398  13.470238                           Синхрон-lite. Выпуск XXX"
      ]
     },
     "execution_count": 94,
     "metadata": {},
     "output_type": "execute_result"
    }
   ],
   "source": [
    "tournaments_rating.tail(20)"
   ]
  },
  {
   "cell_type": "markdown",
   "metadata": {},
   "source": [
    "# 6\n",
    "\n",
    "Бонус: постройте топ игроков по предсказанной вашей моделью силе игры, а рядом с именами игроков напишите общее число вопросов, которое они сыграли. Скорее всего, вы увидите, что топ занят игроками, которые сыграли совсем мало вопросов, около 100 или даже меньше; если вы поищете их в официальном рейтинге ЧГК, вы увидите, что это какие-то непонятные ноунеймы. В baseline-модели, скорее всего, такой эффект будет гораздо слабее."
   ]
  },
  {
   "cell_type": "code",
   "execution_count": null,
   "metadata": {},
   "outputs": [],
   "source": []
  },
  {
   "cell_type": "code",
   "execution_count": null,
   "metadata": {},
   "outputs": [],
   "source": []
  },
  {
   "cell_type": "code",
   "execution_count": null,
   "metadata": {},
   "outputs": [],
   "source": []
  }
 ],
 "metadata": {
  "kernelspec": {
   "display_name": "Python 3",
   "language": "python",
   "name": "python3"
  },
  "language_info": {
   "codemirror_mode": {
    "name": "ipython",
    "version": 3
   },
   "file_extension": ".py",
   "mimetype": "text/x-python",
   "name": "python",
   "nbconvert_exporter": "python",
   "pygments_lexer": "ipython3",
   "version": "3.8.5"
  }
 },
 "nbformat": 4,
 "nbformat_minor": 4
}
