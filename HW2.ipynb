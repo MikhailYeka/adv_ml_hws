{
 "cells": [
  {
   "cell_type": "markdown",
   "metadata": {},
   "source": [
    "### Продвинутое машинное обучение: \n",
    "## Домашнее задание 2\n",
    "\n",
    "Второе домашнее задание — самое большое в курсе, в нём придётся и концептуально подумать о происходящем, и технические трудности тоже порешать. Как и раньше, в качестве решения ожидается ссылка на jupyter-ноутбук на вашем github (или публичный, или с доступом для snikolenko); ссылку обязательно нужно прислать в виде сданного домашнего задания на портале Академии. Как всегда, любые комментарии, новые идеи и рассуждения на тему категорически приветствуются. \n",
    "\n",
    "Второе задание — это полноценный проект по анализу данных, начиная от анализа постановки задачи и заканчивая сравнением результатов разных моделей. Задача реальная и серьёзная, хотя тему я выбрал развлекательную: мы будем строить вероятностную рейтинг-систему для спортивного “Что? Где? Когда?” (ЧГК).\n",
    "\n",
    "Background: в спортивном “Что? Где? Когда?” соревнующиеся команды отвечают на одни и те же вопросы. После минуты обсуждения команды записывают и сдают свои ответы на карточках; побеждает тот, кто ответил на большее число вопросов. Турнир обычно состоит из нескольких десятков вопросов (обычно 36 или 45, иногда 60, больше редко). Часто бывают синхронные турниры, когда на одни и те же вопросы отвечают команды на сотнях игровых площадок по всему миру, т.е. в одном турнире могут играть сотни, а то и тысячи команд. Соответственно, нам нужно:\n",
    "построить рейтинг-лист, который способен нетривиально предсказывать результаты будущих турниров;\n",
    "при этом, поскольку ЧГК — это хобби, и контрактов тут никаких нет, игроки постоянно переходят из команды в команду, сильный игрок может на один турнир сесть поиграть за другую команду и т.д.; поэтому единицей рейтинг-листа должна быть не команда, а отдельный игрок;\n",
    "а что сильно упрощает задачу и переводит её в область домашних заданий на EM-алгоритм — это характер данных: начиная с какого-то момента, в базу результатов начали вносить все повопросные результаты команд, т.е. в данных будут записи вида “какая команда на какой вопрос правильно ответила”.\n",
    "Я сделал за вас только первый шаг: выкачал через API сайта рейтинга ЧГК все нужные данные, чтобы сайт не прилёг под вашими многочисленными скрейперами. :) Полученные данные лежат в формате pickle вот здесь:\n",
    "https://www.dropbox.com/s/s4qj0fpsn378m2i/chgk.zip \n",
    "\n",
    "1. Прочитайте и проанализируйте данные, выберите турниры, в которых есть данные о составах команд и повопросных результатах (поле mask в results.pkl). Для унификации предлагаю:\n",
    "    взять в тренировочный набор турниры с dateStart из 2019 года; \n",
    "    в тестовый — турниры с dateStart из 2020 года.\n",
    "2. Постройте baseline-модель на основе линейной или логистической регрессии, которая будет обучать рейтинг-лист игроков. Замечания и подсказки:\n",
    "    \n",
    "    повопросные результаты — это фактически результаты броска монетки, и их предсказание скорее всего имеет отношение к бинарной классификации;\n",
    "    \n",
    "    в разных турнирах вопросы совсем разного уровня сложности, поэтому модель должна это учитывать; скорее всего, модель должна будет явно обучать не только силу каждого игрока, но и сложность каждого вопроса;\n",
    "    \n",
    "    для baseline-модели можно забыть о командах и считать, что повопросные результаты команды просто относятся к каждому из её игроков.\n",
    "3. Качество рейтинг-системы оценивается качеством предсказаний результатов турниров. Но сами повопросные результаты наши модели предсказывать вряд ли смогут, ведь неизвестно, насколько сложными окажутся вопросы в будущих турнирах; да и не нужны эти предсказания сами по себе. Поэтому:\n",
    "\n",
    "    предложите способ предсказать результаты нового турнира с известными составами, но неизвестными вопросами, в виде ранжирования команд;\n",
    "\n",
    "    в качестве метрики качества на тестовом наборе давайте считать ранговые корреляции Спирмена и Кендалла (их можно взять в пакете scipy) между реальным ранжированием в результатах турнира и предсказанным моделью, усреднённые по тестовому множеству турниров.\n",
    "\n",
    "4. Теперь главное: ЧГК — это всё-таки командная игра. Поэтому:\n",
    "\n",
    "    предложите способ учитывать то, что на вопрос отвечают сразу несколько игроков; скорее всего, понадобятся скрытые переменные; не стесняйтесь делать упрощающие предположения, но теперь переменные “игрок X ответил на вопрос Y” при условии данных должны стать зависимыми для игроков одной и той же команды;\n",
    "    \n",
    "    разработайте EM-схему для обучения этой модели, реализуйте её в коде;\n",
    "\n",
    "    обучите несколько итераций, убедитесь, что целевые метрики со временем растут (скорее всего, ненамного, но расти должны), выберите лучшую модель, используя целевые метрики.\n",
    "\n",
    "5. А что там с вопросами? Постройте “рейтинг-лист” турниров по сложности вопросов. Соответствует ли он интуиции (например, на чемпионате мира в целом должны быть сложные вопросы, а на турнирах для школьников — простые)? Если будет интересно: постройте топ сложных и простых вопросов со ссылками на конкретные записи в базе вопросов ЧГК (это чисто техническое дело, тут никакого ML нету).\n",
    "\n",
    "6. Бонус: постройте топ игроков по предсказанной вашей моделью силе игры, а рядом с именами игроков напишите общее число вопросов, которое они сыграли. Скорее всего, вы увидите, что топ занят игроками, которые сыграли совсем мало вопросов, около 100 или даже меньше; если вы поищете их в официальном рейтинге ЧГК, вы увидите, что это какие-то непонятные ноунеймы. В baseline-модели, скорее всего, такой эффект будет гораздо слабее.\n",
    "\n",
    "Это естественное свойство модели: за счёт EM-схемы влияние 1-2 удачно сыгранных турниров будет только усиливаться, потому что неудачных турниров, чтобы его компенсировать, у этих игроков нет. Более того, это не мешает метрикам качества, потому что если эти игроки сыграли всего 1-2 турнира в 2019-м, скорее всего они ничего или очень мало сыграли и в 2020, и их рейтинги никак не влияют на качество тестовых предсказаний. Но для реального рейтинга такое свойство, конечно, было бы крайне нежелательным. Давайте попробуем его исправить:\n",
    "    \n",
    "    сначала жёстко: выберите разумную отсечку по числу вопросов, учитывая, что в одном турнире их обычно 30-50;\n",
    "\n",
    "    можно ли просто выбросить игроков, которые мало играли, и переобучить модель? почему? предложите, как нужно изменить модель, чтобы не учитывать слишком мало сыгравших, и переобучите модель;\n",
    "    \n",
    "    но всё-таки это не слишком хорошее решение: если выбрать маленькую отсечку, будут ноунеймы в топе, а если большую, то получится, что у нового игрока слишком долго не будет рейтинга; скорее всего, никакой “золотой середины” тут не получится;\n",
    "    \n",
    "    предложите более концептуальное решение для топа игроков в рейтинг-листе; если получится, реализуйте его на практике (за это уж точно будут серьёзные бонусные баллы).\n",
    "\n",
    "7. Бонус: игроки со временем учатся играть лучше (а иногда бывает и наоборот). А в нашей модели получается, что первые неудачные турниры новичка будут тянуть его рейтинг вниз всю жизнь — это нехорошо, рейтинг должен быть достаточно гибким и иметь возможность меняться даже у игроков, отыгравших сотни турниров. Давайте попробуем этого добиться:\n",
    "\n",
    "    если хватит вычислительных ресурсов, сначала сделайте baseline совсем без таких схем, обучив рейтинги на всех турнирах с повопросными результатами, а не только на турнирах 2019 года; улучшилось ли качество предсказаний на 2020?\n",
    "    \n",
    "    одну схему со временем мы уже использовали: брали для обучения только последний год турниров; примерно так делают, например, в теннисной чемпионской гонке; у этой схемы есть свои преимущества, но есть и недостатки (например, достаточно мало играть год, чтобы полностью пропасть из рейтинга);\n",
    "    \n",
    "    предложите варианты базовой модели или алгоритма её обучения, которые могли бы реализовать изменения рейтинга со временем; если получится, реализуйте их на практике, проверьте, улучшатся ли предсказания на 2020."
   ]
  },
  {
   "cell_type": "markdown",
   "metadata": {},
   "source": [
    "## 1. Подготовка данных"
   ]
  },
  {
   "cell_type": "code",
   "execution_count": 1,
   "metadata": {},
   "outputs": [],
   "source": [
    "from datetime import datetime\n",
    "from pprint import pprint\n",
    "from typing import List, Dict\n",
    "import pickle\n",
    "\n",
    "from matplotlib import pyplot as plt\n",
    "from sklearn.linear_model import LogisticRegression\n",
    "from scipy.stats import kendalltau, spearmanr\n",
    "from tqdm import tqdm\n",
    "import numpy as np\n",
    "import pandas as pd\n",
    "\n",
    "%matplotlib inline"
   ]
  },
  {
   "cell_type": "code",
   "execution_count": 2,
   "metadata": {},
   "outputs": [],
   "source": [
    "# Загружаем данные\n",
    "with open('chgk/results.pkl', 'rb') as file:\n",
    "    all_results = pickle.load(file)\n",
    "    \n",
    "with open('chgk/tournaments.pkl', 'rb') as file:\n",
    "    all_tournaments = pickle.load(file)\n",
    "    \n",
    "with open('chgk/players.pkl', 'rb') as file:\n",
    "    all_players = pickle.load(file)"
   ]
  },
  {
   "cell_type": "code",
   "execution_count": 3,
   "metadata": {},
   "outputs": [
    {
     "name": "stdout",
     "output_type": "stream",
     "text": [
      "Изначально было 5528 турниров, оставили 3652 с масками\n"
     ]
    }
   ],
   "source": [
    "results_with_mask = {}\n",
    "\n",
    "for k, v in all_results.items():\n",
    "    if len(v) > 0:\n",
    "        try:\n",
    "            if v[0]['mask'] is not None and v[0]['teamMembers'] != []:\n",
    "                results_with_mask[k] = v\n",
    "        except KeyError:\n",
    "            pass\n",
    "print(f'Изначально было {len(all_results.keys())} турниров, оставили {len(results_with_mask.keys())} с масками')"
   ]
  },
  {
   "cell_type": "code",
   "execution_count": 4,
   "metadata": {},
   "outputs": [
    {
     "name": "stdout",
     "output_type": "stream",
     "text": [
      "Получилось 674 турниров в 2019 году (train) и 173 в 2020 году (test)\n"
     ]
    }
   ],
   "source": [
    "# Возьмём теперь данные только для 2019 в качестве train, для 2020 - в качестве test.\n",
    "YEAR_FOR_TRAIN = 2019\n",
    "YEAR_FOR_TEST = 2020\n",
    "train_results = {}\n",
    "test_results = {}\n",
    "\n",
    "for k, v in results_with_mask.items():\n",
    "    tournament_date = datetime.fromisoformat(all_tournaments[k]['dateStart'])\n",
    "    if tournament_date.year == YEAR_FOR_TRAIN:\n",
    "        train_results[k] = v\n",
    "    elif tournament_date.year == YEAR_FOR_TEST:\n",
    "        test_results[k] = v\n",
    "print(f'Получилось {len(train_results.keys())} турниров в 2019 году (train) и {len(test_results.keys())} в 2020 году (test)')"
   ]
  },
  {
   "cell_type": "markdown",
   "metadata": {},
   "source": [
    "# 2. Применение логрега \n",
    "\n",
    "Постройте baseline-модель на основе линейной или логистической регрессии, которая будет обучать рейтинг-лист игроков. Замечания и подсказки:\n",
    "    \n",
    "    повопросные результаты — это фактически результаты броска монетки, и их предсказание скорее всего имеет отношение к бинарной классификации;\n",
    "    \n",
    "    в разных турнирах вопросы совсем разного уровня сложности, поэтому модель должна это учитывать; скорее всего, модель должна будет явно обучать не только силу каждого игрока, но и сложность каждого вопроса;\n",
    "    \n",
    "    для baseline-модели можно забыть о командах и считать, что повопросные результаты команды просто относятся к каждому из её игроков."
   ]
  },
  {
   "cell_type": "markdown",
   "metadata": {},
   "source": [
    "Положим, что $p(X)$ -- рейтинг игрока $X$ (вероятность игрока ответить на какой-то вопрос). Распишем теперь $p(X)$: $p(X) = \\int_Q p(X, Q=q) dq $ - рейтинг игрока, рассчитываемый по множеству всех вопросов $Q$, на которые он пытался отвечать. Здесь мы ввели характеристику сложности вопросов $q$; её можно интерпетировать как долю команд, которые правильно ответили на данные вопрос. Тогда итоговые формулы приобретут вид:\n",
    "\n",
    "$$p(X) = \\int_Q p(X|Q=q) p(Q=q) dq,$$ $$p(Q=q) = \\frac{N_{correct}}{N_{correct+incorrect}}.$$\n",
    "\n",
    "Фактически здесь наша модель -- $P(X|Q=q)$ -- её будем обучать для каждого игрока. "
   ]
  },
  {
   "cell_type": "markdown",
   "metadata": {},
   "source": [
    "### Важное замечание\n",
    "В отдельных турнирах нашлись команды, у которых длина маски ответов немного меньше, чем длина маски у других командах. Мне кажется, это произошло из-за того, что команда не прошла в следующий тур игры (не знаю, есть ли такое в ЧГК, но предположить такое мне кажется разумным. А потому, если длина у команды для данного турнира меньше максимально возможной для данного турнира, будем считать, что команда просто не отвечала на те вопросы. \n",
    "\n",
    "Иными словами, будем дополнять маски нулями до максимальной длины. "
   ]
  },
  {
   "cell_type": "code",
   "execution_count": 5,
   "metadata": {
    "scrolled": false
   },
   "outputs": [],
   "source": [
    "def form_question_id(tournament_id: int, question_num: int) -> int:\n",
    "    return 1000 * tournament_id + question_num\n",
    "\n",
    "\n",
    "def define_mask_len(teams: Dict[str, str]) -> int:\n",
    "    '''\n",
    "    Будем считать, что если маска None, то просто пропустим такую\n",
    "    '''\n",
    "    mask_len = 0\n",
    "    for team in teams:\n",
    "        if team['mask'] is not None:\n",
    "            mask_len = max(mask_len, len(team['mask']))\n",
    "    return mask_len\n",
    "\n",
    "\n",
    "def form_question_complexity(results: Dict[str, list]) -> Dict[int, float]:\n",
    "    '''\n",
    "    Здесь будем считать сложность вопросов. \n",
    "    '''\n",
    "    ans_dict = {}\n",
    "    for tournament_id, teams in results.items():\n",
    "        teams_number = len(teams)\n",
    "        mask_len = define_mask_len(teams)\n",
    "        question_complexity = [0] * mask_len\n",
    "        for team in teams:\n",
    "            mask = team['mask']\n",
    "            if mask is None:\n",
    "                mask = ['0'] * mask_len\n",
    "            for i, m_i in enumerate(mask):\n",
    "                if m_i not in ['0', '1']:\n",
    "                    mask_i = 0\n",
    "                else:\n",
    "                    mask_i = int(m_i)\n",
    "                question_complexity[i] += mask_i\n",
    "        question_complexity = [q / teams_number for q in question_complexity]\n",
    "        for q_i, q in enumerate(question_complexity):\n",
    "            ans_dict[form_question_id(tournament_id, q_i)] = 1 - q\n",
    "    return ans_dict\n",
    "\n",
    "\n",
    "question_compl_train = form_question_complexity(train_results)\n",
    "question_compl_test = form_question_complexity(test_results)"
   ]
  },
  {
   "cell_type": "markdown",
   "metadata": {},
   "source": [
    "Построим распределение для Q."
   ]
  },
  {
   "cell_type": "code",
   "execution_count": 6,
   "metadata": {
    "scrolled": false
   },
   "outputs": [
    {
     "data": {
      "image/png": "[encoded data removed]",
      "text/plain": [
       "<Figure size 432x288 with 1 Axes>"
      ]
     },
     "metadata": {
      "needs_background": "light"
     },
     "output_type": "display_data"
    },
    {
     "data": {
      "image/png": "[encoded data removed]",
      "text/plain": [
       "<Figure size 432x288 with 1 Axes>"
      ]
     },
     "metadata": {
      "needs_background": "light"
     },
     "output_type": "display_data"
    }
   ],
   "source": [
    "plt.hist(question_compl_train.values(), bins=50)\n",
    "plt.title('Train questions complexity')\n",
    "plt.show()\n",
    "plt.hist(question_compl_test.values(), bins=50)\n",
    "plt.title('Test questions complexity')\n",
    "plt.show()"
   ]
  },
  {
   "cell_type": "code",
   "execution_count": 7,
   "metadata": {},
   "outputs": [],
   "source": [
    "def get_players_question(results: Dict[str, list]) -> pd.DataFrame:\n",
    "    '''\n",
    "    Эта функция из сырых данных будет формировать таблицу, состоящую из колонок:\n",
    "    - team_id\n",
    "    - tournamennt_id\n",
    "    - question_id\n",
    "    - player_id\n",
    "    - question_complexity\n",
    "    - bool_ans\n",
    "    Каждая строка таблицы содержит результат ответа каждого игрока на вопрос. При этом каждому игроку \n",
    "    добавляется 1, если команда ответила положительно, иначе 0.\n",
    "    '''\n",
    "    ans_dict = {\n",
    "        'team_id': [], \n",
    "        'tournament_id': [],\n",
    "        'question_id': [], \n",
    "        'player_id': [],\n",
    "        'question_complexity': [],\n",
    "        'bool_ans': []\n",
    "    }\n",
    "    question_complexity = form_question_complexity(results)\n",
    "    for tournament_id, teams in results.items():\n",
    "        teams_number = len(teams)\n",
    "        mask_len = define_mask_len(teams)\n",
    "        for team in teams:\n",
    "            team_id = team['team']['id']\n",
    "            for member in team['teamMembers']:\n",
    "                team_member_id = member['player']['id']\n",
    "                if team['mask'] is not None:\n",
    "                    team_mask = team['mask']\n",
    "                else:\n",
    "                    team_mask = '0' * mask_len\n",
    "                for q_i in range(mask_len):\n",
    "                    if q_i < len(team_mask):\n",
    "                        if team_mask[q_i] not in ['0', '1']:\n",
    "                            bool_ans = 0\n",
    "                        else:\n",
    "                            bool_ans = int(team_mask[q_i])\n",
    "                    else:\n",
    "                        bool_ans = 0\n",
    "                    quest_id = form_question_id(tournament_id, q_i)\n",
    "                    \n",
    "                    ans_dict['team_id'].append(team_id)\n",
    "                    ans_dict['tournament_id'].append(tournament_id)\n",
    "                    ans_dict['question_id'].append(quest_id)\n",
    "                    ans_dict['player_id'].append(team_member_id)\n",
    "                    ans_dict['question_complexity'].append(question_complexity[quest_id])\n",
    "                    ans_dict['bool_ans'].append(bool_ans)\n",
    "    \n",
    "    return pd.DataFrame.from_records(data=ans_dict)"
   ]
  },
  {
   "cell_type": "code",
   "execution_count": 8,
   "metadata": {},
   "outputs": [
    {
     "name": "stdout",
     "output_type": "stream",
     "text": [
      "(25533186, 6)\n"
     ]
    },
    {
     "data": {
      "text/html": [
       "<div>\n",
       "<style scoped>\n",
       "    .dataframe tbody tr th:only-of-type {\n",
       "        vertical-align: middle;\n",
       "    }\n",
       "\n",
       "    .dataframe tbody tr th {\n",
       "        vertical-align: top;\n",
       "    }\n",
       "\n",
       "    .dataframe thead th {\n",
       "        text-align: right;\n",
       "    }\n",
       "</style>\n",
       "<table border=\"1\" class=\"dataframe\">\n",
       "  <thead>\n",
       "    <tr style=\"text-align: right;\">\n",
       "      <th></th>\n",
       "      <th>bool_ans</th>\n",
       "      <th>player_id</th>\n",
       "      <th>question_complexity</th>\n",
       "      <th>question_id</th>\n",
       "      <th>team_id</th>\n",
       "      <th>tournament_id</th>\n",
       "    </tr>\n",
       "  </thead>\n",
       "  <tbody>\n",
       "    <tr>\n",
       "      <th>0</th>\n",
       "      <td>1</td>\n",
       "      <td>6212</td>\n",
       "      <td>0.116883</td>\n",
       "      <td>4772000</td>\n",
       "      <td>45556</td>\n",
       "      <td>4772</td>\n",
       "    </tr>\n",
       "    <tr>\n",
       "      <th>1</th>\n",
       "      <td>1</td>\n",
       "      <td>6212</td>\n",
       "      <td>0.220779</td>\n",
       "      <td>4772001</td>\n",
       "      <td>45556</td>\n",
       "      <td>4772</td>\n",
       "    </tr>\n",
       "    <tr>\n",
       "      <th>2</th>\n",
       "      <td>1</td>\n",
       "      <td>6212</td>\n",
       "      <td>0.554113</td>\n",
       "      <td>4772002</td>\n",
       "      <td>45556</td>\n",
       "      <td>4772</td>\n",
       "    </tr>\n",
       "    <tr>\n",
       "      <th>3</th>\n",
       "      <td>1</td>\n",
       "      <td>6212</td>\n",
       "      <td>0.480519</td>\n",
       "      <td>4772003</td>\n",
       "      <td>45556</td>\n",
       "      <td>4772</td>\n",
       "    </tr>\n",
       "    <tr>\n",
       "      <th>4</th>\n",
       "      <td>1</td>\n",
       "      <td>6212</td>\n",
       "      <td>0.121212</td>\n",
       "      <td>4772004</td>\n",
       "      <td>45556</td>\n",
       "      <td>4772</td>\n",
       "    </tr>\n",
       "  </tbody>\n",
       "</table>\n",
       "</div>"
      ],
      "text/plain": [
       "   bool_ans  player_id  question_complexity  question_id  team_id  \\\n",
       "0         1       6212             0.116883      4772000    45556   \n",
       "1         1       6212             0.220779      4772001    45556   \n",
       "2         1       6212             0.554113      4772002    45556   \n",
       "3         1       6212             0.480519      4772003    45556   \n",
       "4         1       6212             0.121212      4772004    45556   \n",
       "\n",
       "   tournament_id  \n",
       "0           4772  \n",
       "1           4772  \n",
       "2           4772  \n",
       "3           4772  \n",
       "4           4772  "
      ]
     },
     "execution_count": 8,
     "metadata": {},
     "output_type": "execute_result"
    }
   ],
   "source": [
    "train_df = get_players_question(train_results)\n",
    "print(train_df.shape)\n",
    "train_df.head()"
   ]
  },
  {
   "cell_type": "code",
   "execution_count": 9,
   "metadata": {
    "scrolled": true
   },
   "outputs": [
    {
     "name": "stdout",
     "output_type": "stream",
     "text": [
      "(4809049, 6)\n"
     ]
    },
    {
     "data": {
      "text/html": [
       "<div>\n",
       "<style scoped>\n",
       "    .dataframe tbody tr th:only-of-type {\n",
       "        vertical-align: middle;\n",
       "    }\n",
       "\n",
       "    .dataframe tbody tr th {\n",
       "        vertical-align: top;\n",
       "    }\n",
       "\n",
       "    .dataframe thead th {\n",
       "        text-align: right;\n",
       "    }\n",
       "</style>\n",
       "<table border=\"1\" class=\"dataframe\">\n",
       "  <thead>\n",
       "    <tr style=\"text-align: right;\">\n",
       "      <th></th>\n",
       "      <th>bool_ans</th>\n",
       "      <th>player_id</th>\n",
       "      <th>question_complexity</th>\n",
       "      <th>question_id</th>\n",
       "      <th>team_id</th>\n",
       "      <th>tournament_id</th>\n",
       "    </tr>\n",
       "  </thead>\n",
       "  <tbody>\n",
       "    <tr>\n",
       "      <th>0</th>\n",
       "      <td>1</td>\n",
       "      <td>30152</td>\n",
       "      <td>0.717391</td>\n",
       "      <td>4957000</td>\n",
       "      <td>49804</td>\n",
       "      <td>4957</td>\n",
       "    </tr>\n",
       "    <tr>\n",
       "      <th>1</th>\n",
       "      <td>1</td>\n",
       "      <td>30152</td>\n",
       "      <td>0.880435</td>\n",
       "      <td>4957001</td>\n",
       "      <td>49804</td>\n",
       "      <td>4957</td>\n",
       "    </tr>\n",
       "    <tr>\n",
       "      <th>2</th>\n",
       "      <td>1</td>\n",
       "      <td>30152</td>\n",
       "      <td>0.141304</td>\n",
       "      <td>4957002</td>\n",
       "      <td>49804</td>\n",
       "      <td>4957</td>\n",
       "    </tr>\n",
       "    <tr>\n",
       "      <th>3</th>\n",
       "      <td>1</td>\n",
       "      <td>30152</td>\n",
       "      <td>0.423913</td>\n",
       "      <td>4957003</td>\n",
       "      <td>49804</td>\n",
       "      <td>4957</td>\n",
       "    </tr>\n",
       "    <tr>\n",
       "      <th>4</th>\n",
       "      <td>1</td>\n",
       "      <td>30152</td>\n",
       "      <td>0.739130</td>\n",
       "      <td>4957004</td>\n",
       "      <td>49804</td>\n",
       "      <td>4957</td>\n",
       "    </tr>\n",
       "  </tbody>\n",
       "</table>\n",
       "</div>"
      ],
      "text/plain": [
       "   bool_ans  player_id  question_complexity  question_id  team_id  \\\n",
       "0         1      30152             0.717391      4957000    49804   \n",
       "1         1      30152             0.880435      4957001    49804   \n",
       "2         1      30152             0.141304      4957002    49804   \n",
       "3         1      30152             0.423913      4957003    49804   \n",
       "4         1      30152             0.739130      4957004    49804   \n",
       "\n",
       "   tournament_id  \n",
       "0           4957  \n",
       "1           4957  \n",
       "2           4957  \n",
       "3           4957  \n",
       "4           4957  "
      ]
     },
     "execution_count": 9,
     "metadata": {},
     "output_type": "execute_result"
    }
   ],
   "source": [
    "test_df = get_players_question(test_results)\n",
    "print(test_df.shape)\n",
    "test_df.head()"
   ]
  },
  {
   "cell_type": "markdown",
   "metadata": {},
   "source": [
    "Теперь обучим для каждого игрока логистическую регрессию $P(X|q=Q)$, где как признаки будем рассматривать вектор, состоящий из сложностей вопросов, на которые ответил игрок, а в качестве метки класса - результат ответа игрока на вопрос (ответил или не ответил, то есть 0 или 1).\n",
    "\n",
    "$$P(X|Q=q) = \\sigma(\\omega q + \\omega_0)$$\n",
    "\n",
    "Тогда рейтинг $P(X)$, согласно формуле $p(X) = \\int_Q p(X|Q=q) p(Q=q) dq,$ будет интеграл, взятый по всем вопросам. Для построения распределения $P(Q=q)$ воспользуемся гистограммой распределения, приведённой выше. "
   ]
  },
  {
   "cell_type": "code",
   "execution_count": 10,
   "metadata": {},
   "outputs": [],
   "source": [
    "def count_complexity(question_complexities: List[float], bins_number: int = 100) -> List[float]:\n",
    "    num_complexity = len(question_complexities)\n",
    "    hist = np.histogram(question_complexities, bins=bins_number)\n",
    "    points_distr_in_bins = hist[0] / num_complexity\n",
    "    complex_x_space = np.empty((hist[1].shape[0] - 1))\n",
    "    for i in range(bins_number):\n",
    "        complex_x_space[i] = (hist[1][i] + hist[1][i + 1]) / 2\n",
    "    return complex_x_space, points_distr_in_bins"
   ]
  },
  {
   "cell_type": "code",
   "execution_count": 11,
   "metadata": {},
   "outputs": [],
   "source": [
    "compl_train_space, question_compl_train_distr = count_complexity(list(question_compl_train.values()))\n",
    "_, question_compl_test_distr = count_complexity(list(question_compl_test.values()))"
   ]
  },
  {
   "cell_type": "code",
   "execution_count": null,
   "metadata": {},
   "outputs": [
    {
     "name": "stderr",
     "output_type": "stream",
     "text": [
      "\r",
      "  0%|          | 0/59102 [00:00<?, ?it/s]"
     ]
    },
    {
     "name": "stdout",
     "output_type": "stream",
     "text": [
      "В тренировочной выборке всего 59102 игроков\n"
     ]
    },
    {
     "name": "stderr",
     "output_type": "stream",
     "text": [
      " 16%|█▌        | 9174/59102 [05:04<29:41, 28.03it/s]  "
     ]
    }
   ],
   "source": [
    "# Теперь обучим модели для каждого игрока\n",
    "players_rating = {}\n",
    "players_unique_ids = list(train_df['player_id'].unique())\n",
    "print(f'В тренировочной выборке всего {len(players_unique_ids)} игроков')\n",
    "\n",
    "for player_id in tqdm(players_unique_ids):\n",
    "    current_data = train_df[train_df['player_id'] == player_id]\n",
    "    current_data_x = current_data['question_complexity'].to_numpy()\n",
    "    current_data_y = current_data['bool_ans'].to_numpy()\n",
    "    \n",
    "    # Некоторые команды не ответили ни на один вопрос (или ответили на все).\n",
    "    # Такие случаи одного класса надо обрабатывать отдельно. \n",
    "    if np.sum(current_data_y) == 0:\n",
    "        players_rating[player_id] = 0.\n",
    "    elif np.sum(current_data_y) == current_data_y.shape[0]:\n",
    "        players_rating[player_id] = 1.\n",
    "    else:\n",
    "        model = LogisticRegression()\n",
    "        model.fit(current_data_x.reshape(-1, 1), current_data_y)\n",
    "        preds = model.predict_proba(compl_train_space.reshape(-1, 1))[:, 1]\n",
    "        players_rating[player_id] = np.dot(preds, question_compl_train_distr)"
   ]
  },
  {
   "cell_type": "code",
   "execution_count": null,
   "metadata": {
    "scrolled": true
   },
   "outputs": [],
   "source": [
    "# Чем больше рейтинг, тем лучше играет игрок. \n",
    "plt.hist(players_rating.values(), 100)\n",
    "plt.title('Рейтинг игроков')\n",
    "plt.ylabel('Количество игроков с данным рейтингом')\n",
    "plt.xlabel('Рейтинг игрока')\n",
    "plt.show()"
   ]
  },
  {
   "cell_type": "markdown",
   "metadata": {},
   "source": [
    "Видно, что распределение имеет такой вид, что у большинства игроков рейтинг лежит где-то посередине. "
   ]
  },
  {
   "cell_type": "code",
   "execution_count": null,
   "metadata": {
    "scrolled": false
   },
   "outputs": [],
   "source": [
    "# Выведем 20 чамых лучших игроков за 2019 год. \n",
    "ans_dict = {'player_name': [], 'player_rating': []}\n",
    "for (player_id, player_rating) in sorted(players_rating.items(), key=lambda x: x[1], reverse=True)[:20]:\n",
    "    ans_dict['player_name'].append(all_players[player_id]['name'] + ' ' + all_players[player_id]['patronymic'] + ' ' + all_players[player_id]['surname'])\n",
    "    ans_dict['player_rating'].append(player_rating)\n",
    "pd.DataFrame.from_records(ans_dict)"
   ]
  },
  {
   "cell_type": "markdown",
   "metadata": {},
   "source": [
    "# 3\n",
    "Качество рейтинг-системы оценивается качеством предсказаний результатов турниров. Но сами повопросные результаты наши модели предсказывать вряд ли смогут, ведь неизвестно, насколько сложными окажутся вопросы в будущих турнирах; да и не нужны эти предсказания сами по себе. Поэтому:\n",
    "\n",
    "предложите способ предсказать результаты нового турнира с известными составами, но неизвестными вопросами, в виде ранжирования команд;\n",
    "\n",
    "в качестве метрики качества на тестовом наборе давайте считать ранговые корреляции Спирмена и Кендалла (их можно взять в пакете scipy) между реальным ранжированием в результатах турнира и предсказанным моделью, усреднённые по тестовому множеству турниров."
   ]
  },
  {
   "cell_type": "markdown",
   "metadata": {},
   "source": [
    "Если вероятность игроком $X_i$ правильно ответить на вопрос $P(X_i)$, то вероятность не ответить на вопрос -- $1-P(X_i)$. Тогда вероятность участников команды $T$ не ответить на вопрос равна произведению этих вероятностей $\\prod_{X_i \\in T} \\left( 1 - P(X_i) \\right)$, в таком случае вероятность правильно ответить на вопрос (рейтинг команды) равна $$\\prod_{X_i \\in T} \\left( 1 - P(X_i) \\right).$$\n"
   ]
  },
  {
   "cell_type": "code",
   "execution_count": null,
   "metadata": {},
   "outputs": [],
   "source": [
    "def rate_team(team: Dict[str, str], players_rating: Dict[int, float], p_mean: float) -> float:\n",
    "    ans = 1\n",
    "    for player in team['teamMembers']:\n",
    "        player_id = player['player']['id']\n",
    "        if player_id in players_rating.keys():\n",
    "            p = players_rating[player_id]\n",
    "        else:\n",
    "            p = p_mean\n",
    "        ans *= (1 - p)\n",
    "    return 1 - ans"
   ]
  },
  {
   "cell_type": "code",
   "execution_count": null,
   "metadata": {},
   "outputs": [],
   "source": [
    "kendaltau_s = []\n",
    "spearman_s = []\n",
    "\n",
    "# Если игрока нет в рейтинге, то присвоим ему средний рейтинг.\n",
    "p_mean = np.mean(list(players_rating.values()))\n",
    "\n",
    "for tournament_id, teams in test_results.items():\n",
    "    my_team_rating = np.empty_like(teams)\n",
    "    real_places = np.empty_like(my_team_rating)\n",
    "    for i, team in enumerate(teams):\n",
    "        my_team_rating[i] = rate_team(team, players_rating, p_mean)\n",
    "        real_places[i] = team['position']\n",
    "    \n",
    "    my_team_places = np.argsort(my_team_rating)[::-1]\n",
    "    kendalltau_i = kendalltau(my_team_places, real_places)[0]\n",
    "    spearmanr_i = spearmanr(my_team_places, real_places)[0]\n",
    "    if not np.isnan(kendalltau_i) and not np.isnan(spearmanr_i):\n",
    "        kendaltau_s.append(kendalltau_i)\n",
    "        spearman_s.append(spearmanr_i)\n",
    "\n",
    "print(f'Средняя корреляция Спирмана {np.mean(spearman_s)}, средняя корреляция Кендалла {np.mean(kendaltau_s)}.')"
   ]
  },
  {
   "cell_type": "markdown",
   "metadata": {},
   "source": [
    "# 4\n",
    "Теперь главное: ЧГК — это всё-таки командная игра. Поэтому:\n",
    "\n",
    "    предложите способ учитывать то, что на вопрос отвечают сразу несколько игроков; скорее всего, понадобятся скрытые переменные; не стесняйтесь делать упрощающие предположения, но теперь переменные “игрок X ответил на вопрос Y” при условии данных должны стать зависимыми для игроков одной и той же команды;\n",
    "    \n",
    "    разработайте EM-схему для обучения этой модели, реализуйте её в коде;\n",
    "\n",
    "    обучите несколько итераций, убедитесь, что целевые метрики со временем растут (скорее всего, ненамного, но расти должны), выберите лучшую модель, используя целевые метрики.\n",
    "\n"
   ]
  },
  {
   "cell_type": "code",
   "execution_count": null,
   "metadata": {},
   "outputs": [],
   "source": []
  }
 ],
 "metadata": {
  "kernelspec": {
   "display_name": "Python 3",
   "language": "python",
   "name": "python3"
  },
  "language_info": {
   "codemirror_mode": {
    "name": "ipython",
    "version": 3
   },
   "file_extension": ".py",
   "mimetype": "text/x-python",
   "name": "python",
   "nbconvert_exporter": "python",
   "pygments_lexer": "ipython3",
   "version": "3.8.5"
  }
 },
 "nbformat": 4,
 "nbformat_minor": 4
}
