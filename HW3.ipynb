{
 "cells": [
  {
   "cell_type": "markdown",
   "metadata": {},
   "source": [
    "Продвинутое машинное обучение: \n",
    "Домашнее задание 3\n",
    "\n",
    "Третье домашнее задание посвящено достаточно простой, но, надеюсь, интересной задаче, в которой потребуется творчески применить методы сэмплирования. Как и раньше, в качестве решения ожидается ссылка на jupyter-ноутбук на вашем github (или публичный, или с доступом для snikolenko); ссылку обязательно нужно прислать в виде сданного домашнего задания на портале Академии. Как всегда, любые комментарии, новые идеи и рассуждения на тему категорически приветствуются. \n",
    "\n",
    "В этом небольшом домашнем задании мы попробуем улучшить метод Шерлока Холмса. Как известно, в рассказе The Adventure of the Dancing Men великий сыщик расшифровал загадочные письмена, которые выглядели примерно так:\n",
    "\n",
    "Пользовался он для этого так называемым частотным методом: смотрел, какие буквы чаще встречаются в зашифрованных текстах, и пытался подставить буквы в соответствии с частотной таблицей: E — самая частая и так далее.\n",
    "В этом задании мы будем разрабатывать более современный и продвинутый вариант такого частотного метода. В качестве корпусов текстов для подсчётов частот можете взять что угодно, но для удобства вот вам “Война и мир” по-русски и по-английски:\n",
    "\n",
    "https://www.dropbox.com/s/k23enjvr3fb40o5/corpora.zip \n",
    "\n",
    "Реализуйте базовый частотный метод по Шерлоку Холмсу:\n",
    "\n",
    "подсчитайте частоты букв по корпусам (пунктуацию и капитализацию можно просто опустить, а вот пробелы лучше оставить);\n",
    "\n",
    "возьмите какие-нибудь тестовые тексты (нужно взять по меньшей мере 2-3 предложения, иначе вряд ли сработает), зашифруйте их посредством случайной перестановки символов;\n",
    "\n",
    "расшифруйте их таким частотным методом.\n",
    "\n",
    "Вряд ли в результате получилась такая уж хорошая расшифровка, разве что если вы брали в качестве тестовых данных целые рассказы. Но и Шерлок Холмс был не так уж прост: после буквы E, которая действительно выделяется частотой, дальше он анализировал уже конкретные слова и пытался угадать, какими они могли бы быть. Я не знаю, как запрограммировать такой интуитивный анализ, так что давайте просто сделаем следующий логический шаг:\n",
    "\n",
    "подсчитайте частоты биграмм (т.е. пар последовательных букв) по корпусам;\n",
    "\n",
    "проведите тестирование аналогично п.1, но при помощи биграмм.\n",
    "\n",
    "Но и это ещё не всё: биграммы скорее всего тоже далеко не всегда работают. Основная часть задания — в том, как можно их улучшить:\n",
    "\n",
    "предложите метод обучения перестановки символов в этом задании, основанный на MCMC-сэмплировании, но по-прежнему работающий на основе статистики биграмм;\n",
    "\n",
    "реализуйте и протестируйте его, убедитесь, что результаты улучшились.\n",
    "\n",
    "Расшифруйте сообщение:\n",
    "←⇠⇒↟↹↷⇊↹↷↟↤↟↨←↹↝⇛⇯↳⇴⇒⇈↝⇊↾↹↟⇒↟↹⇷⇛⇞↨↟↹↝⇛⇯↳⇴⇒⇈↝⇊↾↹↨←⇌⇠↨↹⇙↹⇸↨⇛↙⇛↹⇠⇛⇛↲⇆←↝↟↞↹⇌⇛↨⇛⇯⇊↾↹⇒←↙⇌⇛↹⇷⇯⇛⇞↟↨⇴↨⇈↹⇠⇌⇛⇯←←↹↷⇠←↙⇛↹↷⇊↹↷⇠←↹⇠↤←⇒⇴⇒↟↹⇷⇯⇴↷↟⇒⇈↝⇛↹↟↹⇷⇛⇒⇙⇞↟↨←↹↳⇴⇌⇠↟↳⇴⇒⇈↝⇊↾↹↲⇴⇒⇒↹⇰⇴↹⇷⇛⇠⇒←↤↝←←↹⇞←↨↷←⇯↨⇛←↹⇰⇴↤⇴↝↟←↹⇌⇙⇯⇠⇴↹↘⇛↨↞↹⇌⇛↝←⇞↝⇛↹↞↹↝↟⇞←↙⇛↹↝←↹⇛↲←⇆⇴⇏\n",
    "\n",
    "Или это (они одинаковые, второй вариант просто на случай проблем с юникодом):\n",
    "\n",
    "დჳჵჂႨშႼႨშჂხჂჲდႨსႹႭჾႣჵისႼჰႨჂჵჂႨႲႹႧჲჂႨსႹႭჾႣჵისႼჰႨჲდႩჳჲႨჇႨႠჲႹქႹႨჳႹႹჱჶდსჂႽႨႩႹჲႹႭႼჰႨჵდქႩႹႨႲႭႹႧჂჲႣჲიႨჳႩႹႭდდႨშჳდქႹႨშႼႨშჳდႨჳხდჵႣჵჂႨႲႭႣშჂჵისႹႨჂႨႲႹჵჇႧჂჲდႨჾႣႩჳჂჾႣჵისႼჰႨჱႣჵჵႨეႣႨႲႹჳჵდხსდდႨႧდჲშდႭჲႹდႨეႣხႣსჂდႨႩჇႭჳႣႨႾႹჲႽႨႩႹსდႧსႹႨႽႨსჂႧდქႹႨსდႨႹჱდჶႣნ\n",
    "\n",
    "Бонус: а что если от биграмм перейти к триграммам (тройкам букв) или даже больше? Улучшатся ли результаты? Когда улучшатся, а когда нет? Чтобы ответить на этот вопрос эмпирически, уже может понадобиться погенерировать много тестовых перестановок и последить за метриками, глазами может быть и не видно.\n",
    "Бонус: какие вы можете придумать применения для этой модели? Пляшущие человечки ведь не так часто встречаются в жизни (хотя встречаются! и это самое потрясающее во всей этой истории, но об этом я расскажу потом).\n"
   ]
  },
  {
   "cell_type": "code",
   "execution_count": 11,
   "metadata": {},
   "outputs": [
    {
     "name": "stdout",
     "output_type": "stream",
     "text": [
      "Collecting ntlk\n",
      "  Downloading ntlk-1.0.3.tar.gz (8.0 kB)\n",
      "Building wheels for collected packages: ntlk\n",
      "  Building wheel for ntlk (setup.py) ... \u001b[?25lerror\n",
      "\u001b[31m  ERROR: Command errored out with exit status 1:\n",
      "   command: /Users/mikhailgashkov/.venv/bin/python3.8 -u -c 'import sys, setuptools, tokenize; sys.argv[0] = '\"'\"'/private/var/folders/g2/bsyh3zhd6391b9hls2ygybn80000gn/T/pip-install-r0406ijn/ntlk_84c42f010721443eb944203a98c16e92/setup.py'\"'\"'; __file__='\"'\"'/private/var/folders/g2/bsyh3zhd6391b9hls2ygybn80000gn/T/pip-install-r0406ijn/ntlk_84c42f010721443eb944203a98c16e92/setup.py'\"'\"';f=getattr(tokenize, '\"'\"'open'\"'\"', open)(__file__);code=f.read().replace('\"'\"'\\r\\n'\"'\"', '\"'\"'\\n'\"'\"');f.close();exec(compile(code, __file__, '\"'\"'exec'\"'\"'))' bdist_wheel -d /private/var/folders/g2/bsyh3zhd6391b9hls2ygybn80000gn/T/pip-wheel-wh3dzr_3\n",
      "       cwd: /private/var/folders/g2/bsyh3zhd6391b9hls2ygybn80000gn/T/pip-install-r0406ijn/ntlk_84c42f010721443eb944203a98c16e92/\n",
      "  Complete output (13 lines):\n",
      "  running bdist_wheel\n",
      "  running build\n",
      "  installing to build/bdist.macosx-10.9-x86_64/wheel\n",
      "  running install\n",
      "  \n",
      "  You probably meant to install NLTK (the Natural Language Toolkit).\n",
      "  You have attempted to install NTLK instead. This is an empty package\n",
      "  to help prevent typosquatting. To install NLTK, try this instead:\n",
      "  pip install nltk\n",
      "  \n",
      "  Stay safe,\n",
      "  tweedge <3\n",
      "  \n",
      "  ----------------------------------------\u001b[0m\n",
      "\u001b[31m  ERROR: Failed building wheel for ntlk\u001b[0m\n",
      "\u001b[?25h  Running setup.py clean for ntlk\n",
      "Failed to build ntlk\n",
      "Installing collected packages: ntlk\n",
      "    Running setup.py install for ntlk ... \u001b[?25lerror\n",
      "\u001b[31m    ERROR: Command errored out with exit status 1:\n",
      "     command: /Users/mikhailgashkov/.venv/bin/python3.8 -u -c 'import sys, setuptools, tokenize; sys.argv[0] = '\"'\"'/private/var/folders/g2/bsyh3zhd6391b9hls2ygybn80000gn/T/pip-install-r0406ijn/ntlk_84c42f010721443eb944203a98c16e92/setup.py'\"'\"'; __file__='\"'\"'/private/var/folders/g2/bsyh3zhd6391b9hls2ygybn80000gn/T/pip-install-r0406ijn/ntlk_84c42f010721443eb944203a98c16e92/setup.py'\"'\"';f=getattr(tokenize, '\"'\"'open'\"'\"', open)(__file__);code=f.read().replace('\"'\"'\\r\\n'\"'\"', '\"'\"'\\n'\"'\"');f.close();exec(compile(code, __file__, '\"'\"'exec'\"'\"'))' install --record /private/var/folders/g2/bsyh3zhd6391b9hls2ygybn80000gn/T/pip-record-bqj1uzj9/install-record.txt --single-version-externally-managed --compile --install-headers /Users/mikhailgashkov/.venv/include/site/python3.8/ntlk\n",
      "         cwd: /private/var/folders/g2/bsyh3zhd6391b9hls2ygybn80000gn/T/pip-install-r0406ijn/ntlk_84c42f010721443eb944203a98c16e92/\n",
      "    Complete output (10 lines):\n",
      "    running install\n",
      "    \n",
      "    You probably meant to install NLTK (the Natural Language Toolkit).\n",
      "    You have attempted to install NTLK instead. This is an empty package\n",
      "    to help prevent typosquatting. To install NLTK, try this instead:\n",
      "    pip install nltk\n",
      "    \n",
      "    Stay safe,\n",
      "    tweedge <3\n",
      "    \n",
      "    ----------------------------------------\u001b[0m\n",
      "\u001b[31mERROR: Command errored out with exit status 1: /Users/mikhailgashkov/.venv/bin/python3.8 -u -c 'import sys, setuptools, tokenize; sys.argv[0] = '\"'\"'/private/var/folders/g2/bsyh3zhd6391b9hls2ygybn80000gn/T/pip-install-r0406ijn/ntlk_84c42f010721443eb944203a98c16e92/setup.py'\"'\"'; __file__='\"'\"'/private/var/folders/g2/bsyh3zhd6391b9hls2ygybn80000gn/T/pip-install-r0406ijn/ntlk_84c42f010721443eb944203a98c16e92/setup.py'\"'\"';f=getattr(tokenize, '\"'\"'open'\"'\"', open)(__file__);code=f.read().replace('\"'\"'\\r\\n'\"'\"', '\"'\"'\\n'\"'\"');f.close();exec(compile(code, __file__, '\"'\"'exec'\"'\"'))' install --record /private/var/folders/g2/bsyh3zhd6391b9hls2ygybn80000gn/T/pip-record-bqj1uzj9/install-record.txt --single-version-externally-managed --compile --install-headers /Users/mikhailgashkov/.venv/include/site/python3.8/ntlk Check the logs for full command output.\u001b[0m\n",
      "\u001b[33mWARNING: You are using pip version 21.0.1; however, version 21.1.1 is available.\n",
      "You should consider upgrading via the '/Users/mikhailgashkov/.venv/bin/python3.8 -m pip install --upgrade pip' command.\u001b[0m\n",
      "\u001b[?25h"
     ]
    }
   ],
   "source": [
    "!pip install ntlk"
   ]
  },
  {
   "cell_type": "code",
   "execution_count": 10,
   "metadata": {},
   "outputs": [
    {
     "ename": "ModuleNotFoundError",
     "evalue": "No module named 'ntlk'",
     "output_type": "error",
     "traceback": [
      "\u001b[0;31m---------------------------------------------------------------------------\u001b[0m",
      "\u001b[0;31mModuleNotFoundError\u001b[0m                       Traceback (most recent call last)",
      "\u001b[0;32m<ipython-input-10-f3f76d074287>\u001b[0m in \u001b[0;36m<module>\u001b[0;34m\u001b[0m\n\u001b[1;32m      6\u001b[0m \u001b[0;34m\u001b[0m\u001b[0m\n\u001b[1;32m      7\u001b[0m \u001b[0;32mimport\u001b[0m \u001b[0mnumpy\u001b[0m \u001b[0;32mas\u001b[0m \u001b[0mnp\u001b[0m\u001b[0;34m\u001b[0m\u001b[0;34m\u001b[0m\u001b[0m\n\u001b[0;32m----> 8\u001b[0;31m \u001b[0;32mfrom\u001b[0m \u001b[0mntlk\u001b[0m\u001b[0;34m.\u001b[0m\u001b[0mutis\u001b[0m \u001b[0;32mimport\u001b[0m \u001b[0mngrams\u001b[0m\u001b[0;34m\u001b[0m\u001b[0;34m\u001b[0m\u001b[0m\n\u001b[0m",
      "\u001b[0;31mModuleNotFoundError\u001b[0m: No module named 'ntlk'"
     ]
    }
   ],
   "source": [
    "from collections import Counter\n",
    "from pathlib import Path\n",
    "import random\n",
    "import re\n",
    "import string\n",
    "\n",
    "import numpy as np\n",
    "from ntlk.utis import ngrams"
   ]
  },
  {
   "cell_type": "code",
   "execution_count": 2,
   "metadata": {},
   "outputs": [],
   "source": [
    "# read data from files\n",
    "\n",
    "cor_path = Path('corpora')\n",
    "\n",
    "with open(cor_path / 'AnnaKarenina.txt') as f:\n",
    "    text_anna = f.read()\n",
    "    \n",
    "with open(cor_path / 'WarAndPeaceEng.txt') as f:\n",
    "    text_wap_eng = f.read()\n",
    "\n",
    "with open(cor_path / 'WarAndPeace.txt') as f:\n",
    "    text_wap = f.read()"
   ]
  },
  {
   "cell_type": "code",
   "execution_count": 3,
   "metadata": {},
   "outputs": [
    {
     "data": {
      "text/plain": [
       "(1813200, 3226615, 717873)"
      ]
     },
     "execution_count": 3,
     "metadata": {},
     "output_type": "execute_result"
    }
   ],
   "source": [
    "len(text_anna), len(text_wap_eng), len(text_wap)"
   ]
  },
  {
   "cell_type": "markdown",
   "metadata": {},
   "source": [
    "## 1\n",
    "Реализуйте базовый частотный метод по Шерлоку Холмсу:\n",
    "- подсчитайте частоты букв по корпусам (пунктуацию и капитализацию можно просто опустить, а вот пробелы лучше оставить);\n",
    "- возьмите какие-нибудь тестовые тексты (нужно взять по меньшей мере 2-3 предложения, иначе вряд ли сработает), зашифруйте их посредством случайной перестановки символов;\n",
    "- расшифруйте их таким частотным методом."
   ]
  },
  {
   "cell_type": "code",
   "execution_count": 4,
   "metadata": {},
   "outputs": [],
   "source": [
    "# Опускаем пункуацию и капитализацию\n",
    "def clean_text(inc_text: str) -> str:\n",
    "    text = inc_text.lower()\n",
    "    text = text.translate(str.maketrans('', '', string.punctuation))\n",
    "    text = re.sub('\\n', ' ', text)\n",
    "    return text\n",
    "\n",
    "text_anna = clean_text(text_anna)\n",
    "text_wap = clean_text(text_wap)\n",
    "text_wap_eng = clean_text(text_wap_eng)"
   ]
  },
  {
   "cell_type": "code",
   "execution_count": 5,
   "metadata": {},
   "outputs": [],
   "source": [
    "class StatisticsChars:\n",
    "    def __init__(self, text: str):\n",
    "        self.income_text = text\n",
    "        self.char_counter = Counter(text)\n",
    "        self.char_freq = dict()\n",
    "        length = len(text)\n",
    "        for char, count in self.char_counter.items():\n",
    "            self.char_freq[char] = count / length\n",
    "        self.sorted_chars = ''.join(char for (char, freq) in sorted(\n",
    "            self.char_freq.items(), key=lambda x: x[1], reverse=True\n",
    "        ))\n",
    "        \n",
    "    def __repr__(self) -> str:\n",
    "        out_str = 'Statistics of the text is as follows \\n'\n",
    "        out_str += '\\n'.join((f'{char}: {freq}') for (char, freq) in sorted(self.char_freq.items(), key=lambda x: x[1], reverse=True))\n",
    "        return out_str"
   ]
  },
  {
   "cell_type": "code",
   "execution_count": 6,
   "metadata": {},
   "outputs": [],
   "source": [
    "stat_text_anna = StatisticsChars(text_anna)\n",
    "stat_text_wap = StatisticsChars(text_wap)\n",
    "stat_text_wap_eng = StatisticsChars(text_wap_eng)\n",
    "\n",
    "# print(stat_text_anna)\n",
    "# print(stat_text_wap)\n",
    "# print(stat_text_wap_eng)"
   ]
  },
  {
   "cell_type": "markdown",
   "metadata": {},
   "source": [
    "Источники текстов:\n",
    "1. https://ru.wikipedia.org/wiki/Фру-Фру\n",
    "2. https://habr.com/ru/news/t/556506/\n",
    "3. https://nplus1.ru/news/2021/05/08/orcs-space"
   ]
  },
  {
   "cell_type": "code",
   "execution_count": 7,
   "metadata": {},
   "outputs": [],
   "source": [
    "TEST_TEXT_1 = 'Фру-Фру — английская чистокровная скаковая лошадь графа Алексея Вронского, одного из главных персонажей романа Л. Н. Толстого «Анна Каренина». Она погибает во время офицерских скачек с барьерами в Красном Селе. При взятии последнего барьера Вронский после прыжка неудачно опустился на седло и сломал ей спину. Кобыла была обречена и в связи с этим пристрелена. Граф очень переживал её гибель, так как был к ней очень сильно привязан и чувствовал свою вину. Фру-Фру рассматривается исследователями как продуманный символ, параллель к судьбе главной героини романа — Анны Карениной, замужней женщины, у которой был роман с Вронским, что привело её к самоубийству. Исследователи находят много общего в описании этих на первый взгляд совершенно разноплановых персонажей, в характере, обращении и чувствах к ним Вронского.'\n",
    "TEST_TEXT_2 = 'Фактически злоумышленники могут перепрограммировать такие метки и распространять через них ссылки на зараженные сайты и использовать в других злонамеренных целях, включая удаленную слежку за человеком. Обычно AirTag перенаправляет на веб-сайт «found.apple.com» для отображения информации о режиме пропажи, связанной с владельцем. Вероятно, что Apple выпустит обновление безопасности для этого устройства после инцидента с публикацией Stack Smashing, если компания подтвердит возможность такого взлома. Программы по вознаграждению за найденные уязвимости у Apple по этому гаджету нет. '\n",
    "TEST_TEXT_3 = 'Астрономы открыли нового космического «орка» — гигантскую кольцеобразную структуру, видимую в радиодиапазоне. В ее центре оказалась эллиптическая галактика, что позволило связать подобные объекты с процессами взаимодействия галактик с окружающей средой или активностью сверхмассивных черных дыр. Дальнейшие наблюдения за «орками» должны подтвердить или опровергнуть эти идеи. Препринт работы опубликован на сайте arXiv.org.'"
   ]
  },
  {
   "cell_type": "code",
   "execution_count": 8,
   "metadata": {},
   "outputs": [],
   "source": [
    "TEST_TEXT_1 = clean_text(TEST_TEXT_1)\n",
    "TEST_TEXT_2 = clean_text(TEST_TEXT_2)\n",
    "TEST_TEXT_3 = clean_text(TEST_TEXT_3)"
   ]
  },
  {
   "cell_type": "code",
   "execution_count": 9,
   "metadata": {
    "scrolled": true
   },
   "outputs": [],
   "source": [
    "def cifr_text_by_shuffling(text: str) -> str:\n",
    "    list_text = list(text)\n",
    "    random.shuffle(list_text)\n",
    "    return ''.join(list_text)\n",
    "\n",
    "test_1 = cifr_text_by_shuffling(TEST_TEXT_1)\n",
    "test_2 = cifr_text_by_shuffling(TEST_TEXT_2)\n",
    "test_3 = cifr_text_by_shuffling(TEST_TEXT_3)\n",
    "# test_1, test_2, test_3"
   ]
  },
  {
   "cell_type": "code",
   "execution_count": 116,
   "metadata": {},
   "outputs": [],
   "source": [
    "class CharFreqDecoder:\n",
    "    def __init__(self, lang_corp_stat: StatisticsChars):\n",
    "        self.corpora_stats = lang_corp_stat.char_freq\n",
    "        self.sorted_corpora_chars = lang_corp_stat.sorted_chars\n",
    "        \n",
    "    def decode_text(self, cifred_text: str) -> str:\n",
    "        text_stat = StatisticsChars(cifred_text)\n",
    "        sorted_text_chars = text_stat.sorted_chars\n",
    "        \n",
    "        min_len = min(len(sorted_text_chars), len(self.sorted_corpora_chars))\n",
    "\n",
    "        translator = str.maketrans(sorted_text_chars[:min_len], self.sorted_corpora_chars[:min_len])\n",
    "        return cifred_text.translate(translator)"
   ]
  },
  {
   "cell_type": "code",
   "execution_count": 117,
   "metadata": {},
   "outputs": [],
   "source": [
    "def count_accuracy(text_1: str, text_2: str):\n",
    "    assert len(text_1) == len(text_2), 'Please, enter texts of equal lengths'\n",
    "    coinc = sum(char_1 == char_2 for char_1, char_2 in zip(text_1, test_2))\n",
    "    return coinc / len(text_1)"
   ]
  },
  {
   "cell_type": "code",
   "execution_count": 119,
   "metadata": {},
   "outputs": [
    {
     "name": "stdout",
     "output_type": "stream",
     "text": [
      "фруфру — английская чистокровная скаковая лошадь графа алексея вронского одного из главных персонажей романа л н толстого «анна каренина» она погибает во время офицерских скачек с барьерами в красном селе при взятии последнего барьера вронский после прыжка неудачно опустился на седло и сломал ей спину кобыла была обречена и в связи с этим пристрелена граф очень переживал её гибель так как был к ней очень сильно привязан и чувствовал свою вину фруфру рассматривается исследователями как продуманный символ параллель к судьбе главной героини романа — анны карениной замужней женщины у которой был роман с вронским что привело её к самоубийству исследователи находят много общего в описании этих на первый взгляд совершенно разноплановых персонажей в характере обращении и чувствах к ним вронского\n",
      "0.02756892230576441 лко сссеыес с теи йи смрасеаокбзытензеина уяж атанякнпаиаеке  молгсжчетни аеие кт нпстотьлаил аете веноe оеоаеeилно ннот соит врбвквкиуроле—еб sьсттп  о  оитз  савмпу ешжггмб  ыiазпиенй уата а ылтиирл б еьн  пр аанур  аисртионн опильвалыаызауипнодшюсатрс  йм нввлааaло нц йвмовтьп зрьяр т тнелдыи иннннекссамезирги рйиксауснтжеывтч еыксаоковто лроьтд ааедшвлтасюб аонйктетоибоепте  евс мчхя  с ливн— ав  оя из хн иа чооасса ьзаьсауасжоьлпгис а весмеооктсвrее илплна о ниенннняшеора яаее вьтсрпое уошт рнт немрялчмвас в ео им хнке ха ро еого  тынаитоплоседгодхвоецчрчс амдд  иаоавоуввякадсе етлсидо шеаттд в н иолн  мкт нллктр лиурмоа ь яоттуаиилуп я  уинрерррлан дсгоnс ое ало д  хоиьявисооуиорагвасоиге оиаттшиглигсонсаитоидeгрчавнблиос двуожи нл б кремдо нжедляк ычзиватдисопазквл ва амоковай лnа\n",
      "0.02756892230576441 лко сссагас с тан жн смресаеокчбгтаибание уяй етеиякипенеака  мольсйзатин еана кт ипстотыленл еата ваиох оаоеахнлио ииот сонт врчвквкнуролаюач фысттп  о  онтб  севмпу ашйььмч  г«ебпнаиж уете е глтннрл ч аыи  пр ееиур  енсртноии опнлывелгегбеунпиодшэсетрс  жм иввлее»ло ищ жвмовтып брыяр т тиалдгн нииииакссемабнрьн ржнксеуситйагвтз агксеоковто лроытд ееадшвлтесэч еоижктатончоапта  авс мз–я  с лнвию ев  оя нб –и не зооессе ыбеысеуесйоылпьнс е васмаооктсв…аа нлплие о инаиииияшаоре яеаа вытсрпоа уошт рит иамрялзмвес в ао нм –ика –е ро аоьо  тгиентоплосадьод–воащзрзс емдд  неоевоуввякедса атлсндо шаеттд в и ноли  мкт иллктр лнурмое ы яоттуеннлуп я  унирарррлеи дсьоцс оа ело д  –оныявнсооунореьвесоньа онеттшньлньсоисентондхьрзевичлнос двуойн ил ч крамдо ийадляк гзбнветднсопебквл ве емоковеж лце\n"
     ]
    }
   ],
   "source": [
    "decoder_wap = CharFreqDecoder(lang_corp_stat=stat_text_wap)\n",
    "decoder_anna = CharFreqDecoder(lang_corp_stat=stat_text_anna)\n",
    "\n",
    "print(TEST_TEXT_1)\n",
    "print(count_accuracy(TEST_TEXT_1, decoder_wap.decode_text(test_1)), decoder_wap.decode_text(test_1))\n",
    "print(count_accuracy(TEST_TEXT_1, decoder_anna.decode_text(test_1)), decoder_anna.decode_text(test_1))"
   ]
  },
  {
   "cell_type": "code",
   "execution_count": 120,
   "metadata": {
    "scrolled": true
   },
   "outputs": [
    {
     "name": "stdout",
     "output_type": "stream",
     "text": [
      "0.0625  ранкитоес лндесавв еомлу пияоть\n",
      "0.0625  реикнтоас лидасевв аомлу пняотг\n"
     ]
    }
   ],
   "source": [
    "# Что-то совсем ерунда получилась. Наверное, стоит взять тестовые тексты покороче!\n",
    "TEXT_SHORT = 'Иногда лучше жевать, чем говорить.'\n",
    "TEXT_SHORT = clean_text(TEXT_SHORT)\n",
    "text_short = cifr_text_by_shuffling(TEXT_SHORT)\n",
    "print(count_accuracy(TEXT_SHORT, decoder_anna.decode_text(text_short)), decoder_anna.decode_text(text_short))\n",
    "print(count_accuracy(TEXT_SHORT, decoder_wap.decode_text(text_short)), decoder_wap.decode_text(text_short))"
   ]
  },
  {
   "cell_type": "code",
   "execution_count": 96,
   "metadata": {},
   "outputs": [],
   "source": [
    "# :-((("
   ]
  },
  {
   "cell_type": "markdown",
   "metadata": {},
   "source": [
    "## 2 \n",
    "Вряд ли в результате получилась такая уж хорошая расшифровка, разве что если вы брали в качестве тестовых данных целые рассказы. Но и Шерлок Холмс был не так уж прост: после буквы E, которая действительно выделяется частотой, дальше он анализировал уже конкретные слова и пытался угадать, какими они могли бы быть. Я не знаю, как запрограммировать такой интуитивный анализ, так что давайте просто сделаем следующий логический шаг:\n",
    "- подсчитайте частоты биграмм (т.е. пар последовательных букв) по корпусам;\n",
    "- проведите тестирование аналогично п.1, но при помощи биграмм."
   ]
  },
  {
   "cell_type": "code",
   "execution_count": null,
   "metadata": {},
   "outputs": [],
   "source": []
  },
  {
   "cell_type": "code",
   "execution_count": null,
   "metadata": {},
   "outputs": [],
   "source": []
  },
  {
   "cell_type": "code",
   "execution_count": null,
   "metadata": {},
   "outputs": [],
   "source": []
  },
  {
   "cell_type": "code",
   "execution_count": null,
   "metadata": {},
   "outputs": [],
   "source": []
  },
  {
   "cell_type": "markdown",
   "metadata": {},
   "source": [
    "## 3\n",
    "о и это ещё не всё: биграммы скорее всего тоже далеко не всегда работают. Основная часть задания — в том, как можно их улучшить:\n",
    "- предложите метод обучения перестановки символов в этом задании, основанный на MCMC-сэмплировании, но по-прежнему работающий на основе статистики биграмм;\n",
    "- реализуйте и протестируйте его, убедитесь, что результаты улучшились.\n",
    "Расшифруйте сообщение: \n",
    "> ←⇠⇒↟↹↷⇊↹↷↟↤↟↨←↹↝⇛⇯↳⇴⇒⇈↝⇊↾↹↟⇒↟↹⇷⇛⇞↨↟↹↝⇛⇯↳⇴⇒⇈↝⇊↾↹↨←⇌⇠↨↹⇙↹⇸↨⇛↙⇛↹⇠⇛⇛↲⇆←↝↟↞↹⇌⇛↨⇛⇯⇊↾↹⇒←↙⇌⇛↹⇷⇯⇛⇞↟↨⇴↨⇈↹⇠⇌⇛⇯←←↹↷⇠←↙⇛↹↷⇊↹↷⇠←↹⇠↤←⇒⇴⇒↟↹⇷⇯⇴↷↟⇒⇈↝⇛↹↟↹⇷⇛⇒⇙⇞↟↨←↹↳⇴⇌⇠↟↳⇴⇒⇈↝⇊↾↹↲⇴⇒⇒↹⇰⇴↹⇷⇛⇠⇒←↤↝←←↹⇞←↨↷←⇯↨⇛←↹⇰⇴↤⇴↝↟←↹⇌⇙⇯⇠⇴↹↘⇛↨↞↹⇌⇛↝←⇞↝⇛↹↞↹↝↟⇞←↙⇛↹↝←↹⇛↲←⇆⇴⇏\n",
    "\n",
    "Или это (они одинаковые, второй вариант просто на случай проблем с юникодом):\n",
    "> დჳჵჂႨშႼႨშჂხჂჲდႨსႹႭჾႣჵისႼჰႨჂჵჂႨႲႹႧჲჂႨსႹႭჾႣჵისႼჰႨჲდႩჳჲႨჇႨႠჲႹქႹႨჳႹႹჱჶდსჂႽႨႩႹჲႹႭႼჰႨჵდქႩႹႨႲႭႹႧჂჲႣჲიႨჳႩႹႭდდႨშჳდქႹႨშႼႨშჳდႨჳხდჵႣჵჂႨႲႭႣშჂჵისႹႨჂႨႲႹჵჇႧჂჲდႨჾႣႩჳჂჾႣჵისႼჰႨჱႣჵჵႨეႣႨႲႹჳჵდხსდდႨႧდჲშდ"
   ]
  },
  {
   "cell_type": "code",
   "execution_count": null,
   "metadata": {},
   "outputs": [],
   "source": []
  }
 ],
 "metadata": {
  "kernelspec": {
   "display_name": "Python 3",
   "language": "python",
   "name": "python3"
  },
  "language_info": {
   "codemirror_mode": {
    "name": "ipython",
    "version": 3
   },
   "file_extension": ".py",
   "mimetype": "text/x-python",
   "name": "python",
   "nbconvert_exporter": "python",
   "pygments_lexer": "ipython3",
   "version": "3.8.5"
  }
 },
 "nbformat": 4,
 "nbformat_minor": 4
}
