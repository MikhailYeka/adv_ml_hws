{
 "cells": [
  {
   "cell_type": "markdown",
   "metadata": {},
   "source": [
    "Продвинутое машинное обучение: \n",
    "Домашнее задание 3\n",
    "\n",
    "Третье домашнее задание посвящено достаточно простой, но, надеюсь, интересной задаче, в которой потребуется творчески применить методы сэмплирования. Как и раньше, в качестве решения ожидается ссылка на jupyter-ноутбук на вашем github (или публичный, или с доступом для snikolenko); ссылку обязательно нужно прислать в виде сданного домашнего задания на портале Академии. Как всегда, любые комментарии, новые идеи и рассуждения на тему категорически приветствуются. \n",
    "\n",
    "В этом небольшом домашнем задании мы попробуем улучшить метод Шерлока Холмса. Как известно, в рассказе The Adventure of the Dancing Men великий сыщик расшифровал загадочные письмена, которые выглядели примерно так:\n",
    "\n",
    "Пользовался он для этого так называемым частотным методом: смотрел, какие буквы чаще встречаются в зашифрованных текстах, и пытался подставить буквы в соответствии с частотной таблицей: E — самая частая и так далее.\n",
    "В этом задании мы будем разрабатывать более современный и продвинутый вариант такого частотного метода. В качестве корпусов текстов для подсчётов частот можете взять что угодно, но для удобства вот вам “Война и мир” по-русски и по-английски:\n",
    "\n",
    "https://www.dropbox.com/s/k23enjvr3fb40o5/corpora.zip \n",
    "\n",
    "Реализуйте базовый частотный метод по Шерлоку Холмсу:\n",
    "\n",
    "подсчитайте частоты букв по корпусам (пунктуацию и капитализацию можно просто опустить, а вот пробелы лучше оставить);\n",
    "\n",
    "возьмите какие-нибудь тестовые тексты (нужно взять по меньшей мере 2-3 предложения, иначе вряд ли сработает), зашифруйте их посредством случайной перестановки символов;\n",
    "\n",
    "расшифруйте их таким частотным методом.\n",
    "\n",
    "Вряд ли в результате получилась такая уж хорошая расшифровка, разве что если вы брали в качестве тестовых данных целые рассказы. Но и Шерлок Холмс был не так уж прост: после буквы E, которая действительно выделяется частотой, дальше он анализировал уже конкретные слова и пытался угадать, какими они могли бы быть. Я не знаю, как запрограммировать такой интуитивный анализ, так что давайте просто сделаем следующий логический шаг:\n",
    "\n",
    "подсчитайте частоты биграмм (т.е. пар последовательных букв) по корпусам;\n",
    "\n",
    "проведите тестирование аналогично п.1, но при помощи биграмм.\n",
    "\n",
    "Но и это ещё не всё: биграммы скорее всего тоже далеко не всегда работают. Основная часть задания — в том, как можно их улучшить:\n",
    "\n",
    "предложите метод обучения перестановки символов в этом задании, основанный на MCMC-сэмплировании, но по-прежнему работающий на основе статистики биграмм;\n",
    "\n",
    "реализуйте и протестируйте его, убедитесь, что результаты улучшились.\n",
    "\n",
    "Расшифруйте сообщение:\n",
    "←⇠⇒↟↹↷⇊↹↷↟↤↟↨←↹↝⇛⇯↳⇴⇒⇈↝⇊↾↹↟⇒↟↹⇷⇛⇞↨↟↹↝⇛⇯↳⇴⇒⇈↝⇊↾↹↨←⇌⇠↨↹⇙↹⇸↨⇛↙⇛↹⇠⇛⇛↲⇆←↝↟↞↹⇌⇛↨⇛⇯⇊↾↹⇒←↙⇌⇛↹⇷⇯⇛⇞↟↨⇴↨⇈↹⇠⇌⇛⇯←←↹↷⇠←↙⇛↹↷⇊↹↷⇠←↹⇠↤←⇒⇴⇒↟↹⇷⇯⇴↷↟⇒⇈↝⇛↹↟↹⇷⇛⇒⇙⇞↟↨←↹↳⇴⇌⇠↟↳⇴⇒⇈↝⇊↾↹↲⇴⇒⇒↹⇰⇴↹⇷⇛⇠⇒←↤↝←←↹⇞←↨↷←⇯↨⇛←↹⇰⇴↤⇴↝↟←↹⇌⇙⇯⇠⇴↹↘⇛↨↞↹⇌⇛↝←⇞↝⇛↹↞↹↝↟⇞←↙⇛↹↝←↹⇛↲←⇆⇴⇏\n",
    "\n",
    "Или это (они одинаковые, второй вариант просто на случай проблем с юникодом):\n",
    "\n",
    "დჳჵჂႨშႼႨშჂხჂჲდႨსႹႭჾႣჵისႼჰႨჂჵჂႨႲႹႧჲჂႨსႹႭჾႣჵისႼჰႨჲდႩჳჲႨჇႨႠჲႹქႹႨჳႹႹჱჶდსჂႽႨႩႹჲႹႭႼჰႨჵდქႩႹႨႲႭႹႧჂჲႣჲიႨჳႩႹႭდდႨშჳდქႹႨშႼႨშჳდႨჳხდჵႣჵჂႨႲႭႣშჂჵისႹႨჂႨႲႹჵჇႧჂჲდႨჾႣႩჳჂჾႣჵისႼჰႨჱႣჵჵႨეႣႨႲႹჳჵდხსდდႨႧდჲშდႭჲႹდႨეႣხႣსჂდႨႩჇႭჳႣႨႾႹჲႽႨႩႹსდႧსႹႨႽႨსჂႧდქႹႨსდႨႹჱდჶႣნ\n",
    "\n",
    "Бонус: а что если от биграмм перейти к триграммам (тройкам букв) или даже больше? Улучшатся ли результаты? Когда улучшатся, а когда нет? Чтобы ответить на этот вопрос эмпирически, уже может понадобиться погенерировать много тестовых перестановок и последить за метриками, глазами может быть и не видно.\n",
    "\n",
    "Бонус: какие вы можете придумать применения для этой модели? Пляшущие человечки ведь не так часто встречаются в жизни (хотя встречаются! и это самое потрясающее во всей этой истории, но об этом я расскажу потом).\n"
   ]
  },
  {
   "cell_type": "code",
   "execution_count": 1,
   "metadata": {},
   "outputs": [],
   "source": [
    "from collections import Counter\n",
    "from pathlib import Path\n",
    "from typing import List\n",
    "import random\n",
    "import re\n",
    "import string\n",
    "\n",
    "from matplotlib import pyplot as plt\n",
    "import numpy as np\n",
    "from nltk.util import ngrams\n",
    "%matplotlib inline"
   ]
  },
  {
   "cell_type": "code",
   "execution_count": 2,
   "metadata": {},
   "outputs": [],
   "source": [
    "# read data from files\n",
    "\n",
    "cor_path = Path('corpora')\n",
    "\n",
    "with open(cor_path / 'AnnaKarenina.txt') as f:\n",
    "    text_anna = f.read()\n",
    "    \n",
    "with open(cor_path / 'WarAndPeaceEng.txt') as f:\n",
    "    text_wap_eng = f.read()\n",
    "\n",
    "with open(cor_path / 'WarAndPeace.txt') as f:\n",
    "    text_wap = f.read()"
   ]
  },
  {
   "cell_type": "code",
   "execution_count": 3,
   "metadata": {},
   "outputs": [
    {
     "data": {
      "text/plain": [
       "(1813200, 3226615, 717873)"
      ]
     },
     "execution_count": 3,
     "metadata": {},
     "output_type": "execute_result"
    }
   ],
   "source": [
    "len(text_anna), len(text_wap_eng), len(text_wap)"
   ]
  },
  {
   "cell_type": "markdown",
   "metadata": {},
   "source": [
    "## 1\n",
    "Реализуйте базовый частотный метод по Шерлоку Холмсу:\n",
    "- подсчитайте частоты букв по корпусам (пунктуацию и капитализацию можно просто опустить, а вот пробелы лучше оставить);\n",
    "- возьмите какие-нибудь тестовые тексты (нужно взять по меньшей мере 2-3 предложения, иначе вряд ли сработает), зашифруйте их посредством случайной перестановки символов;\n",
    "- расшифруйте их таким частотным методом."
   ]
  },
  {
   "cell_type": "code",
   "execution_count": 4,
   "metadata": {},
   "outputs": [],
   "source": [
    "# Опускаем пункуацию и капитализацию\n",
    "def clean_text(inc_text: str) -> str:\n",
    "    text = inc_text.lower()\n",
    "    text = text.translate(str.maketrans('', '', string.punctuation))\n",
    "    text = re.sub('\\n', ' ', text)\n",
    "    return text\n",
    "\n",
    "text_anna = clean_text(text_anna)\n",
    "text_wap = clean_text(text_wap)\n",
    "text_wap_eng = clean_text(text_wap_eng)"
   ]
  },
  {
   "cell_type": "code",
   "execution_count": 5,
   "metadata": {},
   "outputs": [],
   "source": [
    "class StatisticsChars:\n",
    "    def __init__(self, text: str):\n",
    "        self.income_text = text\n",
    "        self.char_counter = Counter(text)\n",
    "        self.char_freq = dict()\n",
    "        length = len(text)\n",
    "        for char, count in self.char_counter.items():\n",
    "            self.char_freq[char] = count / length\n",
    "        self.sorted_chars = ''.join(char for (char, freq) in sorted(\n",
    "            self.char_freq.items(), key=lambda x: x[1], reverse=True\n",
    "        ))\n",
    "        \n",
    "    def __repr__(self) -> str:\n",
    "        out_str = 'Statistics of the text is as follows \\n'\n",
    "        out_str += '\\n'.join((f'{char}: {freq}') for (char, freq) in sorted(self.char_freq.items(), key=lambda x: x[1], reverse=True))\n",
    "        return out_str"
   ]
  },
  {
   "cell_type": "code",
   "execution_count": 6,
   "metadata": {},
   "outputs": [],
   "source": [
    "stat_text_anna = StatisticsChars(text_anna)\n",
    "stat_text_wap = StatisticsChars(text_wap)\n",
    "stat_text_wap_eng = StatisticsChars(text_wap_eng)\n",
    "\n",
    "# print(stat_text_anna)\n",
    "# print(stat_text_wap)\n",
    "# print(stat_text_wap_eng)"
   ]
  },
  {
   "cell_type": "markdown",
   "metadata": {},
   "source": [
    "Источники текстов:\n",
    "1. https://ru.wikipedia.org/wiki/Фру-Фру\n",
    "2. https://habr.com/ru/news/t/556506/\n",
    "3. https://nplus1.ru/news/2021/05/08/orcs-space"
   ]
  },
  {
   "cell_type": "code",
   "execution_count": 7,
   "metadata": {},
   "outputs": [],
   "source": [
    "TEST_TEXT_1 = 'Фру-Фру — английская чистокровная скаковая лошадь графа Алексея Вронского, одного из главных персонажей романа Л. Н. Толстого «Анна Каренина». Она погибает во время офицерских скачек с барьерами в Красном Селе. При взятии последнего барьера Вронский после прыжка неудачно опустился на седло и сломал ей спину. Кобыла была обречена и в связи с этим пристрелена. Граф очень переживал её гибель, так как был к ней очень сильно привязан и чувствовал свою вину. Фру-Фру рассматривается исследователями как продуманный символ, параллель к судьбе главной героини романа — Анны Карениной, замужней женщины, у которой был роман с Вронским, что привело её к самоубийству. Исследователи находят много общего в описании этих на первый взгляд совершенно разноплановых персонажей, в характере, обращении и чувствах к ним Вронского.'\n",
    "TEST_TEXT_2 = 'Фактически злоумышленники могут перепрограммировать такие метки и распространять через них ссылки на зараженные сайты и использовать в других злонамеренных целях, включая удаленную слежку за человеком. Обычно AirTag перенаправляет на веб-сайт «found.apple.com» для отображения информации о режиме пропажи, связанной с владельцем. Вероятно, что Apple выпустит обновление безопасности для этого устройства после инцидента с публикацией Stack Smashing, если компания подтвердит возможность такого взлома. Программы по вознаграждению за найденные уязвимости у Apple по этому гаджету нет. '\n",
    "TEST_TEXT_3 = 'Астрономы открыли нового космического «орка» — гигантскую кольцеобразную структуру, видимую в радиодиапазоне. В ее центре оказалась эллиптическая галактика, что позволило связать подобные объекты с процессами взаимодействия галактик с окружающей средой или активностью сверхмассивных черных дыр. Дальнейшие наблюдения за «орками» должны подтвердить или опровергнуть эти идеи. Препринт работы опубликован на сайте arXiv.org.'"
   ]
  },
  {
   "cell_type": "code",
   "execution_count": 8,
   "metadata": {},
   "outputs": [],
   "source": [
    "TEST_TEXT_1 = clean_text(TEST_TEXT_1)\n",
    "TEST_TEXT_2 = clean_text(TEST_TEXT_2)\n",
    "TEST_TEXT_3 = clean_text(TEST_TEXT_3)"
   ]
  },
  {
   "cell_type": "code",
   "execution_count": 9,
   "metadata": {},
   "outputs": [
    {
     "data": {
      "text/plain": [
       "92"
      ]
     },
     "execution_count": 9,
     "metadata": {},
     "output_type": "execute_result"
    }
   ],
   "source": [
    "alphabet = ''.join(stat_text_anna.char_freq.keys())\n",
    "len(alphabet)"
   ]
  },
  {
   "cell_type": "code",
   "execution_count": 10,
   "metadata": {},
   "outputs": [],
   "source": [
    "class Encoder:\n",
    "    def __init__(self, alphabet=alphabet, shift_parameter=3) -> None:\n",
    "         # Поставил shift_parameter \n",
    "        self.alphabet = alphabet\n",
    "        self.alphabet_shifted = alphabet[shift_parameter:] + alphabet[:shift_parameter]\n",
    "        self.translator = str.maketrans(self.alphabet, self.alphabet_shifted)\n",
    "        self.inverse_translator = str.maketrans(self.alphabet_shifted, self.alphabet)\n",
    "    \n",
    "    def encode(self, text: str) -> str:\n",
    "        return text.translate(self.translator)\n",
    "                              \n",
    "    def decode(self, text: str) -> str:\n",
    "        return text.translate(self.inverse_translator)"
   ]
  },
  {
   "cell_type": "code",
   "execution_count": 11,
   "metadata": {},
   "outputs": [
    {
     "name": "stdout",
     "output_type": "stream",
     "text": [
      "у»юу»юн—нрешчджхирфнйдхьси»сгерфнхирисгрфнчспрмянш»рурнрчоихофнг»сехисшснсмесшсндыншчргевлнэо»хсерцожн»стрернчненьсчхьсшснкреернир»оедерзнсернэсшд1роьнгснг»отфнсудщо»хидлнхирйоинхн1р»яо»ртднгни»рхестнхочонэ»днгыфьдднэсхчомеошсн1р»яо»рнг»сехиджнэсхчонэ»вцирнеоюмрйеснсэюхьдчхфнернхомчснднхчстрчножнхэдеюнис1вчрн1вчрнс1»ойоернднгнхгфыднхнбьдтнэ»дхь»очоернш»рунсйоеянэо»оцдгрчноqншд1очяньринирин1вчнинеожнсйоеянхдчяеснэ»дгфыренднйюгхьгсгрчнхгс6нгдеюну»юу»юн»рххтрь»дгроьхфндххчомсгрьочфтдниринэ»смютреевжнхдтгсчнэр»рччочянинхюмя1оншчргесжншо»сдедн»стрерн—нреевнир»оедесжныртюцеожнцое0девнюнисьс»сжн1вчн»стренхнг»сехидтнйьснэ»дгочсноqнинхртсю1джхьгюндххчомсгрьочднерлсмфьнтесшснс10ошснгнсэдхредднбьдлнернэо»гвжнгышчфмнхсго»поеесн»рыесэчресгвлнэо»хсерцожнгнлр»риьо»онс1»р0оедднднйюгхьгрлнинедтнг»сехисшс\n"
     ]
    },
    {
     "data": {
      "text/plain": [
       "'фруфру — английская чистокровная скаковая лошадь графа алексея вронского одного из главных персонажей романа л н толстого «анна каренина» она погибает во время офицерских скачек с барьерами в красном селе при взятии последнего барьера вронский после прыжка неудачно опустился на седло и сломал ей спину кобыла была обречена и в связи с этим пристрелена граф очень переживал её гибель так как был к ней очень сильно привязан и чувствовал свою вину фруфру рассматривается исследователями как продуманный символ параллель к судьбе главной героини романа — анны карениной замужней женщины у которой был роман с вронским что привело её к самоубийству исследователи находят много общего в описании этих на первый взгляд совершенно разноплановых персонажей в характере обращении и чувствах к ним вронского'"
      ]
     },
     "execution_count": 11,
     "metadata": {},
     "output_type": "execute_result"
    }
   ],
   "source": [
    "# Проверим работоспособность\n",
    "ru_encoder = Encoder()\n",
    "test_text_1_encoded = ru_encoder.encode(TEST_TEXT_1)\n",
    "print(test_text_1_encoded)\n",
    "ru_encoder.decode(test_text_1_encoded)"
   ]
  },
  {
   "cell_type": "code",
   "execution_count": 12,
   "metadata": {},
   "outputs": [],
   "source": [
    "class CharFreqDecoder:\n",
    "    def __init__(self, lang_corp_stat: StatisticsChars):\n",
    "        self.corpora_stats = lang_corp_stat.char_freq\n",
    "        self.sorted_corpora_chars = lang_corp_stat.sorted_chars\n",
    "        \n",
    "    def decode_text(self, cifred_text: str) -> str:\n",
    "        text_stat = StatisticsChars(cifred_text)\n",
    "        sorted_text_chars = text_stat.sorted_chars\n",
    "        \n",
    "        min_len = min(len(sorted_text_chars), len(self.sorted_corpora_chars))\n",
    "\n",
    "        translator = str.maketrans(sorted_text_chars[:min_len], self.sorted_corpora_chars[:min_len])\n",
    "        return cifred_text.translate(translator)"
   ]
  },
  {
   "cell_type": "code",
   "execution_count": 13,
   "metadata": {},
   "outputs": [
    {
     "data": {
      "text/plain": [
       "'жтужту ю оапвиясроь чискертелаоь срорелоь веэогз птожо овнрснь лтеасрепе егаепе ий пволабш днтсеао–ня темоао в а кевскепе фоаао ротнаиао« еао депиыонк ле лтнмь ежи»нтсриш срочнр с ыотзнтоми л ртосаем снвн дти лйькии десвнганпе ыотзнто лтеасрия десвн дтб–ро анугочае едускивсь ао снгве и свемов ня сдиау реыбво ыбво еытнчнао и л сльйи с щким дтисктнвнао птож ечназ днтн–илов нц пиынвз кор рор ыбв р аня ечназ сивзае дтильйоа и чулсклелов сле… лиау жтужту тоссмоктилонксь иссвнгелокнвьми рор дтегумоаабя симлев дотоввнвз р сугзын пволаея пнтеиаи темоао ю оааб ротнаиаея йому–аня –нахиаб у рекетея ыбв темоа с лтеасрим чке дтилнве нц р сомеуыиясклу иссвнгелокнви аошегьк маепе еыхнпе л едисоаии щкиш ао днтлбя лйпвьг селнтэнаае тойаедвоаелбш днтсеао–ня л шоторкнтн еытохнаии и чулсклош р аим лтеасрепе'"
      ]
     },
     "execution_count": 13,
     "metadata": {},
     "output_type": "execute_result"
    }
   ],
   "source": [
    "char_decoder = CharFreqDecoder(stat_text_anna)\n",
    "test_text_1_decoded = char_decoder.decode_text(test_text_1_encoded)\n",
    "test_text_1_decoded"
   ]
  },
  {
   "cell_type": "code",
   "execution_count": 14,
   "metadata": {},
   "outputs": [],
   "source": [
    "def count_accuracy(text_1: str, text_2: str):\n",
    "    assert len(text_1) == len(text_2), 'Please, enter texts of equal lengths'\n",
    "    return sum(char_1 == char_2 for char_1, char_2 in zip(text_1, text_2)) / len(text_1)"
   ]
  },
  {
   "cell_type": "code",
   "execution_count": 15,
   "metadata": {},
   "outputs": [
    {
     "data": {
      "text/plain": [
       "0.31453634085213034"
      ]
     },
     "execution_count": 15,
     "metadata": {},
     "output_type": "execute_result"
    }
   ],
   "source": [
    "count_accuracy(TEST_TEXT_1, test_text_1_decoded)"
   ]
  },
  {
   "cell_type": "code",
   "execution_count": 16,
   "metadata": {},
   "outputs": [
    {
     "data": {
      "text/plain": [
       "(0.5828970331588132, 0.28846153846153844)"
      ]
     },
     "execution_count": 16,
     "metadata": {},
     "output_type": "execute_result"
    }
   ],
   "source": [
    " # Let us try on other examples\n",
    "test_text_2_encoded = ru_encoder.encode(TEST_TEXT_2)\n",
    "test_text_2_decoded = char_decoder.decode_text(test_text_2_encoded)\n",
    "test_text_3_encoded = ru_encoder.encode(TEST_TEXT_3)\n",
    "test_text_3_decoded = char_decoder.decode_text(test_text_3_encoded)\n",
    "count_accuracy(TEST_TEXT_2, test_text_2_decoded), count_accuracy(TEST_TEXT_3, test_text_3_decoded),"
   ]
  },
  {
   "cell_type": "code",
   "execution_count": 17,
   "metadata": {},
   "outputs": [
    {
     "data": {
      "text/plain": [
       "(0.3181818181818182, 0.6446124763705104, 0.2977667493796526)"
      ]
     },
     "execution_count": 17,
     "metadata": {},
     "output_type": "execute_result"
    }
   ],
   "source": [
    "# Скорее всего, дело в слишком большом алфавите. Давайте попробуем получше предобработать тексты \n",
    "ru_alphabet = ' ' + ''.join(chr(i) for i in range(ord('а'), ord('я') + 1))\n",
    "\n",
    "\n",
    "def adv_clean_text(inc_text: str, alphabet: str) -> str:\n",
    "    text = inc_text.lower()\n",
    "    text = ''.join([sym for sym in text if sym in alphabet])\n",
    "    return text\n",
    "\n",
    "text_anna = adv_clean_text(text_anna, ru_alphabet)\n",
    "stat_text_anna = StatisticsChars(text_anna)\n",
    "ru_encoder = Encoder(alphabet=ru_alphabet)\n",
    "\n",
    "char_decoder = CharFreqDecoder(stat_text_anna)\n",
    "\n",
    "TEST_TEXT_1 = adv_clean_text(TEST_TEXT_1, alphabet=ru_alphabet)\n",
    "TEST_TEXT_2 = adv_clean_text(TEST_TEXT_2, alphabet=ru_alphabet)\n",
    "TEST_TEXT_3 = adv_clean_text(TEST_TEXT_3, alphabet=ru_alphabet)\n",
    "test_text_1_encoded = ru_encoder.encode(TEST_TEXT_1)\n",
    "test_text_1_decoded = char_decoder.decode_text(test_text_1_encoded)\n",
    "test_text_2_encoded = ru_encoder.encode(TEST_TEXT_2)\n",
    "test_text_2_decoded = char_decoder.decode_text(test_text_2_encoded)\n",
    "test_text_3_encoded = ru_encoder.encode(TEST_TEXT_3)\n",
    "test_text_3_decoded = char_decoder.decode_text(test_text_3_encoded)\n",
    "count_accuracy(TEST_TEXT_1, test_text_1_decoded), count_accuracy(TEST_TEXT_2, test_text_2_decoded), count_accuracy(TEST_TEXT_3, test_text_3_decoded)"
   ]
  },
  {
   "cell_type": "code",
   "execution_count": 18,
   "metadata": {},
   "outputs": [
    {
     "data": {
      "text/plain": [
       "Statistics of the text is as follows \n",
       " : 0.1791119341267007\n",
       "о: 0.09445557867702054\n",
       "е: 0.07191370123215825\n",
       "а: 0.06810660791824229\n",
       "н: 0.057076738578429265\n",
       "и: 0.05459625385740092\n",
       "т: 0.049225262908116796\n",
       "с: 0.04369142653752249\n",
       "л: 0.041242929309965794\n",
       "в: 0.03871184619017321\n",
       "р: 0.03273716400046062\n",
       "к: 0.028183889702469784\n",
       "д: 0.024212787785662857\n",
       "м: 0.02357012996227802\n",
       "у: 0.02217547524691437\n",
       "п: 0.01982817481688614\n",
       "я: 0.0177059500227402\n",
       "ь: 0.0161990482848306\n",
       "ы: 0.015245820979375628\n",
       "г: 0.014942812177580606\n",
       "б: 0.014375761156946927\n",
       "ч: 0.013875593077208504\n",
       "з: 0.013446960664688482\n",
       "ж: 0.009317084462104126\n",
       "й: 0.008643602326828434\n",
       "ш: 0.007018637658468951\n",
       "х: 0.006389356423263166\n",
       "ю: 0.005124978044947662\n",
       "э: 0.0029190041769850566\n",
       "щ: 0.0023577690642553138\n",
       "ц: 0.0023222920260413094\n",
       "ф: 0.001035813197690852\n",
       "ъ: 0.00023961540564212857"
      ]
     },
     "execution_count": 18,
     "metadata": {},
     "output_type": "execute_result"
    }
   ],
   "source": [
    "stat_text_anna"
   ]
  },
  {
   "cell_type": "markdown",
   "metadata": {},
   "source": [
    "## 2 \n",
    "Вряд ли в результате получилась такая уж хорошая расшифровка, разве что если вы брали в качестве тестовых данных целые рассказы. Но и Шерлок Холмс был не так уж прост: после буквы E, которая действительно выделяется частотой, дальше он анализировал уже конкретные слова и пытался угадать, какими они могли бы быть. Я не знаю, как запрограммировать такой интуитивный анализ, так что давайте просто сделаем следующий логический шаг:\n",
    "- подсчитайте частоты биграмм (т.е. пар последовательных букв) по корпусам;\n",
    "- проведите тестирование аналогично п.1, но при помощи биграмм."
   ]
  },
  {
   "cell_type": "code",
   "execution_count": 19,
   "metadata": {},
   "outputs": [],
   "source": [
    "class StatisticsBigram:\n",
    "    def __init__(self, text: str):\n",
    "        self.income_text = text\n",
    "        bigrams = ngrams(text, 2)\n",
    "        self.bigram_counter = Counter(bigrams)\n",
    "        self.bigram_freq = dict()\n",
    "        length = len(text)\n",
    "        for bigram, count in self.bigram_counter.items():\n",
    "            self.bigram_freq[bigram] = count / length\n",
    "        self.sorted_bigrams = ''.join(''.join(bigram) for (bigram, freq) in sorted(\n",
    "            self.bigram_freq.items(), key=lambda x: x[1], reverse=True))\n",
    "     \n",
    "    def __repr__(self) -> str:\n",
    "        out_str = 'Statistics of the text is as follows \\n'\n",
    "        out_str += '\\n'.join((f'{bigram}: {freq}') for (bigram, freq) in sorted(self.bigram_freq.items(), key=lambda x: x[1], reverse=True))\n",
    "        return out_str"
   ]
  },
  {
   "cell_type": "code",
   "execution_count": 20,
   "metadata": {},
   "outputs": [],
   "source": [
    "class BigramFreqDecoder:\n",
    "    def __init__(self, lang_corp_stat: StatisticsBigram):\n",
    "        self.corpora_stats = lang_corp_stat.bigram_freq\n",
    "        self.sorted_corpora_bigrams = lang_corp_stat.sorted_bigrams\n",
    "\n",
    "    def decode_text(self, cifred_text: str) -> str:\n",
    "        text_stat = StatisticsBigram(cifred_text)\n",
    "        sorted_text_bigrams = text_stat.sorted_bigrams\n",
    " \n",
    "        min_len = min(len(sorted_text_bigrams), len(self.sorted_corpora_bigrams))\n",
    " \n",
    "        translator = str.maketrans(sorted_text_bigrams[:min_len], self.sorted_corpora_bigrams[:min_len])\n",
    "        return cifred_text.translate(translator)"
   ]
  },
  {
   "cell_type": "code",
   "execution_count": 21,
   "metadata": {},
   "outputs": [
    {
     "data": {
      "text/plain": [
       "(0.0, 0.10207939508506617, 0.0)"
      ]
     },
     "execution_count": 21,
     "metadata": {},
     "output_type": "execute_result"
    }
   ],
   "source": [
    "# Сделаем аналогичный анализ. Только теперь вместо алфавита набор биграмм\n",
    "\n",
    "text_anna = adv_clean_text(text_anna, ru_alphabet)\n",
    "stat_text_anna = StatisticsBigram(text_anna)\n",
    "ru_encoder = Encoder(alphabet=ru_alphabet)\n",
    "\n",
    "char_decoder = BigramFreqDecoder(stat_text_anna)\n",
    "\n",
    "TEST_TEXT_1 = adv_clean_text(TEST_TEXT_1, alphabet=ru_alphabet)\n",
    "TEST_TEXT_2 = adv_clean_text(TEST_TEXT_2, alphabet=ru_alphabet)\n",
    "TEST_TEXT_3 = adv_clean_text(TEST_TEXT_3, alphabet=ru_alphabet)\n",
    "test_text_1_encoded = ru_encoder.encode(TEST_TEXT_1)\n",
    "test_text_1_decoded = char_decoder.decode_text(test_text_1_encoded)\n",
    "test_text_2_encoded = ru_encoder.encode(TEST_TEXT_2)\n",
    "test_text_2_decoded = char_decoder.decode_text(test_text_2_encoded)\n",
    "test_text_3_encoded = ru_encoder.encode(TEST_TEXT_3)\n",
    "test_text_3_decoded = char_decoder.decode_text(test_text_3_encoded)\n",
    "count_accuracy(TEST_TEXT_1, test_text_1_decoded), count_accuracy(TEST_TEXT_2, test_text_2_decoded), count_accuracy(TEST_TEXT_3, test_text_3_decoded),"
   ]
  },
  {
   "cell_type": "markdown",
   "metadata": {},
   "source": [
    "## 3\n",
    "о и это ещё не всё: биграммы скорее всего тоже далеко не всегда работают. Основная часть задания — в том, как можно их улучшить:\n",
    "- предложите метод обучения перестановки символов в этом задании, основанный на MCMC-сэмплировании, но по-прежнему работающий на основе статистики биграмм;\n",
    "- реализуйте и протестируйте его, убедитесь, что результаты улучшились.\n",
    "Расшифруйте сообщение: \n",
    "> ←⇠⇒↟↹↷⇊↹↷↟↤↟↨←↹↝⇛⇯↳⇴⇒⇈↝⇊↾↹↟⇒↟↹⇷⇛⇞↨↟↹↝⇛⇯↳⇴⇒⇈↝⇊↾↹↨←⇌⇠↨↹⇙↹⇸↨⇛↙⇛↹⇠⇛⇛↲⇆←↝↟↞↹⇌⇛↨⇛⇯⇊↾↹⇒←↙⇌⇛↹⇷⇯⇛⇞↟↨⇴↨⇈↹⇠⇌⇛⇯←←↹↷⇠←↙⇛↹↷⇊↹↷⇠←↹⇠↤←⇒⇴⇒↟↹⇷⇯⇴↷↟⇒⇈↝⇛↹↟↹⇷⇛⇒⇙⇞↟↨←↹↳⇴⇌⇠↟↳⇴⇒⇈↝⇊↾↹↲⇴⇒⇒↹⇰⇴↹⇷⇛⇠⇒←↤↝←←↹⇞←↨↷←⇯↨⇛←↹⇰⇴↤⇴↝↟←↹⇌⇙⇯⇠⇴↹↘⇛↨↞↹⇌⇛↝←⇞↝⇛↹↞↹↝↟⇞←↙⇛↹↝←↹⇛↲←⇆⇴⇏\n",
    "\n",
    "Или это (они одинаковые, второй вариант просто на случай проблем с юникодом):\n",
    "> დჳჵჂႨშႼႨშჂხჂჲდႨსႹႭჾႣჵისႼჰႨჂჵჂႨႲႹႧჲჂႨსႹႭჾႣჵისႼჰႨჲდႩჳჲႨჇႨႠჲႹქႹႨჳႹႹჱჶდსჂႽႨႩႹჲႹႭႼჰႨჵდქႩႹႨႲႭႹႧჂჲႣჲიႨჳႩႹႭდდႨშჳდქႹႨშႼႨშჳდႨჳხდჵႣჵჂႨႲႭႣშჂჵისႹႨჂႨႲႹჵჇႧჂჲდႨჾႣႩჳჂჾႣჵისႼჰႨჱႣჵჵႨეႣႨႲႹჳჵდხსდდႨႧდჲშდ"
   ]
  },
  {
   "cell_type": "code",
   "execution_count": 22,
   "metadata": {},
   "outputs": [],
   "source": [
    "ALPHABET_RU = ' ' + ''.join(chr(symb) for symb in range(ord('а'), ord('я') + 1))"
   ]
  },
  {
   "cell_type": "code",
   "execution_count": 24,
   "metadata": {},
   "outputs": [],
   "source": [
    "class MCMCDecoder:\n",
    "    def __init__(self, text: str, alphabet: str = ALPHABET_RU):\n",
    "        self.alphabet = alphabet\n",
    "        self.alphabet_size = len(alphabet)\n",
    "        self.char_to_idx = {symb: i for i, symb in enumerate(alphabet)}\n",
    "        self.transition_matrix = np.zeros((self.alphabet_size, self.alphabet_size), dtype=float)\n",
    "    \n",
    "        text = self._adv_clean_text(text)\n",
    "        for i_position in range(len(text) - 1):\n",
    "            # Пройдёмся по всему тексту и построим матрицу переходов\n",
    "            self.transition_matrix[\n",
    "                self.char_to_idx[text[i_position]],\n",
    "                self.char_to_idx[text[i_position + 1]]\n",
    "            ] += 1.\n",
    "    \n",
    "        self.transition_matrix = np.clip(self.transition_matrix, a_min=1, a_max=None)\n",
    "        self.transition_matrix /= self.transition_matrix.sum(axis=1)\n",
    "        self.transition_matrix = np.log(self.transition_matrix)\n",
    "\n",
    "    def _adv_clean_text(self, text: str) -> str:\n",
    "        text = text.lower()\n",
    "        return ''.join([sym for sym in text if sym in self.alphabet])\n",
    "\n",
    "    @staticmethod\n",
    "    def swap_elements(llist: List[str], ind_0: int, ind_1: int) -> List[str]:\n",
    "        '''Swaps elements of ins ind_0 and ind_1 in llist'''\n",
    "        llist[ind_0], llist[ind_1] = llist[ind_1], llist[ind_0]\n",
    "        return llist\n",
    "    \n",
    "    def decode_text(self, decoding_text: str, num_iterations: int = 10000) -> str:\n",
    "        cur_permutation = list(self.alphabet).copy()\n",
    "        random.shuffle(cur_permutation)\n",
    "    \n",
    "        cur_log_likelihood = self.count_log_likelihood(decoding_text, cur_permutation)\n",
    "        likelihoods = [None] * num_iterations\n",
    "        best_permutation = cur_permutation.copy()\n",
    "        best_log_likelihood = cur_log_likelihood\n",
    "        for i in range(num_iterations):\n",
    "            ind_0, ind_1 = random.sample(list(range(self.alphabet_size)), 2)\n",
    "            cur_permutation = self.swap_elements(cur_permutation, ind_0, ind_1)\n",
    "            new_log_likelihood = self.count_log_likelihood(decoding_text, cur_permutation)\n",
    "            if new_log_likelihood > cur_log_likelihood:\n",
    "                cur_log_likelihood = new_log_likelihood\n",
    "                if new_log_likelihood > best_log_likelihood:\n",
    "                    best_log_likelihood = new_log_likelihood\n",
    "                    best_permutation = cur_permutation.copy()\n",
    "            else:\n",
    "                if random.random() < np.exp(new_log_likelihood - cur_log_likelihood):\n",
    "                    cur_log_likelihood = new_log_likelihood\n",
    "                else:\n",
    "                    cur_permutation = self.swap_elements(cur_permutation, ind_0, ind_1)\n",
    "            likelihoods[i] = cur_log_likelihood\n",
    "        decoded_text = self.to_translate(decoding_text, best_permutation)\n",
    "        return decoded_text, best_permutation, likelihoods\n",
    "    \n",
    "    def count_log_likelihood(self, text: str, permutation: List[str]) -> float:\n",
    "        text = self.to_translate(text, permutation)\n",
    "        log_likelihood = 0\n",
    "        for i_position in range(len(text) - 1):\n",
    "            log_likelihood += self.transition_matrix[\n",
    "                self.char_to_idx[text[i_position]],\n",
    "                self.char_to_idx[text[i_position + 1]]\n",
    "            ]\n",
    "        return log_likelihood\n",
    "    \n",
    "    def to_translate(self, text: str, permutation: List[str]) -> str:\n",
    "        translator = str.maketrans(self.alphabet, ''.join(permutation))\n",
    "        return text.translate(translator)"
   ]
  },
  {
   "cell_type": "code",
   "execution_count": 25,
   "metadata": {},
   "outputs": [],
   "source": [
    "mcmc_decoder = MCMCDecoder(text_anna)"
   ]
  },
  {
   "cell_type": "code",
   "execution_count": 26,
   "metadata": {
    "scrolled": false
   },
   "outputs": [
    {
     "data": {
      "image/png": "[encoded data removed]",
      "text/plain": [
       "<Figure size 432x288 with 1 Axes>"
      ]
     },
     "metadata": {
      "needs_background": "light"
     },
     "output_type": "display_data"
    },
    {
     "data": {
      "text/plain": [
       "(0.98989898989899,\n",
       " 'эюя абвгдешзийклмнопрстуфхцчжщъыь',\n",
       " 'фруфру  английская чистокровная скаковая ложадь графа алексея вронского одного из главных персонашей романа л н толстого анна каренина она погибает во время офицерских скачек с барьерами в красном селе при взятии последнего барьера вронский после прышка неудачно опустился на седло и сломал ей спину кобыла была обречена и в связи с этим пристрелена граф очень перешивал е гибель так как был к ней очень сильно привязан и чувствовал свою вину фруфру рассматривается исследователями как продуманный символ параллель к судьбе главной героини романа  анны карениной замушней шенщины у которой был роман с вронским что привело е к самоубийству исследователи находят много общего в описании этих на первый взгляд соверженно разноплановых персонашей в характере обращении и чувствах к ним вронского')"
      ]
     },
     "execution_count": 26,
     "metadata": {},
     "output_type": "execute_result"
    }
   ],
   "source": [
    "t, m, l = mcmc_decoder.decode_text(test_text_1_encoded, 100000)\n",
    "plt.plot(l)\n",
    "plt.show()\n",
    "count_accuracy(t, TEST_TEXT_1), ''.join(m), t"
   ]
  },
  {
   "cell_type": "code",
   "execution_count": 34,
   "metadata": {},
   "outputs": [
    {
     "data": {
      "image/png": "[encoded data removed]",
      "text/plain": [
       "<Figure size 432x288 with 1 Axes>"
      ]
     },
     "metadata": {
      "needs_background": "light"
     },
     "output_type": "display_data"
    },
    {
     "data": {
      "text/plain": [
       "(0.9867674858223062,\n",
       " 'эюя абвгдежзийклмнопрстуцхщчшъфыь',\n",
       " 'цактически злоумышленники могут перепрограммировать такие метки и распространять через них ссылки на зараженные сайты и использовать в других злонамеренных щелях включая удаленную слежку за человеком обычно  перенаправляет на вебсайт  для отображения инцормащии о режиме пропажи связанной с владельщем вероятно что  выпустит обновление безопасности для этого устройства после инщидента с публикащией   если компания подтвердит возможность такого взлома программы по вознаграждению за найденные уязвимости у  по этому гаджету нет ')"
      ]
     },
     "execution_count": 34,
     "metadata": {},
     "output_type": "execute_result"
    }
   ],
   "source": [
    "t, m, l = mcmc_decoder.decode_text(test_text_2_encoded, 150_000)\n",
    "plt.plot(l)\n",
    "plt.show()\n",
    "count_accuracy(t, TEST_TEXT_2), ''.join(m), t"
   ]
  },
  {
   "cell_type": "code",
   "execution_count": 37,
   "metadata": {},
   "outputs": [
    {
     "data": {
      "image/png": "[encoded data removed]",
      "text/plain": [
       "<Figure size 432x288 with 1 Axes>"
      ]
     },
     "metadata": {
      "needs_background": "light"
     },
     "output_type": "display_data"
    },
    {
     "data": {
      "text/plain": [
       "(0.9900744416873449,\n",
       " 'эюя абвгдежзийклмнопрстуфхшчцщъыь',\n",
       " 'астрономы открыли нового космического орка  гигантскую кольшеобразную структуру видимую в радиодиапазоне в ее шентре оказалась эллиптическая галактика что позволило связать подобные объекты с прошессами взаимодействия галактик с окружающей средой или активностью сверхмассивных черных дыр дальнейцие наблюдения за орками должны подтвердить или опровергнуть эти идеи препринт работы опубликован на сайте ')"
      ]
     },
     "execution_count": 37,
     "metadata": {},
     "output_type": "execute_result"
    }
   ],
   "source": [
    "t, m, l = mcmc_decoder.decode_text(test_text_3_encoded, 200_000)\n",
    "plt.plot(l)\n",
    "plt.show()\n",
    "count_accuracy(t, TEST_TEXT_3), ''.join(m), t"
   ]
  },
  {
   "cell_type": "markdown",
   "metadata": {},
   "source": [
    "Тестовые тексты имеют разные длины. Чем короче текст, тем больше итераций нужно для достижения нормальной расшифровки."
   ]
  },
  {
   "cell_type": "markdown",
   "metadata": {},
   "source": [
    "#### Теперь расшифруем сообщения "
   ]
  },
  {
   "cell_type": "code",
   "execution_count": 47,
   "metadata": {},
   "outputs": [],
   "source": [
    "text_1 = '←⇠⇒↟↹↷⇊↹↷↟↤↟↨←↹↝⇛⇯↳⇴⇒⇈↝⇊↾↹↟⇒↟↹⇷⇛⇞↨↟↹↝⇛⇯↳⇴⇒⇈↝⇊↾↹↨←⇌⇠↨↹⇙↹⇸↨⇛↙⇛↹⇠⇛⇛↲⇆←↝↟↞↹⇌⇛↨⇛⇯⇊↾↹⇒←↙⇌⇛↹⇷⇯⇛⇞↟↨⇴↨⇈↹⇠⇌⇛⇯←←↹↷⇠←↙⇛↹↷⇊↹↷⇠←↹⇠↤←⇒⇴⇒↟↹⇷⇯⇴↷↟⇒⇈↝⇛↹↟↹⇷⇛⇒⇙⇞↟↨←↹↳⇴⇌⇠↟↳⇴⇒⇈↝⇊↾↹↲⇴⇒⇒↹⇰⇴↹⇷⇛⇠⇒←↤↝←←↹⇞←↨↷←⇯↨⇛←↹⇰⇴↤⇴↝↟←↹⇌⇙⇯⇠⇴↹↘⇛↨↞↹⇌⇛↝←⇞↝⇛↹↞↹↝↟⇞←↙⇛↹↝←↹⇛↲←⇆⇴⇏'\n",
    "text_1_alph = ''.join(set(text_1))\n",
    "translator = str.maketrans(text_1_alph, ALPHABET_RU[:len(text_1_alph)])\n",
    "text_1_rus = text_1.translate(translator)"
   ]
  },
  {
   "cell_type": "code",
   "execution_count": 52,
   "metadata": {},
   "outputs": [
    {
     "data": {
      "image/png": "[encoded data removed]",
      "text/plain": [
       "<Figure size 432x288 with 1 Axes>"
      ]
     },
     "metadata": {
      "needs_background": "light"
     },
     "output_type": "display_data"
    },
    {
     "data": {
      "text/plain": [
       "('в эдуамрспзыилчтнфхгьбякщейожъюшц',\n",
       " 'если вы вимите нордальный или почти нордальный текст у этого сообщения который легко прочитать скорее всего вы все смелали правильно и получите даксидальный балл за послемнее четвертое замание курса хотя конечно я ничего не обещаф')"
      ]
     },
     "execution_count": 52,
     "metadata": {},
     "output_type": "execute_result"
    }
   ],
   "source": [
    "t, m, l = mcmc_decoder.decode_text(text_1_rus, 200_000)\n",
    "plt.plot(l)\n",
    "plt.show()\n",
    "''.join(m), t"
   ]
  },
  {
   "cell_type": "code",
   "execution_count": 57,
   "metadata": {
    "scrolled": true
   },
   "outputs": [
    {
     "data": {
      "image/png": "[encoded data removed]",
      "text/plain": [
       "<Figure size 432x288 with 1 Axes>"
      ]
     },
     "metadata": {
      "needs_background": "light"
     },
     "output_type": "display_data"
    },
    {
     "data": {
      "text/plain": [
       "('умгьдптзбирсянлыщочекв йэажюцшфхъ',\n",
       " 'если вы вимите нордальный или почти нордальный текст у этого сообщения который легко прочитать скорее всего вы все смелали правильно и получите даксидальный балл за послемнее четве')"
      ]
     },
     "execution_count": 57,
     "metadata": {},
     "output_type": "execute_result"
    }
   ],
   "source": [
    "text_2 = 'დჳჵჂႨშႼႨშჂხჂჲდႨსႹႭჾႣჵისႼჰႨჂჵჂႨႲႹႧჲჂႨსႹႭჾႣჵისႼჰႨჲდႩჳჲႨჇႨႠჲႹქႹႨჳႹႹჱჶდსჂႽႨႩႹჲႹႭႼჰႨჵდქႩႹႨႲႭႹႧჂჲႣჲიႨჳႩႹႭდდႨშჳდქႹႨშႼႨშჳდႨჳხდჵႣჵჂႨႲႭႣშჂჵისႹႨჂႨႲႹჵჇႧჂჲდႨჾႣႩჳჂჾႣჵისႼჰႨჱႣჵჵႨეႣႨႲႹჳჵდხსდდႨႧდჲშდ'\n",
    "text_2_alph = ''.join(set(text_2))\n",
    "translator = str.maketrans(text_2_alph, ALPHABET_RU[:len(text_2_alph)])\n",
    "text_2_rus = text_2.translate(translator)\n",
    "\n",
    "t, m, l = mcmc_decoder.decode_text(text_2_rus, 450_000)\n",
    "plt.plot(l)\n",
    "plt.show()\n",
    "''.join(m), t"
   ]
  },
  {
   "cell_type": "markdown",
   "metadata": {},
   "source": [
    "### BONUS\n",
    "\n",
    "Бонус: а что если от биграмм перейти к триграммам (тройкам букв) или даже больше? Улучшатся ли результаты? Когда улучшатся, а когда нет? Чтобы ответить на этот вопрос эмпирически, уже может понадобиться погенерировать много тестовых перестановок и последить за метриками, глазами может быть и не видно."
   ]
  },
  {
   "cell_type": "markdown",
   "metadata": {},
   "source": [
    "Перейдём теперь от биграмм к триграммам "
   ]
  },
  {
   "cell_type": "code",
   "execution_count": 59,
   "metadata": {},
   "outputs": [],
   "source": [
    "class MCMCTrigramDecoder:\n",
    "    def __init__(self, text: str, alphabet: str = ALPHABET_RU):\n",
    "        self.alphabet = alphabet\n",
    "        self.alphabet_size = len(alphabet)\n",
    "        self.char_to_idx = {symb: i for i, symb in enumerate(alphabet)}\n",
    "        self.transition_matrix = np.zeros((\n",
    "            self.alphabet_size, self.alphabet_size, self.alphabet_size\n",
    "        ), dtype=float)\n",
    "    \n",
    "        text = self._adv_clean_text(text)\n",
    "        for i_position in range(len(text) - 2):\n",
    "            # Пройдёмся по всему тексту и построим матрицу переходов\n",
    "            self.transition_matrix[\n",
    "                self.char_to_idx[text[i_position]],\n",
    "                self.char_to_idx[text[i_position + 1]], \n",
    "                self.char_to_idx[text[i_position + 2]]\n",
    "            ] += 1.\n",
    "    \n",
    "        self.transition_matrix = np.clip(self.transition_matrix, a_min=1, a_max=None)\n",
    "        self.transition_matrix /= self.transition_matrix.sum(axis=(1, 2))\n",
    "        self.transition_matrix = np.log(self.transition_matrix)\n",
    "\n",
    "    def _adv_clean_text(self, text: str) -> str:\n",
    "        text = text.lower()\n",
    "        return ''.join([sym for sym in text if sym in self.alphabet])\n",
    "\n",
    "    @staticmethod\n",
    "    def swap_elements(llist: List[str], ind_0: int, ind_1: int) -> List[str]:\n",
    "        '''Swaps elements of ins ind_0 and ind_1 in llist'''\n",
    "        llist[ind_0], llist[ind_1] = llist[ind_1], llist[ind_0]\n",
    "        return llist\n",
    "    \n",
    "    def decode_text(self, decoding_text: str, num_iterations: int = 10000) -> str:\n",
    "        cur_permutation = list(self.alphabet).copy()\n",
    "        random.shuffle(cur_permutation)\n",
    "    \n",
    "        cur_log_likelihood = self.count_log_likelihood(decoding_text, cur_permutation)\n",
    "        likelihoods = [None] * num_iterations\n",
    "        best_permutation = cur_permutation.copy()\n",
    "        best_log_likelihood = cur_log_likelihood\n",
    "        for i in range(num_iterations):\n",
    "            ind_0, ind_1 = random.sample(list(range(self.alphabet_size)), 2)\n",
    "            cur_permutation = self.swap_elements(cur_permutation, ind_0, ind_1)\n",
    "            new_log_likelihood = self.count_log_likelihood(decoding_text, cur_permutation)\n",
    "            if new_log_likelihood > cur_log_likelihood:\n",
    "                cur_log_likelihood = new_log_likelihood\n",
    "                if new_log_likelihood > best_log_likelihood:\n",
    "                    best_log_likelihood = new_log_likelihood\n",
    "                    best_permutation = cur_permutation.copy()\n",
    "            else:\n",
    "                if random.random() < np.exp(new_log_likelihood - cur_log_likelihood):\n",
    "                    cur_log_likelihood = new_log_likelihood\n",
    "                else:\n",
    "                    cur_permutation = self.swap_elements(cur_permutation, ind_0, ind_1)\n",
    "            likelihoods[i] = cur_log_likelihood\n",
    "        decoded_text = self.to_translate(decoding_text, best_permutation)\n",
    "        return decoded_text, best_permutation, likelihoods\n",
    "    \n",
    "    def count_log_likelihood(self, text: str, permutation: List[str]) -> float:\n",
    "        text = self.to_translate(text, permutation)\n",
    "        log_likelihood = 0\n",
    "        for i_position in range(len(text) - 2):\n",
    "            log_likelihood += self.transition_matrix[\n",
    "                self.char_to_idx[text[i_position]],\n",
    "                self.char_to_idx[text[i_position + 1]],\n",
    "                self.char_to_idx[text[i_position + 2]]\n",
    "            ]\n",
    "        return log_likelihood\n",
    "    \n",
    "    def to_translate(self, text: str, permutation: List[str]) -> str:\n",
    "        translator = str.maketrans(self.alphabet, ''.join(permutation))\n",
    "        return text.translate(translator)"
   ]
  },
  {
   "cell_type": "code",
   "execution_count": 60,
   "metadata": {},
   "outputs": [],
   "source": [
    "mcmc_trigram_decoder = MCMCTrigramDecoder(text=text_anna)"
   ]
  },
  {
   "cell_type": "code",
   "execution_count": 61,
   "metadata": {
    "scrolled": false
   },
   "outputs": [
    {
     "data": {
      "image/png": "[encoded data removed]",
      "text/plain": [
       "<Figure size 432x288 with 1 Axes>"
      ]
     },
     "metadata": {
      "needs_background": "light"
     },
     "output_type": "display_data"
    },
    {
     "data": {
      "text/plain": [
       "(1.0,\n",
       " 'эюя абвгдежзийклмнопрстуфхцчшщъыь',\n",
       " 'фруфру  английская чистокровная скаковая лошадь графа алексея вронского одного из главных персонажей романа л н толстого анна каренина она погибает во время офицерских скачек с барьерами в красном селе при взятии последнего барьера вронский после прыжка неудачно опустился на седло и сломал ей спину кобыла была обречена и в связи с этим пристрелена граф очень переживал е гибель так как был к ней очень сильно привязан и чувствовал свою вину фруфру рассматривается исследователями как продуманный символ параллель к судьбе главной героини романа  анны карениной замужней женщины у которой был роман с вронским что привело е к самоубийству исследователи находят много общего в описании этих на первый взгляд совершенно разноплановых персонажей в характере обращении и чувствах к ним вронского')"
      ]
     },
     "execution_count": 61,
     "metadata": {},
     "output_type": "execute_result"
    }
   ],
   "source": [
    "t, m, l = mcmc_trigram_decoder.decode_text(test_text_1_encoded, 100_000)\n",
    "plt.plot(l)\n",
    "plt.show()\n",
    "count_accuracy(t, TEST_TEXT_1), ''.join(m), t"
   ]
  },
  {
   "cell_type": "code",
   "execution_count": 66,
   "metadata": {},
   "outputs": [
    {
     "data": {
      "image/png": "[encoded data removed]",
      "text/plain": [
       "<Figure size 432x288 with 1 Axes>"
      ]
     },
     "metadata": {
      "needs_background": "light"
     },
     "output_type": "display_data"
    },
    {
     "data": {
      "text/plain": [
       "(1.0,\n",
       " 'эюя абвгдежзийклмнопрстуфхцчшъщыь',\n",
       " 'фактически злоумышленники могут перепрограммировать такие метки и распространять через них ссылки на зараженные сайты и использовать в других злонамеренных целях включая удаленную слежку за человеком обычно  перенаправляет на вебсайт  для отображения информации о режиме пропажи связанной с владельцем вероятно что  выпустит обновление безопасности для этого устройства после инцидента с публикацией   если компания подтвердит возможность такого взлома программы по вознаграждению за найденные уязвимости у  по этому гаджету нет ')"
      ]
     },
     "execution_count": 66,
     "metadata": {},
     "output_type": "execute_result"
    }
   ],
   "source": [
    "t, m, l = mcmc_trigram_decoder.decode_text(test_text_2_encoded, 300_000)\n",
    "plt.plot(l)\n",
    "plt.show()\n",
    "count_accuracy(t, TEST_TEXT_2), ''.join(m), t"
   ]
  },
  {
   "cell_type": "code",
   "execution_count": 65,
   "metadata": {},
   "outputs": [
    {
     "data": {
      "image/png": "[encoded data removed]",
      "text/plain": [
       "<Figure size 432x288 with 1 Axes>"
      ]
     },
     "metadata": {
      "needs_background": "light"
     },
     "output_type": "display_data"
    },
    {
     "data": {
      "text/plain": [
       "(0.9900744416873449,\n",
       " 'эюя абвгдежзийклмнопрстуфхшчцщъыь',\n",
       " 'астрономы открыли нового космического орка  гигантскую кольшеобразную структуру видимую в радиодиапазоне в ее шентре оказалась эллиптическая галактика что позволило связать подобные объекты с прошессами взаимодействия галактик с окружающей средой или активностью сверхмассивных черных дыр дальнейцие наблюдения за орками должны подтвердить или опровергнуть эти идеи препринт работы опубликован на сайте ')"
      ]
     },
     "execution_count": 65,
     "metadata": {},
     "output_type": "execute_result"
    }
   ],
   "source": [
    "t, m, l = mcmc_decoder.decode_text(test_text_3_encoded, 300_000)\n",
    "plt.plot(l)\n",
    "plt.show()\n",
    "count_accuracy(t, TEST_TEXT_3), ''.join(m), t"
   ]
  },
  {
   "cell_type": "markdown",
   "metadata": {},
   "source": [
    "Попробовал запустить алгоритм с теми же параметрами, что и биграммы. Получилось неплохо (это скромно сказано). "
   ]
  },
  {
   "cell_type": "markdown",
   "metadata": {},
   "source": [
    " Бонус: какие вы можете придумать применения для этой модели? Пляшущие человечки ведь не так часто встречаются в жизни (хотя встречаются! и это самое потрясающее во всей этой истории, но об этом я расскажу потом)."
   ]
  },
  {
   "cell_type": "markdown",
   "metadata": {},
   "source": []
  }
 ],
 "metadata": {
  "kernelspec": {
   "display_name": "Python 3",
   "language": "python",
   "name": "python3"
  },
  "language_info": {
   "codemirror_mode": {
    "name": "ipython",
    "version": 3
   },
   "file_extension": ".py",
   "mimetype": "text/x-python",
   "name": "python",
   "nbconvert_exporter": "python",
   "pygments_lexer": "ipython3",
   "version": "3.8.5"
  }
 },
 "nbformat": 4,
 "nbformat_minor": 4
}
